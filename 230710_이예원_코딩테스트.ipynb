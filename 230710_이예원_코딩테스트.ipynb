{
 "cells": [
  {
   "cell_type": "code",
   "execution_count": 1,
   "id": "84f46f8f",
   "metadata": {},
   "outputs": [],
   "source": [
    "# 문제 1: 가로 70cm, 높이 144cm의 삼각형이 있을 때, 빗변의 길이를 구하라"
   ]
  },
  {
   "cell_type": "code",
   "execution_count": 4,
   "id": "171f9060",
   "metadata": {},
   "outputs": [],
   "source": [
    "a = 70\n",
    "b = 144"
   ]
  },
  {
   "cell_type": "code",
   "execution_count": 7,
   "id": "e3989dd5",
   "metadata": {},
   "outputs": [],
   "source": [
    "ans = (a**2 + b**2)**(1/2)"
   ]
  },
  {
   "cell_type": "code",
   "execution_count": 10,
   "id": "d0003acd",
   "metadata": {},
   "outputs": [
    {
     "name": "stdout",
     "output_type": "stream",
     "text": [
      "빗변의 길이:  160.11246047700348\n"
     ]
    }
   ],
   "source": [
    "print('빗변의 길이: ', ans)"
   ]
  },
  {
   "cell_type": "code",
   "execution_count": 11,
   "id": "752268e1",
   "metadata": {},
   "outputs": [],
   "source": [
    "# 문제 2: a = 55.994이고, b = 75일 때, a를 일의 자릿수까지 반올림한 숫자와, b의 절댓값 중 큰 것을 구하라"
   ]
  },
  {
   "cell_type": "code",
   "execution_count": 12,
   "id": "dccc49d4",
   "metadata": {},
   "outputs": [],
   "source": [
    "a = 55.994\n",
    "b = 75"
   ]
  },
  {
   "cell_type": "code",
   "execution_count": 13,
   "id": "9189aaf1",
   "metadata": {},
   "outputs": [],
   "source": [
    "a = round(a)"
   ]
  },
  {
   "cell_type": "code",
   "execution_count": 14,
   "id": "abced105",
   "metadata": {},
   "outputs": [
    {
     "data": {
      "text/plain": [
       "56"
      ]
     },
     "execution_count": 14,
     "metadata": {},
     "output_type": "execute_result"
    }
   ],
   "source": [
    "a"
   ]
  },
  {
   "cell_type": "code",
   "execution_count": 16,
   "id": "e298e8bf",
   "metadata": {},
   "outputs": [
    {
     "name": "stdout",
     "output_type": "stream",
     "text": [
      "a=56 와 b=75 중 더 큰 숫자는 75 입니다.\n"
     ]
    }
   ],
   "source": [
    "print('a=56 와 b=75 중 더 큰 숫자는', b , '입니다.' )"
   ]
  },
  {
   "cell_type": "code",
   "execution_count": 19,
   "id": "66c21bd5",
   "metadata": {},
   "outputs": [],
   "source": [
    "# [문제 3~7] 은 주어진 lorem의 값을 이용한다 (자릿수는 1부터 세도록 한다)"
   ]
  },
  {
   "cell_type": "code",
   "execution_count": 18,
   "id": "16a59f3f",
   "metadata": {},
   "outputs": [],
   "source": [
    "lorem = '''There are many variations of passages of Lorem Ipsum available, but the majority have suffered alteration in some form, by injected humour, or randomised words which don't look even slightly believable. If you are going to use a passage of Lorem Ipsum, you need to be sure there isn't anything embarrassing hidden in the middle of text. All the Lorem Ipsum generators on the Internet tend to repeat predefined chunks as necessary, making this the first true generator on the Internet. It uses a dictionary of over 200 Latin words, combined with a handful of model sentence structures, to generate Lorem Ipsum which looks reasonable. The generated Lorem Ipsum is therefore always free from repetition, injected humour, or non-characteristic words etc.'''"
   ]
  },
  {
   "cell_type": "code",
   "execution_count": null,
   "id": "6c7fd93f",
   "metadata": {},
   "outputs": [],
   "source": [
    "# 문제 3: lorem의 400번째 자리 글자를 구하라"
   ]
  },
  {
   "cell_type": "code",
   "execution_count": 37,
   "id": "358521ad",
   "metadata": {},
   "outputs": [
    {
     "name": "stdout",
     "output_type": "stream",
     "text": [
      "문제 3의 답은 r 입니다.\n"
     ]
    }
   ],
   "source": [
    "print('문제 3의 답은',lorem[400], '입니다.')"
   ]
  },
  {
   "cell_type": "code",
   "execution_count": 30,
   "id": "45555357",
   "metadata": {},
   "outputs": [],
   "source": [
    "# 문제 4: lorem의 뒤에서 3번째부터 뒤에서 99번째까지의 글자를 구하라"
   ]
  },
  {
   "cell_type": "code",
   "execution_count": 38,
   "id": "5ff3701f",
   "metadata": {},
   "outputs": [
    {
     "name": "stdout",
     "output_type": "stream",
     "text": [
      "문제 4의 답: te sdrow citsiretcarahc-non ro ,ruomuh detcejni ,noititeper morf eerf syawla erofereht si muspI meroL detareneg ehT .elbanosaer skool hcihw muspI meroL etareneg ot ,serutcurts ecnetnes ledom fo lufdnah a htiw denibmoc ,sdrow nitaL 002 revo fo yranoitcid a sesu tI .tenretnI eht no rotareneg eurt tsrif eht siht gnikam ,yrassecen sa sknuhc denifederp taeper ot dnet tenretnI eht no srotareneg muspI meroL eht llA .txet fo elddim eht ni neddih gnissarrabme gnihtyna t'nsi ereht erus eb ot deen uoy ,muspI meroL fo egassap a esu ot gniog era uoy fI .elbaveileb ylthgils neve kool t'nod hcihw sdrow desimodnar ro ,ruomuh detcejni yb ,mrof emos ni noita\n"
     ]
    }
   ],
   "source": [
    "print('문제 4의 답:',lorem[-3:99:-1])"
   ]
  },
  {
   "cell_type": "code",
   "execution_count": 32,
   "id": "d45cc981",
   "metadata": {},
   "outputs": [],
   "source": [
    "# 문제 5: lorem의 글자 중 27번째 글자를 대문자로 바꾸어라"
   ]
  },
  {
   "cell_type": "code",
   "execution_count": 39,
   "id": "c4c53ef6",
   "metadata": {},
   "outputs": [
    {
     "name": "stdout",
     "output_type": "stream",
     "text": [
      "문제 5의 답: F\n"
     ]
    }
   ],
   "source": [
    "print('문제 5의 답:',lorem[27].upper())"
   ]
  },
  {
   "cell_type": "code",
   "execution_count": 40,
   "id": "894b06f3",
   "metadata": {},
   "outputs": [],
   "source": [
    "# 문제 6: lorem의 띄어쓰기를 제거해 lorem2 변수로 저장하라"
   ]
  },
  {
   "cell_type": "code",
   "execution_count": 42,
   "id": "d042ad9c",
   "metadata": {},
   "outputs": [],
   "source": [
    "lorem2=lorem.replace(' ','')"
   ]
  },
  {
   "cell_type": "code",
   "execution_count": 43,
   "id": "1057da12",
   "metadata": {},
   "outputs": [
    {
     "name": "stdout",
     "output_type": "stream",
     "text": [
      "문제 6의 답: TherearemanyvariationsofpassagesofLoremIpsumavailable,butthemajorityhavesufferedalterationinsomeform,byinjectedhumour,orrandomisedwordswhichdon'tlookevenslightlybelievable.IfyouaregoingtouseapassageofLoremIpsum,youneedtobesurethereisn'tanythingembarrassinghiddeninthemiddleoftext.AlltheLoremIpsumgeneratorsontheInternettendtorepeatpredefinedchunksasnecessary,makingthisthefirsttruegeneratorontheInternet.Itusesadictionaryofover200Latinwords,combinedwithahandfulofmodelsentencestructures,togenerateLoremIpsumwhichlooksreasonable.ThegeneratedLoremIpsumisthereforealwaysfreefromrepetition,injectedhumour,ornon-characteristicwordsetc.\n"
     ]
    }
   ],
   "source": [
    "print('문제 6의 답:',lorem2)"
   ]
  },
  {
   "cell_type": "code",
   "execution_count": 44,
   "id": "437a7a9a",
   "metadata": {},
   "outputs": [],
   "source": [
    "# 문제 7: lorem의 값을 -(하이픈)을 기준으로 나누어라"
   ]
  },
  {
   "cell_type": "code",
   "execution_count": 46,
   "id": "72fe2477",
   "metadata": {},
   "outputs": [
    {
     "name": "stdout",
     "output_type": "stream",
     "text": [
      "문제 7의 답: [\"There are many variations of passages of Lorem Ipsum available, but the majority have suffered alteration in some form, by injected humour, or randomised words which don't look even slightly believable. If you are going to use a passage of Lorem Ipsum, you need to be sure there isn't anything embarrassing hidden in the middle of text. All the Lorem Ipsum generators on the Internet tend to repeat predefined chunks as necessary, making this the first true generator on the Internet. It uses a dictionary of over 200 Latin words, combined with a handful of model sentence structures, to generate Lorem Ipsum which looks reasonable. The generated Lorem Ipsum is therefore always free from repetition, injected humour, or non\", 'characteristic words etc.']\n"
     ]
    }
   ],
   "source": [
    "print('문제 7의 답:',lorem.split('-'))"
   ]
  },
  {
   "cell_type": "code",
   "execution_count": 47,
   "id": "5c09e4d6",
   "metadata": {},
   "outputs": [],
   "source": [
    "# 문제 8: 100 < x < 806 범위 안에서, x가 홀수일 때 x의 합을 구하라"
   ]
  },
  {
   "cell_type": "code",
   "execution_count": 58,
   "id": "8031d682",
   "metadata": {},
   "outputs": [],
   "source": [
    "for i in range(101,806):\n",
    "    if i % 2 == 1:\n",
    "        i += i"
   ]
  },
  {
   "cell_type": "code",
   "execution_count": 60,
   "id": "1bcfc18b",
   "metadata": {},
   "outputs": [
    {
     "name": "stdout",
     "output_type": "stream",
     "text": [
      "문제 8의 답: 1610\n"
     ]
    }
   ],
   "source": [
    "print('문제 8의 답:',i)"
   ]
  },
  {
   "cell_type": "code",
   "execution_count": 61,
   "id": "c67b32ad",
   "metadata": {},
   "outputs": [],
   "source": [
    "# [문제 9] 는 주어진 lorem2의 값을 이용한다"
   ]
  },
  {
   "cell_type": "code",
   "execution_count": 63,
   "id": "d0bbcb4e",
   "metadata": {},
   "outputs": [],
   "source": [
    "lorem2 = '''Contrary to popular belief, Lorem Ipsum is not simply random text. \n",
    "It has roots in a piece of classical Latin literature from 45 BC, \n",
    "making it over 2000 years old. Richard McClintock, a Latin \n",
    "professor at Hampden-Sydney College in Virginia, looked up one of \n",
    "the more obscure Latin words, consectetur, from a Lorem Ipsum \n",
    "passage, and going through the cites of the word in classical \n",
    "literature, discovered the undoubtable source. Lorem Ipsum \n",
    "omes from sections 1.10.32 and 1.10.33 of \"de Finibus Bonorum \n",
    "et Malorum\" (The Extremes of Good and Evil) by Cicero, written in 45 BC. \n",
    "This book is a treatise on the theory of ethics, very popular during \n",
    "the Renaissance. The first line of Lorem Ipsum, \"Lorem ipsum dolor sit \n",
    "amet..\", comes from a line in section 1.10.32.'''"
   ]
  },
  {
   "cell_type": "code",
   "execution_count": 64,
   "id": "3c8ddb4d",
   "metadata": {},
   "outputs": [],
   "source": [
    "# 문제 9: lorem2를 짝수 줄만 출력하라"
   ]
  },
  {
   "cell_type": "code",
   "execution_count": 66,
   "id": "9306815c",
   "metadata": {},
   "outputs": [
    {
     "name": "stdout",
     "output_type": "stream",
     "text": [
      "Contrary to popular belief, Lorem Ipsum is not simply random text. \n",
      "It has roots in a piece of classical Latin literature from 45 BC, \n",
      "making it over 2000 years old. Richard McClintock, a Latin \n",
      "professor at Hampden-Sydney College in Virginia, looked up one of \n",
      "the more obscure Latin words, consectetur, from a Lorem Ipsum \n",
      "passage, and going through the cites of the word in classical \n",
      "literature, discovered the undoubtable source. Lorem Ipsum \n",
      "omes from sections 1.10.32 and 1.10.33 of \"de Finibus Bonorum \n",
      "et Malorum\" (The Extremes of Good and Evil) by Cicero, written in 45 BC. \n",
      "This book is a treatise on the theory of ethics, very popular during \n",
      "the Renaissance. The first line of Lorem Ipsum, \"Lorem ipsum dolor sit \n",
      "amet..\", comes from a line in section 1.10.32.\n"
     ]
    }
   ],
   "source": [
    "print(lorem2)"
   ]
  },
  {
   "cell_type": "code",
   "execution_count": 69,
   "id": "0a0ef7bd",
   "metadata": {},
   "outputs": [],
   "source": [
    "s = lorem2.split(\". \")"
   ]
  },
  {
   "cell_type": "code",
   "execution_count": 80,
   "id": "58e5c894",
   "metadata": {},
   "outputs": [
    {
     "data": {
      "text/plain": [
       "['Contrary to popular belief, Lorem Ipsum is not simply random text',\n",
       " '\\nIt has roots in a piece of classical Latin literature from 45 BC, \\nmaking it over 2000 years old',\n",
       " 'Richard McClintock, a Latin \\nprofessor at Hampden-Sydney College in Virginia, looked up one of \\nthe more obscure Latin words, consectetur, from a Lorem Ipsum \\npassage, and going through the cites of the word in classical \\nliterature, discovered the undoubtable source',\n",
       " 'Lorem Ipsum \\nomes from sections 1.10.32 and 1.10.33 of \"de Finibus Bonorum \\net Malorum\" (The Extremes of Good and Evil) by Cicero, written in 45 BC',\n",
       " '\\nThis book is a treatise on the theory of ethics, very popular during \\nthe Renaissance',\n",
       " 'The first line of Lorem Ipsum, \"Lorem ipsum dolor sit \\namet..\", comes from a line in section 1.10.32.']"
      ]
     },
     "execution_count": 80,
     "metadata": {},
     "output_type": "execute_result"
    }
   ],
   "source": [
    "s"
   ]
  },
  {
   "cell_type": "code",
   "execution_count": 83,
   "id": "dd5f4e26",
   "metadata": {},
   "outputs": [],
   "source": [
    "list1 = [s[0],s[2],s[4]]"
   ]
  },
  {
   "cell_type": "code",
   "execution_count": 84,
   "id": "c705210f",
   "metadata": {},
   "outputs": [
    {
     "name": "stdout",
     "output_type": "stream",
     "text": [
      "문제 9의 답: ['Contrary to popular belief, Lorem Ipsum is not simply random text', 'Richard McClintock, a Latin \\nprofessor at Hampden-Sydney College in Virginia, looked up one of \\nthe more obscure Latin words, consectetur, from a Lorem Ipsum \\npassage, and going through the cites of the word in classical \\nliterature, discovered the undoubtable source', '\\nThis book is a treatise on the theory of ethics, very popular during \\nthe Renaissance']\n"
     ]
    }
   ],
   "source": [
    "print(\"문제 9의 답:\", list1)"
   ]
  },
  {
   "cell_type": "code",
   "execution_count": 85,
   "id": "14026f68",
   "metadata": {},
   "outputs": [],
   "source": [
    "# [문제 10~11] 은 주어진 pdm의 값을 이용하라"
   ]
  },
  {
   "cell_type": "code",
   "execution_count": 96,
   "id": "9bcd999b",
   "metadata": {},
   "outputs": [],
   "source": [
    "pdm = {\"통계사업번호\" : \"2015140319032\",\n",
    "\t\t\"사업명\" : \"캄보디아 노인자조모임 지원 및 연합회 설립을 통한 캄보디아 노인의 빈곤퇴치와 건강증진 (2015-20171,037백만원CPP한국헬프에이지Phase2)\",\n",
    "\t\t\"PDM수직단계\" : \"summary\",\n",
    "\t\t\"PDM목차번호\" : \"0\",\n",
    "\t\t\"PDM목차세부번호\" : \"1\",\n",
    "\t\t\"PDM성과지표\" : \"개요\",\n",
    "\t\t\"연차\" : \"\",\n",
    "\t\t\"내용\" : \"※대표 수혜자 지표(지표명\\/측정 성과): 현재 자조모임 회원 가입 수\\/ 총 4,279명\"}"
   ]
  },
  {
   "cell_type": "code",
   "execution_count": 87,
   "id": "773e8b41",
   "metadata": {},
   "outputs": [],
   "source": [
    "# 문제 10: pdm에서 통계사업번호를 20230116으로 변경해 pdm2로 저장하라"
   ]
  },
  {
   "cell_type": "code",
   "execution_count": 97,
   "id": "3a47ea72",
   "metadata": {},
   "outputs": [],
   "source": [
    "pdm['통계사업번호']=20230116"
   ]
  },
  {
   "cell_type": "code",
   "execution_count": 94,
   "id": "1dbf5b39",
   "metadata": {},
   "outputs": [
    {
     "data": {
      "text/plain": [
       "{'통계사업번호': 20230116,\n",
       " '사업명': '캄보디아 노인자조모임 지원 및 연합회 설립을 통한 캄보디아 노인의 빈곤퇴치와 건강증진 (2015-20171,037백만원CPP한국헬프에이지Phase2)',\n",
       " 'PDM수직단계': 'summary',\n",
       " 'PDM목차번호': '0',\n",
       " 'PDM목차세부번호': '1',\n",
       " 'PDM성과지표': '개요',\n",
       " '연차': '',\n",
       " '내용': '※대표 수혜자 지표(지표명\\\\/측정 성과): 현재 자조모임 회원 가입 수\\\\/ 총 4,279명'}"
      ]
     },
     "execution_count": 94,
     "metadata": {},
     "output_type": "execute_result"
    }
   ],
   "source": [
    "pdm"
   ]
  },
  {
   "cell_type": "code",
   "execution_count": 98,
   "id": "7ed0a71f",
   "metadata": {},
   "outputs": [],
   "source": [
    "pdm2 = {'통계사업번호': 20230116,\n",
    " '사업명': '캄보디아 노인자조모임 지원 및 연합회 설립을 통한 캄보디아 노인의 빈곤퇴치와 건강증진 (2015-20171,037백만원CPP한국헬프에이지Phase2)',\n",
    " 'PDM수직단계': 'summary',\n",
    " 'PDM목차번호': '0',\n",
    " 'PDM목차세부번호': '1',\n",
    " 'PDM성과지표': '개요',\n",
    " '연차': '',\n",
    " '내용': '※대표 수혜자 지표(지표명\\\\/측정 성과): 현재 자조모임 회원 가입 수\\\\/ 총 4,279명'}"
   ]
  },
  {
   "cell_type": "code",
   "execution_count": 100,
   "id": "25cde130",
   "metadata": {},
   "outputs": [
    {
     "name": "stdout",
     "output_type": "stream",
     "text": [
      "문제 10의 답: {'통계사업번호': 20230116, '사업명': '캄보디아 노인자조모임 지원 및 연합회 설립을 통한 캄보디아 노인의 빈곤퇴치와 건강증진 (2015-20171,037백만원CPP한국헬프에이지Phase2)', 'PDM수직단계': 'summary', 'PDM목차번호': '0', 'PDM목차세부번호': '1', 'PDM성과지표': '개요', '연차': '', '내용': '※대표 수혜자 지표(지표명\\\\/측정 성과): 현재 자조모임 회원 가입 수\\\\/ 총 4,279명'}\n"
     ]
    }
   ],
   "source": [
    "print('문제 10의 답:',pdm2)"
   ]
  },
  {
   "cell_type": "code",
   "execution_count": 101,
   "id": "6fc1e9b8",
   "metadata": {},
   "outputs": [],
   "source": [
    "# 문제 11: pdm의 value를 차례대로 출력하라"
   ]
  },
  {
   "cell_type": "code",
   "execution_count": 102,
   "id": "fe08b162",
   "metadata": {},
   "outputs": [],
   "source": [
    "pdm = {\"통계사업번호\" : \"2015140319032\",\n",
    "\t\t\"사업명\" : \"캄보디아 노인자조모임 지원 및 연합회 설립을 통한 캄보디아 노인의 빈곤퇴치와 건강증진 (2015-20171,037백만원CPP한국헬프에이지Phase2)\",\n",
    "\t\t\"PDM수직단계\" : \"summary\",\n",
    "\t\t\"PDM목차번호\" : \"0\",\n",
    "\t\t\"PDM목차세부번호\" : \"1\",\n",
    "\t\t\"PDM성과지표\" : \"개요\",\n",
    "\t\t\"연차\" : \"\",\n",
    "\t\t\"내용\" : \"※대표 수혜자 지표(지표명\\/측정 성과): 현재 자조모임 회원 가입 수\\/ 총 4,279명\"}"
   ]
  },
  {
   "cell_type": "code",
   "execution_count": 104,
   "id": "482c12b5",
   "metadata": {},
   "outputs": [],
   "source": [
    "v = pdm.values()"
   ]
  },
  {
   "cell_type": "code",
   "execution_count": 105,
   "id": "1643d8d4",
   "metadata": {},
   "outputs": [
    {
     "name": "stdout",
     "output_type": "stream",
     "text": [
      "문제 11의 답: dict_values(['2015140319032', '캄보디아 노인자조모임 지원 및 연합회 설립을 통한 캄보디아 노인의 빈곤퇴치와 건강증진 (2015-20171,037백만원CPP한국헬프에이지Phase2)', 'summary', '0', '1', '개요', '', '※대표 수혜자 지표(지표명\\\\/측정 성과): 현재 자조모임 회원 가입 수\\\\/ 총 4,279명'])\n"
     ]
    }
   ],
   "source": [
    "print('문제 11의 답:',v)"
   ]
  },
  {
   "cell_type": "code",
   "execution_count": 106,
   "id": "e3aa14b0",
   "metadata": {},
   "outputs": [],
   "source": [
    "# [문제 12~13] 은 아래의 gene의 값을 이용하라"
   ]
  },
  {
   "cell_type": "code",
   "execution_count": 107,
   "id": "454468f7",
   "metadata": {},
   "outputs": [],
   "source": [
    "gene = 'ACAACTATGCATACTATCGGGAACTATCCT'"
   ]
  },
  {
   "cell_type": "code",
   "execution_count": 108,
   "id": "0b8ae84b",
   "metadata": {},
   "outputs": [],
   "source": [
    "# 문제 12: gene에서 A의 개수를 출력하라"
   ]
  },
  {
   "cell_type": "code",
   "execution_count": 113,
   "id": "b0d5a3a0",
   "metadata": {},
   "outputs": [
    {
     "name": "stdout",
     "output_type": "stream",
     "text": [
      "문제 12의 답: 10\n"
     ]
    }
   ],
   "source": [
    "print('문제 12의 답:', gene.count('A'))"
   ]
  },
  {
   "cell_type": "code",
   "execution_count": 114,
   "id": "98c62430",
   "metadata": {},
   "outputs": [],
   "source": [
    "# 문제 13: gene에서 ACTAT라는 패턴의 개수를 확인한다"
   ]
  },
  {
   "cell_type": "code",
   "execution_count": 116,
   "id": "c64e7474",
   "metadata": {},
   "outputs": [
    {
     "name": "stdout",
     "output_type": "stream",
     "text": [
      "문제 12의 답: 3\n"
     ]
    }
   ],
   "source": [
    "print('문제 12의 답:', gene.count('ACTAT'))"
   ]
  },
  {
   "cell_type": "code",
   "execution_count": 117,
   "id": "4340eb74",
   "metadata": {},
   "outputs": [],
   "source": [
    "# [문제 14~20] 은아래의 test.csv 파일을 사용하며, [문제 14~16] 의 풀이는 test2.csv 파일로 저장될 수 있게 하라"
   ]
  },
  {
   "cell_type": "code",
   "execution_count": 118,
   "id": "a75a4b7f",
   "metadata": {},
   "outputs": [],
   "source": [
    "import pandas as pd"
   ]
  },
  {
   "cell_type": "code",
   "execution_count": 135,
   "id": "3bff2a46",
   "metadata": {},
   "outputs": [],
   "source": [
    "df = pd.read_csv('test.csv')"
   ]
  },
  {
   "cell_type": "code",
   "execution_count": 136,
   "id": "5653d07f",
   "metadata": {},
   "outputs": [
    {
     "data": {
      "text/html": [
       "<div>\n",
       "<style scoped>\n",
       "    .dataframe tbody tr th:only-of-type {\n",
       "        vertical-align: middle;\n",
       "    }\n",
       "\n",
       "    .dataframe tbody tr th {\n",
       "        vertical-align: top;\n",
       "    }\n",
       "\n",
       "    .dataframe thead th {\n",
       "        text-align: right;\n",
       "    }\n",
       "</style>\n",
       "<table border=\"1\" class=\"dataframe\">\n",
       "  <thead>\n",
       "    <tr style=\"text-align: right;\">\n",
       "      <th></th>\n",
       "      <th>PassengerId</th>\n",
       "      <th>Pclass</th>\n",
       "      <th>Name</th>\n",
       "      <th>Sex</th>\n",
       "      <th>Age</th>\n",
       "      <th>SibSp</th>\n",
       "      <th>Parch</th>\n",
       "      <th>Ticket</th>\n",
       "      <th>Fare</th>\n",
       "      <th>Cabin</th>\n",
       "      <th>Embarked</th>\n",
       "    </tr>\n",
       "  </thead>\n",
       "  <tbody>\n",
       "    <tr>\n",
       "      <th>0</th>\n",
       "      <td>892</td>\n",
       "      <td>3</td>\n",
       "      <td>Kelly, Mr. James</td>\n",
       "      <td>male</td>\n",
       "      <td>34.5</td>\n",
       "      <td>0</td>\n",
       "      <td>0</td>\n",
       "      <td>330911</td>\n",
       "      <td>7.8292</td>\n",
       "      <td>NaN</td>\n",
       "      <td>Q</td>\n",
       "    </tr>\n",
       "    <tr>\n",
       "      <th>1</th>\n",
       "      <td>893</td>\n",
       "      <td>3</td>\n",
       "      <td>Wilkes, Mrs. James (Ellen Needs)</td>\n",
       "      <td>female</td>\n",
       "      <td>47.0</td>\n",
       "      <td>1</td>\n",
       "      <td>0</td>\n",
       "      <td>363272</td>\n",
       "      <td>7.0000</td>\n",
       "      <td>NaN</td>\n",
       "      <td>S</td>\n",
       "    </tr>\n",
       "    <tr>\n",
       "      <th>2</th>\n",
       "      <td>894</td>\n",
       "      <td>2</td>\n",
       "      <td>Myles, Mr. Thomas Francis</td>\n",
       "      <td>male</td>\n",
       "      <td>62.0</td>\n",
       "      <td>0</td>\n",
       "      <td>0</td>\n",
       "      <td>240276</td>\n",
       "      <td>9.6875</td>\n",
       "      <td>NaN</td>\n",
       "      <td>Q</td>\n",
       "    </tr>\n",
       "    <tr>\n",
       "      <th>3</th>\n",
       "      <td>895</td>\n",
       "      <td>3</td>\n",
       "      <td>Wirz, Mr. Albert</td>\n",
       "      <td>male</td>\n",
       "      <td>27.0</td>\n",
       "      <td>0</td>\n",
       "      <td>0</td>\n",
       "      <td>315154</td>\n",
       "      <td>8.6625</td>\n",
       "      <td>NaN</td>\n",
       "      <td>S</td>\n",
       "    </tr>\n",
       "    <tr>\n",
       "      <th>4</th>\n",
       "      <td>896</td>\n",
       "      <td>3</td>\n",
       "      <td>Hirvonen, Mrs. Alexander (Helga E Lindqvist)</td>\n",
       "      <td>female</td>\n",
       "      <td>22.0</td>\n",
       "      <td>1</td>\n",
       "      <td>1</td>\n",
       "      <td>3101298</td>\n",
       "      <td>12.2875</td>\n",
       "      <td>NaN</td>\n",
       "      <td>S</td>\n",
       "    </tr>\n",
       "    <tr>\n",
       "      <th>...</th>\n",
       "      <td>...</td>\n",
       "      <td>...</td>\n",
       "      <td>...</td>\n",
       "      <td>...</td>\n",
       "      <td>...</td>\n",
       "      <td>...</td>\n",
       "      <td>...</td>\n",
       "      <td>...</td>\n",
       "      <td>...</td>\n",
       "      <td>...</td>\n",
       "      <td>...</td>\n",
       "    </tr>\n",
       "    <tr>\n",
       "      <th>413</th>\n",
       "      <td>1305</td>\n",
       "      <td>3</td>\n",
       "      <td>Spector, Mr. Woolf</td>\n",
       "      <td>male</td>\n",
       "      <td>NaN</td>\n",
       "      <td>0</td>\n",
       "      <td>0</td>\n",
       "      <td>A.5. 3236</td>\n",
       "      <td>8.0500</td>\n",
       "      <td>NaN</td>\n",
       "      <td>S</td>\n",
       "    </tr>\n",
       "    <tr>\n",
       "      <th>414</th>\n",
       "      <td>1306</td>\n",
       "      <td>1</td>\n",
       "      <td>Oliva y Ocana, Dona. Fermina</td>\n",
       "      <td>female</td>\n",
       "      <td>39.0</td>\n",
       "      <td>0</td>\n",
       "      <td>0</td>\n",
       "      <td>PC 17758</td>\n",
       "      <td>108.9000</td>\n",
       "      <td>C105</td>\n",
       "      <td>C</td>\n",
       "    </tr>\n",
       "    <tr>\n",
       "      <th>415</th>\n",
       "      <td>1307</td>\n",
       "      <td>3</td>\n",
       "      <td>Saether, Mr. Simon Sivertsen</td>\n",
       "      <td>male</td>\n",
       "      <td>38.5</td>\n",
       "      <td>0</td>\n",
       "      <td>0</td>\n",
       "      <td>SOTON/O.Q. 3101262</td>\n",
       "      <td>7.2500</td>\n",
       "      <td>NaN</td>\n",
       "      <td>S</td>\n",
       "    </tr>\n",
       "    <tr>\n",
       "      <th>416</th>\n",
       "      <td>1308</td>\n",
       "      <td>3</td>\n",
       "      <td>Ware, Mr. Frederick</td>\n",
       "      <td>male</td>\n",
       "      <td>NaN</td>\n",
       "      <td>0</td>\n",
       "      <td>0</td>\n",
       "      <td>359309</td>\n",
       "      <td>8.0500</td>\n",
       "      <td>NaN</td>\n",
       "      <td>S</td>\n",
       "    </tr>\n",
       "    <tr>\n",
       "      <th>417</th>\n",
       "      <td>1309</td>\n",
       "      <td>3</td>\n",
       "      <td>Peter, Master. Michael J</td>\n",
       "      <td>male</td>\n",
       "      <td>NaN</td>\n",
       "      <td>1</td>\n",
       "      <td>1</td>\n",
       "      <td>2668</td>\n",
       "      <td>22.3583</td>\n",
       "      <td>NaN</td>\n",
       "      <td>C</td>\n",
       "    </tr>\n",
       "  </tbody>\n",
       "</table>\n",
       "<p>418 rows × 11 columns</p>\n",
       "</div>"
      ],
      "text/plain": [
       "     PassengerId  Pclass                                          Name  \\\n",
       "0            892       3                              Kelly, Mr. James   \n",
       "1            893       3              Wilkes, Mrs. James (Ellen Needs)   \n",
       "2            894       2                     Myles, Mr. Thomas Francis   \n",
       "3            895       3                              Wirz, Mr. Albert   \n",
       "4            896       3  Hirvonen, Mrs. Alexander (Helga E Lindqvist)   \n",
       "..           ...     ...                                           ...   \n",
       "413         1305       3                            Spector, Mr. Woolf   \n",
       "414         1306       1                  Oliva y Ocana, Dona. Fermina   \n",
       "415         1307       3                  Saether, Mr. Simon Sivertsen   \n",
       "416         1308       3                           Ware, Mr. Frederick   \n",
       "417         1309       3                      Peter, Master. Michael J   \n",
       "\n",
       "        Sex   Age  SibSp  Parch              Ticket      Fare Cabin Embarked  \n",
       "0      male  34.5      0      0              330911    7.8292   NaN        Q  \n",
       "1    female  47.0      1      0              363272    7.0000   NaN        S  \n",
       "2      male  62.0      0      0              240276    9.6875   NaN        Q  \n",
       "3      male  27.0      0      0              315154    8.6625   NaN        S  \n",
       "4    female  22.0      1      1             3101298   12.2875   NaN        S  \n",
       "..      ...   ...    ...    ...                 ...       ...   ...      ...  \n",
       "413    male   NaN      0      0           A.5. 3236    8.0500   NaN        S  \n",
       "414  female  39.0      0      0            PC 17758  108.9000  C105        C  \n",
       "415    male  38.5      0      0  SOTON/O.Q. 3101262    7.2500   NaN        S  \n",
       "416    male   NaN      0      0              359309    8.0500   NaN        S  \n",
       "417    male   NaN      1      1                2668   22.3583   NaN        C  \n",
       "\n",
       "[418 rows x 11 columns]"
      ]
     },
     "execution_count": 136,
     "metadata": {},
     "output_type": "execute_result"
    }
   ],
   "source": [
    "df"
   ]
  },
  {
   "cell_type": "code",
   "execution_count": 122,
   "id": "ac9841a0",
   "metadata": {},
   "outputs": [],
   "source": [
    "# 문제 14: test.csv 파일의 Age의 값에 모두 102를 더해 저장하라"
   ]
  },
  {
   "cell_type": "code",
   "execution_count": 137,
   "id": "7f3f5cd2",
   "metadata": {},
   "outputs": [],
   "source": [
    "df['Age_n']=df['Age']+102"
   ]
  },
  {
   "cell_type": "code",
   "execution_count": 138,
   "id": "f12dda1f",
   "metadata": {},
   "outputs": [
    {
     "data": {
      "text/html": [
       "<div>\n",
       "<style scoped>\n",
       "    .dataframe tbody tr th:only-of-type {\n",
       "        vertical-align: middle;\n",
       "    }\n",
       "\n",
       "    .dataframe tbody tr th {\n",
       "        vertical-align: top;\n",
       "    }\n",
       "\n",
       "    .dataframe thead th {\n",
       "        text-align: right;\n",
       "    }\n",
       "</style>\n",
       "<table border=\"1\" class=\"dataframe\">\n",
       "  <thead>\n",
       "    <tr style=\"text-align: right;\">\n",
       "      <th></th>\n",
       "      <th>PassengerId</th>\n",
       "      <th>Pclass</th>\n",
       "      <th>Name</th>\n",
       "      <th>Sex</th>\n",
       "      <th>Age</th>\n",
       "      <th>SibSp</th>\n",
       "      <th>Parch</th>\n",
       "      <th>Ticket</th>\n",
       "      <th>Fare</th>\n",
       "      <th>Cabin</th>\n",
       "      <th>Embarked</th>\n",
       "      <th>Age_n</th>\n",
       "    </tr>\n",
       "  </thead>\n",
       "  <tbody>\n",
       "    <tr>\n",
       "      <th>0</th>\n",
       "      <td>892</td>\n",
       "      <td>3</td>\n",
       "      <td>Kelly, Mr. James</td>\n",
       "      <td>male</td>\n",
       "      <td>34.5</td>\n",
       "      <td>0</td>\n",
       "      <td>0</td>\n",
       "      <td>330911</td>\n",
       "      <td>7.8292</td>\n",
       "      <td>NaN</td>\n",
       "      <td>Q</td>\n",
       "      <td>136.5</td>\n",
       "    </tr>\n",
       "    <tr>\n",
       "      <th>1</th>\n",
       "      <td>893</td>\n",
       "      <td>3</td>\n",
       "      <td>Wilkes, Mrs. James (Ellen Needs)</td>\n",
       "      <td>female</td>\n",
       "      <td>47.0</td>\n",
       "      <td>1</td>\n",
       "      <td>0</td>\n",
       "      <td>363272</td>\n",
       "      <td>7.0000</td>\n",
       "      <td>NaN</td>\n",
       "      <td>S</td>\n",
       "      <td>149.0</td>\n",
       "    </tr>\n",
       "    <tr>\n",
       "      <th>2</th>\n",
       "      <td>894</td>\n",
       "      <td>2</td>\n",
       "      <td>Myles, Mr. Thomas Francis</td>\n",
       "      <td>male</td>\n",
       "      <td>62.0</td>\n",
       "      <td>0</td>\n",
       "      <td>0</td>\n",
       "      <td>240276</td>\n",
       "      <td>9.6875</td>\n",
       "      <td>NaN</td>\n",
       "      <td>Q</td>\n",
       "      <td>164.0</td>\n",
       "    </tr>\n",
       "    <tr>\n",
       "      <th>3</th>\n",
       "      <td>895</td>\n",
       "      <td>3</td>\n",
       "      <td>Wirz, Mr. Albert</td>\n",
       "      <td>male</td>\n",
       "      <td>27.0</td>\n",
       "      <td>0</td>\n",
       "      <td>0</td>\n",
       "      <td>315154</td>\n",
       "      <td>8.6625</td>\n",
       "      <td>NaN</td>\n",
       "      <td>S</td>\n",
       "      <td>129.0</td>\n",
       "    </tr>\n",
       "    <tr>\n",
       "      <th>4</th>\n",
       "      <td>896</td>\n",
       "      <td>3</td>\n",
       "      <td>Hirvonen, Mrs. Alexander (Helga E Lindqvist)</td>\n",
       "      <td>female</td>\n",
       "      <td>22.0</td>\n",
       "      <td>1</td>\n",
       "      <td>1</td>\n",
       "      <td>3101298</td>\n",
       "      <td>12.2875</td>\n",
       "      <td>NaN</td>\n",
       "      <td>S</td>\n",
       "      <td>124.0</td>\n",
       "    </tr>\n",
       "    <tr>\n",
       "      <th>...</th>\n",
       "      <td>...</td>\n",
       "      <td>...</td>\n",
       "      <td>...</td>\n",
       "      <td>...</td>\n",
       "      <td>...</td>\n",
       "      <td>...</td>\n",
       "      <td>...</td>\n",
       "      <td>...</td>\n",
       "      <td>...</td>\n",
       "      <td>...</td>\n",
       "      <td>...</td>\n",
       "      <td>...</td>\n",
       "    </tr>\n",
       "    <tr>\n",
       "      <th>413</th>\n",
       "      <td>1305</td>\n",
       "      <td>3</td>\n",
       "      <td>Spector, Mr. Woolf</td>\n",
       "      <td>male</td>\n",
       "      <td>NaN</td>\n",
       "      <td>0</td>\n",
       "      <td>0</td>\n",
       "      <td>A.5. 3236</td>\n",
       "      <td>8.0500</td>\n",
       "      <td>NaN</td>\n",
       "      <td>S</td>\n",
       "      <td>NaN</td>\n",
       "    </tr>\n",
       "    <tr>\n",
       "      <th>414</th>\n",
       "      <td>1306</td>\n",
       "      <td>1</td>\n",
       "      <td>Oliva y Ocana, Dona. Fermina</td>\n",
       "      <td>female</td>\n",
       "      <td>39.0</td>\n",
       "      <td>0</td>\n",
       "      <td>0</td>\n",
       "      <td>PC 17758</td>\n",
       "      <td>108.9000</td>\n",
       "      <td>C105</td>\n",
       "      <td>C</td>\n",
       "      <td>141.0</td>\n",
       "    </tr>\n",
       "    <tr>\n",
       "      <th>415</th>\n",
       "      <td>1307</td>\n",
       "      <td>3</td>\n",
       "      <td>Saether, Mr. Simon Sivertsen</td>\n",
       "      <td>male</td>\n",
       "      <td>38.5</td>\n",
       "      <td>0</td>\n",
       "      <td>0</td>\n",
       "      <td>SOTON/O.Q. 3101262</td>\n",
       "      <td>7.2500</td>\n",
       "      <td>NaN</td>\n",
       "      <td>S</td>\n",
       "      <td>140.5</td>\n",
       "    </tr>\n",
       "    <tr>\n",
       "      <th>416</th>\n",
       "      <td>1308</td>\n",
       "      <td>3</td>\n",
       "      <td>Ware, Mr. Frederick</td>\n",
       "      <td>male</td>\n",
       "      <td>NaN</td>\n",
       "      <td>0</td>\n",
       "      <td>0</td>\n",
       "      <td>359309</td>\n",
       "      <td>8.0500</td>\n",
       "      <td>NaN</td>\n",
       "      <td>S</td>\n",
       "      <td>NaN</td>\n",
       "    </tr>\n",
       "    <tr>\n",
       "      <th>417</th>\n",
       "      <td>1309</td>\n",
       "      <td>3</td>\n",
       "      <td>Peter, Master. Michael J</td>\n",
       "      <td>male</td>\n",
       "      <td>NaN</td>\n",
       "      <td>1</td>\n",
       "      <td>1</td>\n",
       "      <td>2668</td>\n",
       "      <td>22.3583</td>\n",
       "      <td>NaN</td>\n",
       "      <td>C</td>\n",
       "      <td>NaN</td>\n",
       "    </tr>\n",
       "  </tbody>\n",
       "</table>\n",
       "<p>418 rows × 12 columns</p>\n",
       "</div>"
      ],
      "text/plain": [
       "     PassengerId  Pclass                                          Name  \\\n",
       "0            892       3                              Kelly, Mr. James   \n",
       "1            893       3              Wilkes, Mrs. James (Ellen Needs)   \n",
       "2            894       2                     Myles, Mr. Thomas Francis   \n",
       "3            895       3                              Wirz, Mr. Albert   \n",
       "4            896       3  Hirvonen, Mrs. Alexander (Helga E Lindqvist)   \n",
       "..           ...     ...                                           ...   \n",
       "413         1305       3                            Spector, Mr. Woolf   \n",
       "414         1306       1                  Oliva y Ocana, Dona. Fermina   \n",
       "415         1307       3                  Saether, Mr. Simon Sivertsen   \n",
       "416         1308       3                           Ware, Mr. Frederick   \n",
       "417         1309       3                      Peter, Master. Michael J   \n",
       "\n",
       "        Sex   Age  SibSp  Parch              Ticket      Fare Cabin Embarked  \\\n",
       "0      male  34.5      0      0              330911    7.8292   NaN        Q   \n",
       "1    female  47.0      1      0              363272    7.0000   NaN        S   \n",
       "2      male  62.0      0      0              240276    9.6875   NaN        Q   \n",
       "3      male  27.0      0      0              315154    8.6625   NaN        S   \n",
       "4    female  22.0      1      1             3101298   12.2875   NaN        S   \n",
       "..      ...   ...    ...    ...                 ...       ...   ...      ...   \n",
       "413    male   NaN      0      0           A.5. 3236    8.0500   NaN        S   \n",
       "414  female  39.0      0      0            PC 17758  108.9000  C105        C   \n",
       "415    male  38.5      0      0  SOTON/O.Q. 3101262    7.2500   NaN        S   \n",
       "416    male   NaN      0      0              359309    8.0500   NaN        S   \n",
       "417    male   NaN      1      1                2668   22.3583   NaN        C   \n",
       "\n",
       "     Age_n  \n",
       "0    136.5  \n",
       "1    149.0  \n",
       "2    164.0  \n",
       "3    129.0  \n",
       "4    124.0  \n",
       "..     ...  \n",
       "413    NaN  \n",
       "414  141.0  \n",
       "415  140.5  \n",
       "416    NaN  \n",
       "417    NaN  \n",
       "\n",
       "[418 rows x 12 columns]"
      ]
     },
     "execution_count": 138,
     "metadata": {},
     "output_type": "execute_result"
    }
   ],
   "source": [
    "df"
   ]
  },
  {
   "cell_type": "code",
   "execution_count": 134,
   "id": "66c103be",
   "metadata": {},
   "outputs": [],
   "source": [
    "# - 문제 15: test.csv 파일의 Sex를 아래와 같이 분류해 저장하라, 남성 → 0, 여성 → 1"
   ]
  },
  {
   "cell_type": "code",
   "execution_count": 140,
   "id": "0ab7ce69",
   "metadata": {},
   "outputs": [
    {
     "data": {
      "text/plain": [
       "array(['male', 'female'], dtype=object)"
      ]
     },
     "execution_count": 140,
     "metadata": {},
     "output_type": "execute_result"
    }
   ],
   "source": [
    "df['Sex'].unique()"
   ]
  },
  {
   "cell_type": "code",
   "execution_count": 145,
   "id": "2839591b",
   "metadata": {},
   "outputs": [],
   "source": [
    "df['Sex_n']=df['Sex'].replace(['male','female'],['0','1'])"
   ]
  },
  {
   "cell_type": "code",
   "execution_count": 146,
   "id": "e529ad0f",
   "metadata": {},
   "outputs": [
    {
     "data": {
      "text/html": [
       "<div>\n",
       "<style scoped>\n",
       "    .dataframe tbody tr th:only-of-type {\n",
       "        vertical-align: middle;\n",
       "    }\n",
       "\n",
       "    .dataframe tbody tr th {\n",
       "        vertical-align: top;\n",
       "    }\n",
       "\n",
       "    .dataframe thead th {\n",
       "        text-align: right;\n",
       "    }\n",
       "</style>\n",
       "<table border=\"1\" class=\"dataframe\">\n",
       "  <thead>\n",
       "    <tr style=\"text-align: right;\">\n",
       "      <th></th>\n",
       "      <th>PassengerId</th>\n",
       "      <th>Pclass</th>\n",
       "      <th>Name</th>\n",
       "      <th>Sex</th>\n",
       "      <th>Age</th>\n",
       "      <th>SibSp</th>\n",
       "      <th>Parch</th>\n",
       "      <th>Ticket</th>\n",
       "      <th>Fare</th>\n",
       "      <th>Cabin</th>\n",
       "      <th>Embarked</th>\n",
       "      <th>Age_n</th>\n",
       "      <th>Sex_n</th>\n",
       "    </tr>\n",
       "  </thead>\n",
       "  <tbody>\n",
       "    <tr>\n",
       "      <th>0</th>\n",
       "      <td>892</td>\n",
       "      <td>3</td>\n",
       "      <td>Kelly, Mr. James</td>\n",
       "      <td>male</td>\n",
       "      <td>34.5</td>\n",
       "      <td>0</td>\n",
       "      <td>0</td>\n",
       "      <td>330911</td>\n",
       "      <td>7.8292</td>\n",
       "      <td>NaN</td>\n",
       "      <td>Q</td>\n",
       "      <td>136.5</td>\n",
       "      <td>0</td>\n",
       "    </tr>\n",
       "    <tr>\n",
       "      <th>1</th>\n",
       "      <td>893</td>\n",
       "      <td>3</td>\n",
       "      <td>Wilkes, Mrs. James (Ellen Needs)</td>\n",
       "      <td>female</td>\n",
       "      <td>47.0</td>\n",
       "      <td>1</td>\n",
       "      <td>0</td>\n",
       "      <td>363272</td>\n",
       "      <td>7.0000</td>\n",
       "      <td>NaN</td>\n",
       "      <td>S</td>\n",
       "      <td>149.0</td>\n",
       "      <td>1</td>\n",
       "    </tr>\n",
       "    <tr>\n",
       "      <th>2</th>\n",
       "      <td>894</td>\n",
       "      <td>2</td>\n",
       "      <td>Myles, Mr. Thomas Francis</td>\n",
       "      <td>male</td>\n",
       "      <td>62.0</td>\n",
       "      <td>0</td>\n",
       "      <td>0</td>\n",
       "      <td>240276</td>\n",
       "      <td>9.6875</td>\n",
       "      <td>NaN</td>\n",
       "      <td>Q</td>\n",
       "      <td>164.0</td>\n",
       "      <td>0</td>\n",
       "    </tr>\n",
       "    <tr>\n",
       "      <th>3</th>\n",
       "      <td>895</td>\n",
       "      <td>3</td>\n",
       "      <td>Wirz, Mr. Albert</td>\n",
       "      <td>male</td>\n",
       "      <td>27.0</td>\n",
       "      <td>0</td>\n",
       "      <td>0</td>\n",
       "      <td>315154</td>\n",
       "      <td>8.6625</td>\n",
       "      <td>NaN</td>\n",
       "      <td>S</td>\n",
       "      <td>129.0</td>\n",
       "      <td>0</td>\n",
       "    </tr>\n",
       "    <tr>\n",
       "      <th>4</th>\n",
       "      <td>896</td>\n",
       "      <td>3</td>\n",
       "      <td>Hirvonen, Mrs. Alexander (Helga E Lindqvist)</td>\n",
       "      <td>female</td>\n",
       "      <td>22.0</td>\n",
       "      <td>1</td>\n",
       "      <td>1</td>\n",
       "      <td>3101298</td>\n",
       "      <td>12.2875</td>\n",
       "      <td>NaN</td>\n",
       "      <td>S</td>\n",
       "      <td>124.0</td>\n",
       "      <td>1</td>\n",
       "    </tr>\n",
       "    <tr>\n",
       "      <th>...</th>\n",
       "      <td>...</td>\n",
       "      <td>...</td>\n",
       "      <td>...</td>\n",
       "      <td>...</td>\n",
       "      <td>...</td>\n",
       "      <td>...</td>\n",
       "      <td>...</td>\n",
       "      <td>...</td>\n",
       "      <td>...</td>\n",
       "      <td>...</td>\n",
       "      <td>...</td>\n",
       "      <td>...</td>\n",
       "      <td>...</td>\n",
       "    </tr>\n",
       "    <tr>\n",
       "      <th>413</th>\n",
       "      <td>1305</td>\n",
       "      <td>3</td>\n",
       "      <td>Spector, Mr. Woolf</td>\n",
       "      <td>male</td>\n",
       "      <td>NaN</td>\n",
       "      <td>0</td>\n",
       "      <td>0</td>\n",
       "      <td>A.5. 3236</td>\n",
       "      <td>8.0500</td>\n",
       "      <td>NaN</td>\n",
       "      <td>S</td>\n",
       "      <td>NaN</td>\n",
       "      <td>0</td>\n",
       "    </tr>\n",
       "    <tr>\n",
       "      <th>414</th>\n",
       "      <td>1306</td>\n",
       "      <td>1</td>\n",
       "      <td>Oliva y Ocana, Dona. Fermina</td>\n",
       "      <td>female</td>\n",
       "      <td>39.0</td>\n",
       "      <td>0</td>\n",
       "      <td>0</td>\n",
       "      <td>PC 17758</td>\n",
       "      <td>108.9000</td>\n",
       "      <td>C105</td>\n",
       "      <td>C</td>\n",
       "      <td>141.0</td>\n",
       "      <td>1</td>\n",
       "    </tr>\n",
       "    <tr>\n",
       "      <th>415</th>\n",
       "      <td>1307</td>\n",
       "      <td>3</td>\n",
       "      <td>Saether, Mr. Simon Sivertsen</td>\n",
       "      <td>male</td>\n",
       "      <td>38.5</td>\n",
       "      <td>0</td>\n",
       "      <td>0</td>\n",
       "      <td>SOTON/O.Q. 3101262</td>\n",
       "      <td>7.2500</td>\n",
       "      <td>NaN</td>\n",
       "      <td>S</td>\n",
       "      <td>140.5</td>\n",
       "      <td>0</td>\n",
       "    </tr>\n",
       "    <tr>\n",
       "      <th>416</th>\n",
       "      <td>1308</td>\n",
       "      <td>3</td>\n",
       "      <td>Ware, Mr. Frederick</td>\n",
       "      <td>male</td>\n",
       "      <td>NaN</td>\n",
       "      <td>0</td>\n",
       "      <td>0</td>\n",
       "      <td>359309</td>\n",
       "      <td>8.0500</td>\n",
       "      <td>NaN</td>\n",
       "      <td>S</td>\n",
       "      <td>NaN</td>\n",
       "      <td>0</td>\n",
       "    </tr>\n",
       "    <tr>\n",
       "      <th>417</th>\n",
       "      <td>1309</td>\n",
       "      <td>3</td>\n",
       "      <td>Peter, Master. Michael J</td>\n",
       "      <td>male</td>\n",
       "      <td>NaN</td>\n",
       "      <td>1</td>\n",
       "      <td>1</td>\n",
       "      <td>2668</td>\n",
       "      <td>22.3583</td>\n",
       "      <td>NaN</td>\n",
       "      <td>C</td>\n",
       "      <td>NaN</td>\n",
       "      <td>0</td>\n",
       "    </tr>\n",
       "  </tbody>\n",
       "</table>\n",
       "<p>418 rows × 13 columns</p>\n",
       "</div>"
      ],
      "text/plain": [
       "     PassengerId  Pclass                                          Name  \\\n",
       "0            892       3                              Kelly, Mr. James   \n",
       "1            893       3              Wilkes, Mrs. James (Ellen Needs)   \n",
       "2            894       2                     Myles, Mr. Thomas Francis   \n",
       "3            895       3                              Wirz, Mr. Albert   \n",
       "4            896       3  Hirvonen, Mrs. Alexander (Helga E Lindqvist)   \n",
       "..           ...     ...                                           ...   \n",
       "413         1305       3                            Spector, Mr. Woolf   \n",
       "414         1306       1                  Oliva y Ocana, Dona. Fermina   \n",
       "415         1307       3                  Saether, Mr. Simon Sivertsen   \n",
       "416         1308       3                           Ware, Mr. Frederick   \n",
       "417         1309       3                      Peter, Master. Michael J   \n",
       "\n",
       "        Sex   Age  SibSp  Parch              Ticket      Fare Cabin Embarked  \\\n",
       "0      male  34.5      0      0              330911    7.8292   NaN        Q   \n",
       "1    female  47.0      1      0              363272    7.0000   NaN        S   \n",
       "2      male  62.0      0      0              240276    9.6875   NaN        Q   \n",
       "3      male  27.0      0      0              315154    8.6625   NaN        S   \n",
       "4    female  22.0      1      1             3101298   12.2875   NaN        S   \n",
       "..      ...   ...    ...    ...                 ...       ...   ...      ...   \n",
       "413    male   NaN      0      0           A.5. 3236    8.0500   NaN        S   \n",
       "414  female  39.0      0      0            PC 17758  108.9000  C105        C   \n",
       "415    male  38.5      0      0  SOTON/O.Q. 3101262    7.2500   NaN        S   \n",
       "416    male   NaN      0      0              359309    8.0500   NaN        S   \n",
       "417    male   NaN      1      1                2668   22.3583   NaN        C   \n",
       "\n",
       "     Age_n Sex_n  \n",
       "0    136.5     0  \n",
       "1    149.0     1  \n",
       "2    164.0     0  \n",
       "3    129.0     0  \n",
       "4    124.0     1  \n",
       "..     ...   ...  \n",
       "413    NaN     0  \n",
       "414  141.0     1  \n",
       "415  140.5     0  \n",
       "416    NaN     0  \n",
       "417    NaN     0  \n",
       "\n",
       "[418 rows x 13 columns]"
      ]
     },
     "execution_count": 146,
     "metadata": {},
     "output_type": "execute_result"
    }
   ],
   "source": [
    "df"
   ]
  },
  {
   "cell_type": "code",
   "execution_count": 147,
   "id": "e9ab927f",
   "metadata": {},
   "outputs": [],
   "source": [
    "# 문제 16: test.csv 파일에서 Fare의 평균값을 구한 뒤, 평균 이상인 그룹만 분리해 fare_high column에 저장하라"
   ]
  },
  {
   "cell_type": "code",
   "execution_count": 153,
   "id": "2dcbd03a",
   "metadata": {},
   "outputs": [],
   "source": [
    "df['fare_high']=df['Fare']>df['Fare'].mean()"
   ]
  },
  {
   "cell_type": "code",
   "execution_count": 154,
   "id": "9eeadfa2",
   "metadata": {},
   "outputs": [
    {
     "data": {
      "text/html": [
       "<div>\n",
       "<style scoped>\n",
       "    .dataframe tbody tr th:only-of-type {\n",
       "        vertical-align: middle;\n",
       "    }\n",
       "\n",
       "    .dataframe tbody tr th {\n",
       "        vertical-align: top;\n",
       "    }\n",
       "\n",
       "    .dataframe thead th {\n",
       "        text-align: right;\n",
       "    }\n",
       "</style>\n",
       "<table border=\"1\" class=\"dataframe\">\n",
       "  <thead>\n",
       "    <tr style=\"text-align: right;\">\n",
       "      <th></th>\n",
       "      <th>PassengerId</th>\n",
       "      <th>Pclass</th>\n",
       "      <th>Name</th>\n",
       "      <th>Sex</th>\n",
       "      <th>Age</th>\n",
       "      <th>SibSp</th>\n",
       "      <th>Parch</th>\n",
       "      <th>Ticket</th>\n",
       "      <th>Fare</th>\n",
       "      <th>Cabin</th>\n",
       "      <th>Embarked</th>\n",
       "      <th>Age_n</th>\n",
       "      <th>Sex_n</th>\n",
       "      <th>fare_high</th>\n",
       "    </tr>\n",
       "  </thead>\n",
       "  <tbody>\n",
       "    <tr>\n",
       "      <th>0</th>\n",
       "      <td>892</td>\n",
       "      <td>3</td>\n",
       "      <td>Kelly, Mr. James</td>\n",
       "      <td>male</td>\n",
       "      <td>34.5</td>\n",
       "      <td>0</td>\n",
       "      <td>0</td>\n",
       "      <td>330911</td>\n",
       "      <td>7.8292</td>\n",
       "      <td>NaN</td>\n",
       "      <td>Q</td>\n",
       "      <td>136.5</td>\n",
       "      <td>0</td>\n",
       "      <td>False</td>\n",
       "    </tr>\n",
       "    <tr>\n",
       "      <th>1</th>\n",
       "      <td>893</td>\n",
       "      <td>3</td>\n",
       "      <td>Wilkes, Mrs. James (Ellen Needs)</td>\n",
       "      <td>female</td>\n",
       "      <td>47.0</td>\n",
       "      <td>1</td>\n",
       "      <td>0</td>\n",
       "      <td>363272</td>\n",
       "      <td>7.0000</td>\n",
       "      <td>NaN</td>\n",
       "      <td>S</td>\n",
       "      <td>149.0</td>\n",
       "      <td>1</td>\n",
       "      <td>False</td>\n",
       "    </tr>\n",
       "    <tr>\n",
       "      <th>2</th>\n",
       "      <td>894</td>\n",
       "      <td>2</td>\n",
       "      <td>Myles, Mr. Thomas Francis</td>\n",
       "      <td>male</td>\n",
       "      <td>62.0</td>\n",
       "      <td>0</td>\n",
       "      <td>0</td>\n",
       "      <td>240276</td>\n",
       "      <td>9.6875</td>\n",
       "      <td>NaN</td>\n",
       "      <td>Q</td>\n",
       "      <td>164.0</td>\n",
       "      <td>0</td>\n",
       "      <td>False</td>\n",
       "    </tr>\n",
       "    <tr>\n",
       "      <th>3</th>\n",
       "      <td>895</td>\n",
       "      <td>3</td>\n",
       "      <td>Wirz, Mr. Albert</td>\n",
       "      <td>male</td>\n",
       "      <td>27.0</td>\n",
       "      <td>0</td>\n",
       "      <td>0</td>\n",
       "      <td>315154</td>\n",
       "      <td>8.6625</td>\n",
       "      <td>NaN</td>\n",
       "      <td>S</td>\n",
       "      <td>129.0</td>\n",
       "      <td>0</td>\n",
       "      <td>False</td>\n",
       "    </tr>\n",
       "    <tr>\n",
       "      <th>4</th>\n",
       "      <td>896</td>\n",
       "      <td>3</td>\n",
       "      <td>Hirvonen, Mrs. Alexander (Helga E Lindqvist)</td>\n",
       "      <td>female</td>\n",
       "      <td>22.0</td>\n",
       "      <td>1</td>\n",
       "      <td>1</td>\n",
       "      <td>3101298</td>\n",
       "      <td>12.2875</td>\n",
       "      <td>NaN</td>\n",
       "      <td>S</td>\n",
       "      <td>124.0</td>\n",
       "      <td>1</td>\n",
       "      <td>False</td>\n",
       "    </tr>\n",
       "    <tr>\n",
       "      <th>...</th>\n",
       "      <td>...</td>\n",
       "      <td>...</td>\n",
       "      <td>...</td>\n",
       "      <td>...</td>\n",
       "      <td>...</td>\n",
       "      <td>...</td>\n",
       "      <td>...</td>\n",
       "      <td>...</td>\n",
       "      <td>...</td>\n",
       "      <td>...</td>\n",
       "      <td>...</td>\n",
       "      <td>...</td>\n",
       "      <td>...</td>\n",
       "      <td>...</td>\n",
       "    </tr>\n",
       "    <tr>\n",
       "      <th>413</th>\n",
       "      <td>1305</td>\n",
       "      <td>3</td>\n",
       "      <td>Spector, Mr. Woolf</td>\n",
       "      <td>male</td>\n",
       "      <td>NaN</td>\n",
       "      <td>0</td>\n",
       "      <td>0</td>\n",
       "      <td>A.5. 3236</td>\n",
       "      <td>8.0500</td>\n",
       "      <td>NaN</td>\n",
       "      <td>S</td>\n",
       "      <td>NaN</td>\n",
       "      <td>0</td>\n",
       "      <td>False</td>\n",
       "    </tr>\n",
       "    <tr>\n",
       "      <th>414</th>\n",
       "      <td>1306</td>\n",
       "      <td>1</td>\n",
       "      <td>Oliva y Ocana, Dona. Fermina</td>\n",
       "      <td>female</td>\n",
       "      <td>39.0</td>\n",
       "      <td>0</td>\n",
       "      <td>0</td>\n",
       "      <td>PC 17758</td>\n",
       "      <td>108.9000</td>\n",
       "      <td>C105</td>\n",
       "      <td>C</td>\n",
       "      <td>141.0</td>\n",
       "      <td>1</td>\n",
       "      <td>True</td>\n",
       "    </tr>\n",
       "    <tr>\n",
       "      <th>415</th>\n",
       "      <td>1307</td>\n",
       "      <td>3</td>\n",
       "      <td>Saether, Mr. Simon Sivertsen</td>\n",
       "      <td>male</td>\n",
       "      <td>38.5</td>\n",
       "      <td>0</td>\n",
       "      <td>0</td>\n",
       "      <td>SOTON/O.Q. 3101262</td>\n",
       "      <td>7.2500</td>\n",
       "      <td>NaN</td>\n",
       "      <td>S</td>\n",
       "      <td>140.5</td>\n",
       "      <td>0</td>\n",
       "      <td>False</td>\n",
       "    </tr>\n",
       "    <tr>\n",
       "      <th>416</th>\n",
       "      <td>1308</td>\n",
       "      <td>3</td>\n",
       "      <td>Ware, Mr. Frederick</td>\n",
       "      <td>male</td>\n",
       "      <td>NaN</td>\n",
       "      <td>0</td>\n",
       "      <td>0</td>\n",
       "      <td>359309</td>\n",
       "      <td>8.0500</td>\n",
       "      <td>NaN</td>\n",
       "      <td>S</td>\n",
       "      <td>NaN</td>\n",
       "      <td>0</td>\n",
       "      <td>False</td>\n",
       "    </tr>\n",
       "    <tr>\n",
       "      <th>417</th>\n",
       "      <td>1309</td>\n",
       "      <td>3</td>\n",
       "      <td>Peter, Master. Michael J</td>\n",
       "      <td>male</td>\n",
       "      <td>NaN</td>\n",
       "      <td>1</td>\n",
       "      <td>1</td>\n",
       "      <td>2668</td>\n",
       "      <td>22.3583</td>\n",
       "      <td>NaN</td>\n",
       "      <td>C</td>\n",
       "      <td>NaN</td>\n",
       "      <td>0</td>\n",
       "      <td>False</td>\n",
       "    </tr>\n",
       "  </tbody>\n",
       "</table>\n",
       "<p>418 rows × 14 columns</p>\n",
       "</div>"
      ],
      "text/plain": [
       "     PassengerId  Pclass                                          Name  \\\n",
       "0            892       3                              Kelly, Mr. James   \n",
       "1            893       3              Wilkes, Mrs. James (Ellen Needs)   \n",
       "2            894       2                     Myles, Mr. Thomas Francis   \n",
       "3            895       3                              Wirz, Mr. Albert   \n",
       "4            896       3  Hirvonen, Mrs. Alexander (Helga E Lindqvist)   \n",
       "..           ...     ...                                           ...   \n",
       "413         1305       3                            Spector, Mr. Woolf   \n",
       "414         1306       1                  Oliva y Ocana, Dona. Fermina   \n",
       "415         1307       3                  Saether, Mr. Simon Sivertsen   \n",
       "416         1308       3                           Ware, Mr. Frederick   \n",
       "417         1309       3                      Peter, Master. Michael J   \n",
       "\n",
       "        Sex   Age  SibSp  Parch              Ticket      Fare Cabin Embarked  \\\n",
       "0      male  34.5      0      0              330911    7.8292   NaN        Q   \n",
       "1    female  47.0      1      0              363272    7.0000   NaN        S   \n",
       "2      male  62.0      0      0              240276    9.6875   NaN        Q   \n",
       "3      male  27.0      0      0              315154    8.6625   NaN        S   \n",
       "4    female  22.0      1      1             3101298   12.2875   NaN        S   \n",
       "..      ...   ...    ...    ...                 ...       ...   ...      ...   \n",
       "413    male   NaN      0      0           A.5. 3236    8.0500   NaN        S   \n",
       "414  female  39.0      0      0            PC 17758  108.9000  C105        C   \n",
       "415    male  38.5      0      0  SOTON/O.Q. 3101262    7.2500   NaN        S   \n",
       "416    male   NaN      0      0              359309    8.0500   NaN        S   \n",
       "417    male   NaN      1      1                2668   22.3583   NaN        C   \n",
       "\n",
       "     Age_n Sex_n  fare_high  \n",
       "0    136.5     0      False  \n",
       "1    149.0     1      False  \n",
       "2    164.0     0      False  \n",
       "3    129.0     0      False  \n",
       "4    124.0     1      False  \n",
       "..     ...   ...        ...  \n",
       "413    NaN     0      False  \n",
       "414  141.0     1       True  \n",
       "415  140.5     0      False  \n",
       "416    NaN     0      False  \n",
       "417    NaN     0      False  \n",
       "\n",
       "[418 rows x 14 columns]"
      ]
     },
     "execution_count": 154,
     "metadata": {},
     "output_type": "execute_result"
    }
   ],
   "source": [
    "df"
   ]
  },
  {
   "cell_type": "code",
   "execution_count": 155,
   "id": "628ada48",
   "metadata": {},
   "outputs": [],
   "source": [
    "df.to_csv(\"test2.csv\", index = False)"
   ]
  },
  {
   "cell_type": "code",
   "execution_count": 156,
   "id": "da7fa273",
   "metadata": {},
   "outputs": [],
   "source": [
    "# 문제 17: Passengerid가 아래와 같은 사람의 이름을 출력하라\n",
    "# 901, 925, 950, 951, 952, 1026, 1028, 1039, 1040, 1106"
   ]
  },
  {
   "cell_type": "code",
   "execution_count": 158,
   "id": "d1015c53",
   "metadata": {},
   "outputs": [
    {
     "data": {
      "text/plain": [
       "0       892\n",
       "1       893\n",
       "2       894\n",
       "3       895\n",
       "4       896\n",
       "       ... \n",
       "413    1305\n",
       "414    1306\n",
       "415    1307\n",
       "416    1308\n",
       "417    1309\n",
       "Name: PassengerId, Length: 418, dtype: int64"
      ]
     },
     "execution_count": 158,
     "metadata": {},
     "output_type": "execute_result"
    }
   ],
   "source": [
    "df['PassengerId']"
   ]
  },
  {
   "cell_type": "code",
   "execution_count": 163,
   "id": "195ce1b7",
   "metadata": {},
   "outputs": [],
   "source": [
    "target = [901, 925, 950, 951, 952, 1026, 1028, 1039, 1040, 1106]"
   ]
  },
  {
   "cell_type": "code",
   "execution_count": 165,
   "id": "2b337071",
   "metadata": {},
   "outputs": [],
   "source": [
    "m = df['PassengerId'].apply(lambda x: x in target)"
   ]
  },
  {
   "cell_type": "code",
   "execution_count": 167,
   "id": "9905536b",
   "metadata": {},
   "outputs": [
    {
     "name": "stdout",
     "output_type": "stream",
     "text": [
      "문제 17번 답:\n"
     ]
    },
    {
     "data": {
      "text/html": [
       "<div>\n",
       "<style scoped>\n",
       "    .dataframe tbody tr th:only-of-type {\n",
       "        vertical-align: middle;\n",
       "    }\n",
       "\n",
       "    .dataframe tbody tr th {\n",
       "        vertical-align: top;\n",
       "    }\n",
       "\n",
       "    .dataframe thead th {\n",
       "        text-align: right;\n",
       "    }\n",
       "</style>\n",
       "<table border=\"1\" class=\"dataframe\">\n",
       "  <thead>\n",
       "    <tr style=\"text-align: right;\">\n",
       "      <th></th>\n",
       "      <th>PassengerId</th>\n",
       "      <th>Pclass</th>\n",
       "      <th>Name</th>\n",
       "      <th>Sex</th>\n",
       "      <th>Age</th>\n",
       "      <th>SibSp</th>\n",
       "      <th>Parch</th>\n",
       "      <th>Ticket</th>\n",
       "      <th>Fare</th>\n",
       "      <th>Cabin</th>\n",
       "      <th>Embarked</th>\n",
       "      <th>Age_n</th>\n",
       "      <th>Sex_n</th>\n",
       "      <th>fare_high</th>\n",
       "    </tr>\n",
       "  </thead>\n",
       "  <tbody>\n",
       "    <tr>\n",
       "      <th>9</th>\n",
       "      <td>901</td>\n",
       "      <td>3</td>\n",
       "      <td>Davies, Mr. John Samuel</td>\n",
       "      <td>male</td>\n",
       "      <td>21.0</td>\n",
       "      <td>2</td>\n",
       "      <td>0</td>\n",
       "      <td>A/4 48871</td>\n",
       "      <td>24.1500</td>\n",
       "      <td>NaN</td>\n",
       "      <td>S</td>\n",
       "      <td>123.0</td>\n",
       "      <td>0</td>\n",
       "      <td>False</td>\n",
       "    </tr>\n",
       "    <tr>\n",
       "      <th>33</th>\n",
       "      <td>925</td>\n",
       "      <td>3</td>\n",
       "      <td>Johnston, Mrs. Andrew G (Elizabeth Lily\" Watson)\"</td>\n",
       "      <td>female</td>\n",
       "      <td>NaN</td>\n",
       "      <td>1</td>\n",
       "      <td>2</td>\n",
       "      <td>W./C. 6607</td>\n",
       "      <td>23.4500</td>\n",
       "      <td>NaN</td>\n",
       "      <td>S</td>\n",
       "      <td>NaN</td>\n",
       "      <td>1</td>\n",
       "      <td>False</td>\n",
       "    </tr>\n",
       "    <tr>\n",
       "      <th>58</th>\n",
       "      <td>950</td>\n",
       "      <td>3</td>\n",
       "      <td>Davison, Mr. Thomas Henry</td>\n",
       "      <td>male</td>\n",
       "      <td>NaN</td>\n",
       "      <td>1</td>\n",
       "      <td>0</td>\n",
       "      <td>386525</td>\n",
       "      <td>16.1000</td>\n",
       "      <td>NaN</td>\n",
       "      <td>S</td>\n",
       "      <td>NaN</td>\n",
       "      <td>0</td>\n",
       "      <td>False</td>\n",
       "    </tr>\n",
       "    <tr>\n",
       "      <th>59</th>\n",
       "      <td>951</td>\n",
       "      <td>1</td>\n",
       "      <td>Chaudanson, Miss. Victorine</td>\n",
       "      <td>female</td>\n",
       "      <td>36.0</td>\n",
       "      <td>0</td>\n",
       "      <td>0</td>\n",
       "      <td>PC 17608</td>\n",
       "      <td>262.3750</td>\n",
       "      <td>B61</td>\n",
       "      <td>C</td>\n",
       "      <td>138.0</td>\n",
       "      <td>1</td>\n",
       "      <td>True</td>\n",
       "    </tr>\n",
       "    <tr>\n",
       "      <th>60</th>\n",
       "      <td>952</td>\n",
       "      <td>3</td>\n",
       "      <td>Dika, Mr. Mirko</td>\n",
       "      <td>male</td>\n",
       "      <td>17.0</td>\n",
       "      <td>0</td>\n",
       "      <td>0</td>\n",
       "      <td>349232</td>\n",
       "      <td>7.8958</td>\n",
       "      <td>NaN</td>\n",
       "      <td>S</td>\n",
       "      <td>119.0</td>\n",
       "      <td>0</td>\n",
       "      <td>False</td>\n",
       "    </tr>\n",
       "    <tr>\n",
       "      <th>134</th>\n",
       "      <td>1026</td>\n",
       "      <td>3</td>\n",
       "      <td>Dintcheff, Mr. Valtcho</td>\n",
       "      <td>male</td>\n",
       "      <td>43.0</td>\n",
       "      <td>0</td>\n",
       "      <td>0</td>\n",
       "      <td>349226</td>\n",
       "      <td>7.8958</td>\n",
       "      <td>NaN</td>\n",
       "      <td>S</td>\n",
       "      <td>145.0</td>\n",
       "      <td>0</td>\n",
       "      <td>False</td>\n",
       "    </tr>\n",
       "    <tr>\n",
       "      <th>136</th>\n",
       "      <td>1028</td>\n",
       "      <td>3</td>\n",
       "      <td>Zakarian, Mr. Mapriededer</td>\n",
       "      <td>male</td>\n",
       "      <td>26.5</td>\n",
       "      <td>0</td>\n",
       "      <td>0</td>\n",
       "      <td>2656</td>\n",
       "      <td>7.2250</td>\n",
       "      <td>NaN</td>\n",
       "      <td>C</td>\n",
       "      <td>128.5</td>\n",
       "      <td>0</td>\n",
       "      <td>False</td>\n",
       "    </tr>\n",
       "    <tr>\n",
       "      <th>147</th>\n",
       "      <td>1039</td>\n",
       "      <td>3</td>\n",
       "      <td>Davies, Mr. Evan</td>\n",
       "      <td>male</td>\n",
       "      <td>22.0</td>\n",
       "      <td>0</td>\n",
       "      <td>0</td>\n",
       "      <td>SC/A4 23568</td>\n",
       "      <td>8.0500</td>\n",
       "      <td>NaN</td>\n",
       "      <td>S</td>\n",
       "      <td>124.0</td>\n",
       "      <td>0</td>\n",
       "      <td>False</td>\n",
       "    </tr>\n",
       "    <tr>\n",
       "      <th>148</th>\n",
       "      <td>1040</td>\n",
       "      <td>1</td>\n",
       "      <td>Crafton, Mr. John Bertram</td>\n",
       "      <td>male</td>\n",
       "      <td>NaN</td>\n",
       "      <td>0</td>\n",
       "      <td>0</td>\n",
       "      <td>113791</td>\n",
       "      <td>26.5500</td>\n",
       "      <td>NaN</td>\n",
       "      <td>S</td>\n",
       "      <td>NaN</td>\n",
       "      <td>0</td>\n",
       "      <td>False</td>\n",
       "    </tr>\n",
       "    <tr>\n",
       "      <th>214</th>\n",
       "      <td>1106</td>\n",
       "      <td>3</td>\n",
       "      <td>Andersson, Miss. Ida Augusta Margareta</td>\n",
       "      <td>female</td>\n",
       "      <td>38.0</td>\n",
       "      <td>4</td>\n",
       "      <td>2</td>\n",
       "      <td>347091</td>\n",
       "      <td>7.7750</td>\n",
       "      <td>NaN</td>\n",
       "      <td>S</td>\n",
       "      <td>140.0</td>\n",
       "      <td>1</td>\n",
       "      <td>False</td>\n",
       "    </tr>\n",
       "  </tbody>\n",
       "</table>\n",
       "</div>"
      ],
      "text/plain": [
       "     PassengerId  Pclass                                               Name  \\\n",
       "9            901       3                            Davies, Mr. John Samuel   \n",
       "33           925       3  Johnston, Mrs. Andrew G (Elizabeth Lily\" Watson)\"   \n",
       "58           950       3                          Davison, Mr. Thomas Henry   \n",
       "59           951       1                        Chaudanson, Miss. Victorine   \n",
       "60           952       3                                    Dika, Mr. Mirko   \n",
       "134         1026       3                             Dintcheff, Mr. Valtcho   \n",
       "136         1028       3                          Zakarian, Mr. Mapriededer   \n",
       "147         1039       3                                   Davies, Mr. Evan   \n",
       "148         1040       1                          Crafton, Mr. John Bertram   \n",
       "214         1106       3             Andersson, Miss. Ida Augusta Margareta   \n",
       "\n",
       "        Sex   Age  SibSp  Parch       Ticket      Fare Cabin Embarked  Age_n  \\\n",
       "9      male  21.0      2      0    A/4 48871   24.1500   NaN        S  123.0   \n",
       "33   female   NaN      1      2   W./C. 6607   23.4500   NaN        S    NaN   \n",
       "58     male   NaN      1      0       386525   16.1000   NaN        S    NaN   \n",
       "59   female  36.0      0      0     PC 17608  262.3750   B61        C  138.0   \n",
       "60     male  17.0      0      0       349232    7.8958   NaN        S  119.0   \n",
       "134    male  43.0      0      0       349226    7.8958   NaN        S  145.0   \n",
       "136    male  26.5      0      0         2656    7.2250   NaN        C  128.5   \n",
       "147    male  22.0      0      0  SC/A4 23568    8.0500   NaN        S  124.0   \n",
       "148    male   NaN      0      0       113791   26.5500   NaN        S    NaN   \n",
       "214  female  38.0      4      2       347091    7.7750   NaN        S  140.0   \n",
       "\n",
       "    Sex_n  fare_high  \n",
       "9       0      False  \n",
       "33      1      False  \n",
       "58      0      False  \n",
       "59      1       True  \n",
       "60      0      False  \n",
       "134     0      False  \n",
       "136     0      False  \n",
       "147     0      False  \n",
       "148     0      False  \n",
       "214     1      False  "
      ]
     },
     "execution_count": 167,
     "metadata": {},
     "output_type": "execute_result"
    }
   ],
   "source": [
    "print('문제 17번 답:')\n",
    "df[m]"
   ]
  },
  {
   "cell_type": "code",
   "execution_count": 168,
   "id": "eb1be843",
   "metadata": {},
   "outputs": [],
   "source": [
    "# 문제 18: SibSp가 0인 그룹과 1 이상인 그룹 사이에 Fare의 차이가 있는지 통계적으로 확인하라"
   ]
  },
  {
   "cell_type": "code",
   "execution_count": 172,
   "id": "4360f380",
   "metadata": {},
   "outputs": [],
   "source": [
    "df_0 = df[df['SibSp'] == 0]"
   ]
  },
  {
   "cell_type": "code",
   "execution_count": 174,
   "id": "5f2de3ee",
   "metadata": {},
   "outputs": [
    {
     "data": {
      "text/plain": [
       "count    282.000000\n",
       "mean      25.986732\n",
       "std       48.631799\n",
       "min        0.000000\n",
       "25%        7.775000\n",
       "50%        9.337500\n",
       "75%       25.935425\n",
       "max      512.329200\n",
       "Name: Fare, dtype: float64"
      ]
     },
     "execution_count": 174,
     "metadata": {},
     "output_type": "execute_result"
    }
   ],
   "source": [
    "df_0['Fare'].describe()"
   ]
  },
  {
   "cell_type": "code",
   "execution_count": 176,
   "id": "39a63af8",
   "metadata": {},
   "outputs": [],
   "source": [
    "df_0up = df[df['SibSp']>=1]"
   ]
  },
  {
   "cell_type": "code",
   "execution_count": 178,
   "id": "ad73e6f7",
   "metadata": {},
   "outputs": [
    {
     "data": {
      "text/plain": [
       "count    135.000000\n",
       "mean      55.765032\n",
       "std       64.341569\n",
       "min        6.437500\n",
       "25%       16.100000\n",
       "50%       26.000000\n",
       "75%       65.000000\n",
       "max      263.000000\n",
       "Name: Fare, dtype: float64"
      ]
     },
     "execution_count": 178,
     "metadata": {},
     "output_type": "execute_result"
    }
   ],
   "source": [
    "df_0up['Fare'].describe()"
   ]
  },
  {
   "cell_type": "code",
   "execution_count": 184,
   "id": "76471db3",
   "metadata": {},
   "outputs": [
    {
     "name": "stdout",
     "output_type": "stream",
     "text": [
      "문제 18의 답:\n",
      " 확인 결과, 통계적으로 차이가 있다.\n",
      " Fare=0인 값들은 Fare>=1인 값들보다 평균값과 표준편차가 작다.\n"
     ]
    }
   ],
   "source": [
    "print('문제 18의 답:\\n 확인 결과, 통계적으로 차이가 있다.\\n Fare=0인 값들은 Fare>=1인 값들보다 평균값과 표준편차가 작다.')"
   ]
  },
  {
   "cell_type": "code",
   "execution_count": 181,
   "id": "c3322f16",
   "metadata": {},
   "outputs": [],
   "source": [
    "# 문제 19: test.csv 파일에서 숫자 데이터로 이루어진 column과 문자 데이터로 이루어진 column을 서로 분리하는 함수를 작성하라"
   ]
  },
  {
   "cell_type": "code",
   "execution_count": 191,
   "id": "a1b2ae0d",
   "metadata": {},
   "outputs": [
    {
     "data": {
      "text/plain": [
       "dtype('float64')"
      ]
     },
     "execution_count": 191,
     "metadata": {},
     "output_type": "execute_result"
    }
   ],
   "source": [
    "df['Fare'].dtype"
   ]
  },
  {
   "cell_type": "code",
   "execution_count": 194,
   "id": "5e54becb",
   "metadata": {},
   "outputs": [
    {
     "data": {
      "text/plain": [
       "Index(['PassengerId', 'Pclass', 'Name', 'Sex', 'Age', 'SibSp', 'Parch',\n",
       "       'Ticket', 'Fare', 'Cabin', 'Embarked', 'Age_n', 'Sex_n', 'fare_high'],\n",
       "      dtype='object')"
      ]
     },
     "execution_count": 194,
     "metadata": {},
     "output_type": "execute_result"
    }
   ],
   "source": [
    "df.columns"
   ]
  },
  {
   "cell_type": "code",
   "execution_count": 196,
   "id": "c8201ca3",
   "metadata": {},
   "outputs": [],
   "source": [
    "# 문제 20: Age가 짝수인 경우 1, 홀수인 경우 0으로 반환하는 함수를 작성하라"
   ]
  },
  {
   "cell_type": "code",
   "execution_count": 210,
   "id": "c9c71d27",
   "metadata": {},
   "outputs": [
    {
     "ename": "SyntaxError",
     "evalue": "invalid syntax (4163828311.py, line 3)",
     "output_type": "error",
     "traceback": [
      "\u001b[1;36m  Cell \u001b[1;32mIn[210], line 3\u001b[1;36m\u001b[0m\n\u001b[1;33m    return df['Age']=1\u001b[0m\n\u001b[1;37m                    ^\u001b[0m\n\u001b[1;31mSyntaxError\u001b[0m\u001b[1;31m:\u001b[0m invalid syntax\n"
     ]
    }
   ],
   "source": [
    "def age(x=df['Age']):\n",
    "    if x%2==0:\n",
    "        return df['Age']=1\n",
    "    elif x%2==1:\n",
    "        return df['Age']=0"
   ]
  },
  {
   "cell_type": "code",
   "execution_count": 215,
   "id": "03c66ca8",
   "metadata": {},
   "outputs": [
    {
     "ename": "ValueError",
     "evalue": "The truth value of a Series is ambiguous. Use a.empty, a.bool(), a.item(), a.any() or a.all().",
     "output_type": "error",
     "traceback": [
      "\u001b[1;31m---------------------------------------------------------------------------\u001b[0m",
      "\u001b[1;31mValueError\u001b[0m                                Traceback (most recent call last)",
      "Cell \u001b[1;32mIn[215], line 1\u001b[0m\n\u001b[1;32m----> 1\u001b[0m \u001b[38;5;28;01mif\u001b[39;00m \u001b[43mdf\u001b[49m\u001b[43m[\u001b[49m\u001b[38;5;124;43m'\u001b[39;49m\u001b[38;5;124;43mAge\u001b[39;49m\u001b[38;5;124;43m'\u001b[39;49m\u001b[43m]\u001b[49m\u001b[38;5;241;43m%\u001b[39;49m\u001b[38;5;241;43m2\u001b[39;49m\u001b[38;5;241;43m==\u001b[39;49m\u001b[38;5;241;43m0\u001b[39;49m:\n\u001b[0;32m      2\u001b[0m     \u001b[38;5;28;01mif\u001b[39;00m \u001b[38;5;28;01mTrue\u001b[39;00m:\n\u001b[0;32m      3\u001b[0m         df[\u001b[38;5;124m'\u001b[39m\u001b[38;5;124mAge\u001b[39m\u001b[38;5;124m'\u001b[39m]\u001b[38;5;241m=\u001b[39m\u001b[38;5;241m1\u001b[39m\n",
      "File \u001b[1;32mC:\\ProgramData\\anaconda3\\lib\\site-packages\\pandas\\core\\generic.py:1527\u001b[0m, in \u001b[0;36mNDFrame.__nonzero__\u001b[1;34m(self)\u001b[0m\n\u001b[0;32m   1525\u001b[0m \u001b[38;5;129m@final\u001b[39m\n\u001b[0;32m   1526\u001b[0m \u001b[38;5;28;01mdef\u001b[39;00m \u001b[38;5;21m__nonzero__\u001b[39m(\u001b[38;5;28mself\u001b[39m) \u001b[38;5;241m-\u001b[39m\u001b[38;5;241m>\u001b[39m NoReturn:\n\u001b[1;32m-> 1527\u001b[0m     \u001b[38;5;28;01mraise\u001b[39;00m \u001b[38;5;167;01mValueError\u001b[39;00m(\n\u001b[0;32m   1528\u001b[0m         \u001b[38;5;124mf\u001b[39m\u001b[38;5;124m\"\u001b[39m\u001b[38;5;124mThe truth value of a \u001b[39m\u001b[38;5;132;01m{\u001b[39;00m\u001b[38;5;28mtype\u001b[39m(\u001b[38;5;28mself\u001b[39m)\u001b[38;5;241m.\u001b[39m\u001b[38;5;18m__name__\u001b[39m\u001b[38;5;132;01m}\u001b[39;00m\u001b[38;5;124m is ambiguous. \u001b[39m\u001b[38;5;124m\"\u001b[39m\n\u001b[0;32m   1529\u001b[0m         \u001b[38;5;124m\"\u001b[39m\u001b[38;5;124mUse a.empty, a.bool(), a.item(), a.any() or a.all().\u001b[39m\u001b[38;5;124m\"\u001b[39m\n\u001b[0;32m   1530\u001b[0m     )\n",
      "\u001b[1;31mValueError\u001b[0m: The truth value of a Series is ambiguous. Use a.empty, a.bool(), a.item(), a.any() or a.all()."
     ]
    }
   ],
   "source": [
    "if df['Age']%2==0:\n",
    "    if True:\n",
    "        df['Age']=1"
   ]
  },
  {
   "cell_type": "code",
   "execution_count": null,
   "id": "e4a47e56",
   "metadata": {},
   "outputs": [],
   "source": []
  }
 ],
 "metadata": {
  "kernelspec": {
   "display_name": "Python 3 (ipykernel)",
   "language": "python",
   "name": "python3"
  },
  "language_info": {
   "codemirror_mode": {
    "name": "ipython",
    "version": 3
   },
   "file_extension": ".py",
   "mimetype": "text/x-python",
   "name": "python",
   "nbconvert_exporter": "python",
   "pygments_lexer": "ipython3",
   "version": "3.10.9"
  }
 },
 "nbformat": 4,
 "nbformat_minor": 5
}
