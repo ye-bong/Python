{
 "cells": [
  {
   "cell_type": "raw",
   "id": "78561ce5",
   "metadata": {},
   "source": [
    "논문 쓰는 법 230719\n",
    "서론\n",
    "문제 대두(현재 상황 안좋다. 내가 시키는대로 해라)\n",
    "\n",
    "본론\n",
    "시각적으로 글을 그림으로 표현하자.\n",
    "네트워크 엑스, 파이벤 -> 파이썬에서 관계 그래프 그려주는 패키지(그러나 쓰기 어려우니 적절히 사용)\n",
    "\n",
    "결론 및 제언\n",
    "사실에 기반한 내용들\n",
    "\n",
    "참고문헌\n",
    "규격에 맞춰 써야함\n",
    "워드, 엔드노트: 규격 적당히 맞춰서 씀\n",
    "구글 스칼라에서 논문 이름, 책이름 쓰면 인용 버튼 있음. 눌러서 규격 참고 (복붙)\n",
    "보통 apa 규격 사용, 단 MLA,APA,ISO 690 중에 선택하여 전부다 통일해서 작성\n",
    "\n",
    "누군가 했던 주장이면, 어쩌구 저쩌구 주장(누가, 언제) 일케 말하면 됨.\n",
    "기술 교육에 대한 인식이 부족하며(ITEA, 2007)\n",
    "\n",
    "\n",
    "Materials and Methods\n",
    "어떤 데이터를 어떻게 수집해서 어떻게 전처리를 했는지에 관한 이야기.\n",
    "데이터를 어디서 다운로드 했느냐, 누가 줬느냐\n",
    "쓴 패키지 및 버전\n",
    "\n",
    "Materials and Methods\n",
    "내가 쓴 분석 방법 쓰기\n",
    "복잡한 t-test 분석방법\n",
    "p-value 및 통계적인 방법의 cut off 작성\n",
    "\n",
    "\n",
    "내가 쓴 어떤 분석 방법이 있으면 하나하나 설명을 다 해줘야함\n",
    "\n",
    "- input 데이터에 대한 기초통계 제시하기\n",
    "- workflow 작성은 나중에 해도 된다. (분석 다한 후에)\n",
    "\n",
    "Result\n",
    "객관적인 사실 첨부하기\n",
    "그래프 등등 첨부하고 객관적인 사실을 읽어주기\n",
    "내 의견이랑 동일한 것을 보여주는 객관적인 사실을 첨부\n",
    "내 의견이랑 반대되는 객관적인 사실은 왠만하면 넣지 않음(넣지 말자)\n",
    "\n",
    "Discussion\n",
    "그래서 그 사실에서 뭐를 도출할 수 있는지 쓰기\n",
    "내 의견이랑 같은 다른 사람의 의견도 result를 근거로 제시하며 인용\n",
    "\n",
    "통계적으로 5쯤 조회수가 차이나는것으로 확인되었으나 현실적으로 신경을 안써도 되는 숫작이기에 유의미하지 않는다고 생각할 수 있다.\n"
   ]
  },
  {
   "cell_type": "markdown",
   "id": "01e8934b",
   "metadata": {},
   "source": [
    "# 객체 지향 프로그래밍\n",
    "# (Object-Oriented Programming, OOP)\n",
    "- 객체 지향: 객체간 상호작용으로 구성\n",
    "- 절차 지향 (기존 방식) : 명령어 흐름으로 구성\n",
    "- 사람(객체, 속성:물건을 산다) - 자판기(객체, 속성:물건을 판다)\n",
    "\n",
    "- 객체 지향 프로그래밍의 구성요소: 객체, 클래스, 메소드\n",
    "    - 객체: 클래스가 구현된 것\n",
    "    - 클래스: 속성과 행위를 정의한 것\n",
    "    - 메소드: 객체에 명령 또는 통신하는 것\n",
    "\n",
    "- 클래스의 장점: 추상화, 클래스의 종속관계 생성을 통한 모듈화 용이성\n",
    "    - 추상화: 모니터의 작동 원리, 생산법 등을 알 수 있음\n",
    "    - 클래스: 모니터 생산라인\n",
    "    - 행위 : 모니터는 어떤 행위를 한다\n",
    "    - 속성: 어떤 부품이 있고 이 버튼은 빛을 낸다.\n",
    "    - 객체: 모니터\n",
    "    - 모듈화: 코드 복붙으로만 작동이 되는 것\n",
    "\n",
    "- 클래스: 데이터와 기능을 함께 묶는 기능을 제공\n",
    "- 함수를 여러 개 같이 사용할 때, 전역 변수 편집을 할 때 생기는 문제 해소\n",
    "    - 전역변수 global : 함수 밖에 있는 것\n",
    "    - 지역변수 local: 함수 안에 있는 것\n",
    "- 클래스의 장점:\n",
    "    - 클래스마다 고유한 데이터를 부여해 사용 가능\n",
    "    - 같은 기능을 동시에 여러군데에서 사용 가능\n",
    "    - 프로그램 유지보수의 편의성\n",
    "    - 프로그램의 모듈화 용이성\n",
    "\n",
    "- 클래스의 특수한 요소\n",
    "    - 초기화(initializing): 클래스를 사용할 때 속성을 설정하는 과정\n",
    "    - 상속(inheritance): 어떤 클래스의 속성, 메소드를 다른 클래스에 부여하는 것\n",
    "    - __init__ : 초기화 함수\n",
    "    - self: 초기화된 클래스 자신"
   ]
  },
  {
   "cell_type": "code",
   "execution_count": 1,
   "id": "7131fa46",
   "metadata": {},
   "outputs": [],
   "source": [
    "# 전역변수 ,지역변수 설명\n",
    "def function1():\n",
    "    a = 456\n",
    "    print(a)"
   ]
  },
  {
   "cell_type": "code",
   "execution_count": 2,
   "id": "ced7384f",
   "metadata": {},
   "outputs": [
    {
     "name": "stdout",
     "output_type": "stream",
     "text": [
      "456\n"
     ]
    }
   ],
   "source": [
    "function1()"
   ]
  },
  {
   "cell_type": "code",
   "execution_count": 3,
   "id": "96e444b9",
   "metadata": {},
   "outputs": [],
   "source": [
    "a = 987"
   ]
  },
  {
   "cell_type": "code",
   "execution_count": 4,
   "id": "3000c6f7",
   "metadata": {},
   "outputs": [
    {
     "name": "stdout",
     "output_type": "stream",
     "text": [
      "456\n"
     ]
    }
   ],
   "source": [
    "function1()"
   ]
  },
  {
   "cell_type": "code",
   "execution_count": 5,
   "id": "1a5fa6f5",
   "metadata": {},
   "outputs": [
    {
     "data": {
      "text/plain": [
       "987"
      ]
     },
     "execution_count": 5,
     "metadata": {},
     "output_type": "execute_result"
    }
   ],
   "source": [
    "a"
   ]
  },
  {
   "cell_type": "code",
   "execution_count": null,
   "id": "4546d564",
   "metadata": {},
   "outputs": [],
   "source": [
    "# 전역변수 != 지역변수"
   ]
  },
  {
   "cell_type": "code",
   "execution_count": 6,
   "id": "cd3ab207",
   "metadata": {},
   "outputs": [],
   "source": [
    "def function2():\n",
    "    b += 50\n",
    "    print(b)"
   ]
  },
  {
   "cell_type": "code",
   "execution_count": 7,
   "id": "329bbe65",
   "metadata": {},
   "outputs": [],
   "source": [
    "b = 999"
   ]
  },
  {
   "cell_type": "code",
   "execution_count": 8,
   "id": "a1237c27",
   "metadata": {},
   "outputs": [
    {
     "data": {
      "text/plain": [
       "999"
      ]
     },
     "execution_count": 8,
     "metadata": {},
     "output_type": "execute_result"
    }
   ],
   "source": [
    "b"
   ]
  },
  {
   "cell_type": "code",
   "execution_count": 9,
   "id": "71b964f1",
   "metadata": {},
   "outputs": [
    {
     "ename": "UnboundLocalError",
     "evalue": "local variable 'b' referenced before assignment",
     "output_type": "error",
     "traceback": [
      "\u001b[1;31m---------------------------------------------------------------------------\u001b[0m",
      "\u001b[1;31mUnboundLocalError\u001b[0m                         Traceback (most recent call last)",
      "Cell \u001b[1;32mIn[9], line 1\u001b[0m\n\u001b[1;32m----> 1\u001b[0m \u001b[43mfunction2\u001b[49m\u001b[43m(\u001b[49m\u001b[43m)\u001b[49m\n",
      "Cell \u001b[1;32mIn[6], line 2\u001b[0m, in \u001b[0;36mfunction2\u001b[1;34m()\u001b[0m\n\u001b[0;32m      1\u001b[0m \u001b[38;5;28;01mdef\u001b[39;00m \u001b[38;5;21mfunction2\u001b[39m():\n\u001b[1;32m----> 2\u001b[0m     b \u001b[38;5;241m+\u001b[39m\u001b[38;5;241m=\u001b[39m \u001b[38;5;241m50\u001b[39m\n\u001b[0;32m      3\u001b[0m     \u001b[38;5;28mprint\u001b[39m(b)\n",
      "\u001b[1;31mUnboundLocalError\u001b[0m: local variable 'b' referenced before assignment"
     ]
    }
   ],
   "source": [
    "function2()"
   ]
  },
  {
   "cell_type": "code",
   "execution_count": 10,
   "id": "2e2d53f6",
   "metadata": {},
   "outputs": [],
   "source": [
    "def function3():\n",
    "    print(b + 50)"
   ]
  },
  {
   "cell_type": "code",
   "execution_count": 11,
   "id": "fe0a03a7",
   "metadata": {},
   "outputs": [
    {
     "name": "stdout",
     "output_type": "stream",
     "text": [
      "1049\n"
     ]
    }
   ],
   "source": [
    "function3()"
   ]
  },
  {
   "cell_type": "code",
   "execution_count": 12,
   "id": "ef4e9501",
   "metadata": {},
   "outputs": [
    {
     "data": {
      "text/plain": [
       "999"
      ]
     },
     "execution_count": 12,
     "metadata": {},
     "output_type": "execute_result"
    }
   ],
   "source": [
    "b # 전역변수와 지역변수 이름을 중복시키지 말자"
   ]
  },
  {
   "cell_type": "code",
   "execution_count": 13,
   "id": "250c63a8",
   "metadata": {},
   "outputs": [],
   "source": [
    "def function4():\n",
    "    local_b = 0\n",
    "    print(local_b + 50)"
   ]
  },
  {
   "cell_type": "code",
   "execution_count": 14,
   "id": "47d14e3e",
   "metadata": {},
   "outputs": [
    {
     "name": "stdout",
     "output_type": "stream",
     "text": [
      "50\n"
     ]
    }
   ],
   "source": [
    "function4()"
   ]
  },
  {
   "cell_type": "code",
   "execution_count": 16,
   "id": "2a9ede1d",
   "metadata": {},
   "outputs": [],
   "source": [
    "def function5():\n",
    "    global b\n",
    "    b += 50\n",
    "    print(b)"
   ]
  },
  {
   "cell_type": "code",
   "execution_count": 17,
   "id": "491efc78",
   "metadata": {},
   "outputs": [
    {
     "name": "stdout",
     "output_type": "stream",
     "text": [
      "1049\n"
     ]
    }
   ],
   "source": [
    "function5()"
   ]
  },
  {
   "cell_type": "code",
   "execution_count": 18,
   "id": "b31bbcd4",
   "metadata": {},
   "outputs": [
    {
     "data": {
      "text/plain": [
       "1049"
      ]
     },
     "execution_count": 18,
     "metadata": {},
     "output_type": "execute_result"
    }
   ],
   "source": [
    "b"
   ]
  },
  {
   "cell_type": "code",
   "execution_count": 19,
   "id": "cf71c3bd",
   "metadata": {},
   "outputs": [
    {
     "name": "stdout",
     "output_type": "stream",
     "text": [
      "1099\n"
     ]
    }
   ],
   "source": [
    "function5()"
   ]
  },
  {
   "cell_type": "code",
   "execution_count": 20,
   "id": "5998f662",
   "metadata": {},
   "outputs": [
    {
     "data": {
      "text/plain": [
       "1099"
      ]
     },
     "execution_count": 20,
     "metadata": {},
     "output_type": "execute_result"
    }
   ],
   "source": [
    "b"
   ]
  },
  {
   "cell_type": "markdown",
   "id": "8f16eaad",
   "metadata": {},
   "source": [
    "# 클래스 만드는 법"
   ]
  },
  {
   "cell_type": "code",
   "execution_count": 23,
   "id": "15827ce8",
   "metadata": {},
   "outputs": [
    {
     "data": {
      "text/plain": [
       "'hello world'"
      ]
     },
     "execution_count": 23,
     "metadata": {},
     "output_type": "execute_result"
    }
   ],
   "source": [
    "# 클래스는 정의할때 앞문자를 대문자, 나머지 소문자로 작성하는게 국룰 (카멜케이스 작명법)\n",
    "# pd.DataFrame() -> 이것도 클래스\n",
    "\n",
    "# 용례1\n",
    "class MyClass:\n",
    "    i = 12345\n",
    "    \n",
    "    def f(self):\n",
    "        return 'hello world'\n",
    "\n",
    "MyClass.f(1)\n",
    "\n",
    "# MyClass의\n",
    "# 속성: i\n",
    "# 메소드: 함수 f"
   ]
  },
  {
   "cell_type": "code",
   "execution_count": 24,
   "id": "40339697",
   "metadata": {},
   "outputs": [
    {
     "data": {
      "text/plain": [
       "12345"
      ]
     },
     "execution_count": 24,
     "metadata": {},
     "output_type": "execute_result"
    }
   ],
   "source": [
    "MyClass.i"
   ]
  },
  {
   "cell_type": "code",
   "execution_count": 27,
   "id": "006e063e",
   "metadata": {},
   "outputs": [
    {
     "data": {
      "text/plain": [
       "(3.0, -4.5)"
      ]
     },
     "execution_count": 27,
     "metadata": {},
     "output_type": "execute_result"
    }
   ],
   "source": [
    "# 용례2\n",
    "class Complex:\n",
    "    def __init__(self, realpart, imagpart):\n",
    "        self.r = realpart\n",
    "        self.i = imagpart\n",
    "\n",
    "x = Complex(3.0, -4.5)\n",
    "x.r, x.i\n",
    "\n",
    "# self = x가 되는것임"
   ]
  },
  {
   "cell_type": "code",
   "execution_count": 28,
   "id": "947eb016",
   "metadata": {},
   "outputs": [],
   "source": [
    "a = Complex(1,2)"
   ]
  },
  {
   "cell_type": "code",
   "execution_count": 30,
   "id": "fd195fcc",
   "metadata": {},
   "outputs": [
    {
     "data": {
      "text/plain": [
       "(1, 2)"
      ]
     },
     "execution_count": 30,
     "metadata": {},
     "output_type": "execute_result"
    }
   ],
   "source": [
    "a.r, a.i"
   ]
  },
  {
   "cell_type": "code",
   "execution_count": 31,
   "id": "1d63b058",
   "metadata": {},
   "outputs": [
    {
     "data": {
      "text/plain": [
       "False"
      ]
     },
     "execution_count": 31,
     "metadata": {},
     "output_type": "execute_result"
    }
   ],
   "source": [
    "x == a"
   ]
  },
  {
   "cell_type": "code",
   "execution_count": 32,
   "id": "3d30fa5c",
   "metadata": {},
   "outputs": [
    {
     "name": "stdout",
     "output_type": "stream",
     "text": [
      "16\n"
     ]
    }
   ],
   "source": [
    "# 응례 2에서 계속\n",
    "x.counter = 1\n",
    "while x.counter < 10:\n",
    "    x.counter = x.counter * 2\n",
    "print(x.counter)\n",
    "del x.counter # 한번 부여된 속성을 지운다"
   ]
  },
  {
   "cell_type": "code",
   "execution_count": 35,
   "id": "a0ba859c",
   "metadata": {},
   "outputs": [],
   "source": [
    "# 상속의 예시\n",
    "# Super Class\n",
    "class Tree:\n",
    "    kingdom = 'plantae'\n",
    "    leaf = True\n",
    "    fruit = 'fruit_name'\n",
    "  \n",
    "    def flower(self):\n",
    "        print('나무에 꽃이 피었습니다')\n",
    "\n",
    "# Sub Class\n",
    "class FruitTree(Tree):\n",
    "    def __init__(self, fruit):\n",
    "        self.fruit = fruit\n",
    "    \n",
    "    def observe_the_fruit(self):\n",
    "        print(f'나무에 열린 열매는 {self.fruit}입니다')\n"
   ]
  },
  {
   "cell_type": "code",
   "execution_count": 39,
   "id": "f36f3562",
   "metadata": {},
   "outputs": [],
   "source": [
    "tree1 = Tree() # 객체 생성"
   ]
  },
  {
   "cell_type": "code",
   "execution_count": 40,
   "id": "e06832cf",
   "metadata": {},
   "outputs": [
    {
     "data": {
      "text/plain": [
       "'plantae'"
      ]
     },
     "execution_count": 40,
     "metadata": {},
     "output_type": "execute_result"
    }
   ],
   "source": [
    "tree1.kingdom"
   ]
  },
  {
   "cell_type": "code",
   "execution_count": 41,
   "id": "ff60377e",
   "metadata": {},
   "outputs": [
    {
     "name": "stdout",
     "output_type": "stream",
     "text": [
      "나무에 꽃이 피었습니다\n"
     ]
    }
   ],
   "source": [
    "tree1.flower()"
   ]
  },
  {
   "cell_type": "code",
   "execution_count": 43,
   "id": "2b175479",
   "metadata": {},
   "outputs": [],
   "source": [
    "orangetree = FruitTree('orange')"
   ]
  },
  {
   "cell_type": "code",
   "execution_count": 44,
   "id": "fc3382b4",
   "metadata": {},
   "outputs": [
    {
     "name": "stdout",
     "output_type": "stream",
     "text": [
      "나무에 열린 열매는 orange입니다\n"
     ]
    }
   ],
   "source": [
    "orangetree.observe_the_fruit()"
   ]
  },
  {
   "cell_type": "code",
   "execution_count": 45,
   "id": "fd5067f8",
   "metadata": {},
   "outputs": [
    {
     "data": {
      "text/plain": [
       "True"
      ]
     },
     "execution_count": 45,
     "metadata": {},
     "output_type": "execute_result"
    }
   ],
   "source": [
    "orangetree.leaf"
   ]
  },
  {
   "cell_type": "code",
   "execution_count": 46,
   "id": "83fac255",
   "metadata": {},
   "outputs": [
    {
     "data": {
      "text/plain": [
       "'orange'"
      ]
     },
     "execution_count": 46,
     "metadata": {},
     "output_type": "execute_result"
    }
   ],
   "source": [
    "orangetree.fruit"
   ]
  },
  {
   "cell_type": "markdown",
   "id": "2fc66e51",
   "metadata": {},
   "source": [
    "## 크롤링\n",
    "- 정적 크롤링은 다루지않음\n",
    "- 동적 크롤링 실습"
   ]
  },
  {
   "cell_type": "code",
   "execution_count": 47,
   "id": "d1dd9410",
   "metadata": {},
   "outputs": [],
   "source": [
    "# 동적 크롤링 실습\n",
    "# 유튜브는 크롤링 쓰지말고 구글에서 제공하는 것 쓰시오 (ip 막히기 때문)\n",
    "# 네이버 블로그는 크롤링 금지. robot noindex 어쩌구로 써져있음\n",
    "# 하지만 몰래몰래 많이 하고있음"
   ]
  },
  {
   "cell_type": "code",
   "execution_count": 48,
   "id": "71a0f04e",
   "metadata": {},
   "outputs": [],
   "source": [
    "# q 는 쿼리의 약자 (검색을 하겠다는 뜻)"
   ]
  },
  {
   "cell_type": "code",
   "execution_count": 5,
   "id": "96456096",
   "metadata": {},
   "outputs": [],
   "source": [
    "# anaconda prompt에 pip install selenium 설치"
   ]
  },
  {
   "cell_type": "code",
   "execution_count": 1,
   "id": "acb48638",
   "metadata": {},
   "outputs": [],
   "source": [
    "# 패키지 불러오기\n",
    "from selenium import webdriver\n",
    "import pandas as pd\n",
    "\n",
    "driver = webdriver.Chrome()\n",
    "\n",
    "# 검색어 입력 및 검색\n",
    "keyword = '서울 종로구 어학원'\n",
    "kakao_map_search_url = f\"https://map.kakao.com/?q={keyword}\"\n",
    "\n",
    "driver.get(kakao_map_search_url) \n",
    "driver.get(kakao_map_search_url) # 한번더 클릭해서 배너를 없에기"
   ]
  },
  {
   "cell_type": "code",
   "execution_count": 6,
   "id": "f30cf334",
   "metadata": {},
   "outputs": [],
   "source": [
    "# https://map.kakao.com/?q=%EC%84%9C%EC%9A%B8%20%EC%A2%85%EB%A1%9C%EA%B5%AC%20%EC%96%B4%ED%95%99%EC%9B%90\n",
    "# url 파싱, 뒤에 한글이 깨져서 문자 및 기호로 바꿔준것"
   ]
  },
  {
   "cell_type": "code",
   "execution_count": null,
   "id": "d402b171",
   "metadata": {},
   "outputs": [],
   "source": [
    "# f12 는 개발자도구\n",
    "# //*[@id=\"info.search.place.list\"]/li[1]/div[3]/strong/a[2]"
   ]
  },
  {
   "cell_type": "code",
   "execution_count": 13,
   "id": "ae1ea1e7",
   "metadata": {},
   "outputs": [
    {
     "data": {
      "text/plain": [
       "'YBM어학원 종로센터'"
      ]
     },
     "execution_count": 13,
     "metadata": {},
     "output_type": "execute_result"
    }
   ],
   "source": [
    "driver.find_element(by='xpath',\n",
    "                   value = f'//*[@id=\"info.search.place.list\"]/li[1]/div[3]/strong/a[2]').text"
   ]
  },
  {
   "cell_type": "code",
   "execution_count": 20,
   "id": "c7147357",
   "metadata": {},
   "outputs": [],
   "source": [
    "driver.find_element(by='xpath',\n",
    "                   value = f'//*[@id=\"info.search.place.list\"]/li[1]/div[3]/strong/a[2]').click()"
   ]
  },
  {
   "cell_type": "code",
   "execution_count": 18,
   "id": "561caf12",
   "metadata": {},
   "outputs": [],
   "source": [
    "ind = 1  # 현재 복사한 순서\n",
    "no = 1  # 1~5페이지 중 위치한 곳\n",
    "page = 1  # 현재 페이지 번호\n",
    "list1 = []  # 결과물이 저장되는 리스트\n",
    "\n",
    "while 1:\n",
    "    try:\n",
    "        # 업체명, 주소\n",
    "        title = driver.find_element(by='xpath',value = f'//*[@id=\"info.search.place.list\"]/li[{ind}]/div[3]/strong/a[2]').text\n",
    "        addr = driver.find_element(by='xpath',value = f'//*[@id=\"info.search.place.list\"]/li[{ind}]/div[5]/div[2]/p[1]').text\n",
    "        list1.append([title, addr])\n",
    "        \n",
    "        ind += 1\n",
    "        \n",
    "    except:\n",
    "\n",
    "        # 다음 페이지로 이동\n",
    "        elif no >= 5:\n",
    "            driver.find_element(by='xpath',value = f'//*[@id=\"info.search.page.next\"]').click()\n",
    "            no = 1\n",
    "            ind = 1\n",
    "            page += 1\n",
    "            continue\n",
    "            \n",
    "        # 5페이지 단위마다 다음 페이지 버튼 누르기\n",
    "        elif driver.find_element(by='xpath',value = f'//*[@id=\"info.search.page.no{no+1}\"]').is_displayed():\n",
    "            no += 1\n",
    "            driver.find_element(by='xpath',value = f'//*[@id=\"info.search.page.no{no}\"]').click()\n",
    "            ind = 1\n",
    "            page += 1\n",
    "            continue\n",
    "        \n",
    "        # 더이상 이동할수 없을 경우 종료\n",
    "        else:\n",
    "            break"
   ]
  },
  {
   "cell_type": "code",
   "execution_count": 21,
   "id": "bb8e9d2a",
   "metadata": {},
   "outputs": [
    {
     "data": {
      "text/html": [
       "<div>\n",
       "<style scoped>\n",
       "    .dataframe tbody tr th:only-of-type {\n",
       "        vertical-align: middle;\n",
       "    }\n",
       "\n",
       "    .dataframe tbody tr th {\n",
       "        vertical-align: top;\n",
       "    }\n",
       "\n",
       "    .dataframe thead th {\n",
       "        text-align: right;\n",
       "    }\n",
       "</style>\n",
       "<table border=\"1\" class=\"dataframe\">\n",
       "  <thead>\n",
       "    <tr style=\"text-align: right;\">\n",
       "      <th></th>\n",
       "      <th>0</th>\n",
       "      <th>1</th>\n",
       "    </tr>\n",
       "  </thead>\n",
       "  <tbody>\n",
       "    <tr>\n",
       "      <th>0</th>\n",
       "      <td>YBM어학원 종로센터</td>\n",
       "      <td>서울 종로구 종로 104</td>\n",
       "    </tr>\n",
       "    <tr>\n",
       "      <th>1</th>\n",
       "      <td>파고다어학원 종로점</td>\n",
       "      <td>서울 종로구 청계천로 93</td>\n",
       "    </tr>\n",
       "    <tr>\n",
       "      <th>2</th>\n",
       "      <td>YBM어학원 종로e4u</td>\n",
       "      <td>서울 종로구 삼일대로20길 6 1~5층, 7~9층</td>\n",
       "    </tr>\n",
       "    <tr>\n",
       "      <th>3</th>\n",
       "      <td>해커스어학원 종로캠퍼스</td>\n",
       "      <td>서울 종로구 인사동길 12 대일빌딩 4층</td>\n",
       "    </tr>\n",
       "    <tr>\n",
       "      <th>4</th>\n",
       "      <td>YBM 종로CBT센터</td>\n",
       "      <td>서울 종로구 종로 104 본관지하</td>\n",
       "    </tr>\n",
       "    <tr>\n",
       "      <th>...</th>\n",
       "      <td>...</td>\n",
       "      <td>...</td>\n",
       "    </tr>\n",
       "    <tr>\n",
       "      <th>316</th>\n",
       "      <td>리드앤톡영어도서관 은평불광1센터</td>\n",
       "      <td>서울 은평구 불광로 122-10 북한산힐스테이트3차아파트 상가</td>\n",
       "    </tr>\n",
       "    <tr>\n",
       "      <th>317</th>\n",
       "      <td>YBM잉글루 마포소의 제1캠퍼스</td>\n",
       "      <td>서울 마포구 마포대로18길 12 예일학원 2관</td>\n",
       "    </tr>\n",
       "    <tr>\n",
       "      <th>318</th>\n",
       "      <td>잉글리쉬무무 길음제1학원</td>\n",
       "      <td>서울 성북구 삼양로 80</td>\n",
       "    </tr>\n",
       "    <tr>\n",
       "      <th>319</th>\n",
       "      <td>YBM잉글루</td>\n",
       "      <td>서울 은평구 백련산로 38</td>\n",
       "    </tr>\n",
       "    <tr>\n",
       "      <th>320</th>\n",
       "      <td>파로영어교습소</td>\n",
       "      <td>서울 은평구 백련산로 38 205동 상가 1층 102호</td>\n",
       "    </tr>\n",
       "  </tbody>\n",
       "</table>\n",
       "<p>321 rows × 2 columns</p>\n",
       "</div>"
      ],
      "text/plain": [
       "                     0                                   1\n",
       "0          YBM어학원 종로센터                       서울 종로구 종로 104\n",
       "1           파고다어학원 종로점                      서울 종로구 청계천로 93\n",
       "2         YBM어학원 종로e4u         서울 종로구 삼일대로20길 6 1~5층, 7~9층\n",
       "3         해커스어학원 종로캠퍼스              서울 종로구 인사동길 12 대일빌딩 4층\n",
       "4          YBM 종로CBT센터                  서울 종로구 종로 104 본관지하\n",
       "..                 ...                                 ...\n",
       "316  리드앤톡영어도서관 은평불광1센터  서울 은평구 불광로 122-10 북한산힐스테이트3차아파트 상가\n",
       "317  YBM잉글루 마포소의 제1캠퍼스           서울 마포구 마포대로18길 12 예일학원 2관\n",
       "318      잉글리쉬무무 길음제1학원                       서울 성북구 삼양로 80\n",
       "319             YBM잉글루                      서울 은평구 백련산로 38\n",
       "320            파로영어교습소      서울 은평구 백련산로 38 205동 상가 1층 102호\n",
       "\n",
       "[321 rows x 2 columns]"
      ]
     },
     "execution_count": 21,
     "metadata": {},
     "output_type": "execute_result"
    }
   ],
   "source": [
    "pd.DataFrame(list1)"
   ]
  },
  {
   "cell_type": "code",
   "execution_count": 22,
   "id": "316b8ac6",
   "metadata": {},
   "outputs": [],
   "source": [
    "# 헤드리스 모드 (화면을 보여줄 필요가 없을때 쓰는 것)\n",
    "# 헤드리스 크롤러"
   ]
  },
  {
   "cell_type": "code",
   "execution_count": null,
   "id": "de13b52f",
   "metadata": {},
   "outputs": [],
   "source": [
    "# 크롤링 코드를 짜서 돌리는데 오류가 났을때\n",
    "# 10쪽쯤 하고 저장하고 20쪽 하고 저장 이런식으로 만들어야함.\n",
    "# 크롤링을 할때 갑자기 종료가 될 수 있으니 할 수 있는데까지 저장! 계속 중간 저장!"
   ]
  },
  {
   "cell_type": "code",
   "execution_count": null,
   "id": "5c07c751",
   "metadata": {},
   "outputs": [],
   "source": [
    "# 팀프로젝트: 데이터분석 결과 대쉬보드 만들기\n",
    "# 사용 프로그램: 장고, 플라스크, 파이스크립트, 플로틀리 대시"
   ]
  }
 ],
 "metadata": {
  "kernelspec": {
   "display_name": "Python 3 (ipykernel)",
   "language": "python",
   "name": "python3"
  },
  "language_info": {
   "codemirror_mode": {
    "name": "ipython",
    "version": 3
   },
   "file_extension": ".py",
   "mimetype": "text/x-python",
   "name": "python",
   "nbconvert_exporter": "python",
   "pygments_lexer": "ipython3",
   "version": "3.10.9"
  }
 },
 "nbformat": 4,
 "nbformat_minor": 5
}
