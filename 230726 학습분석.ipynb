{
 "cells": [
  {
   "cell_type": "markdown",
   "id": "fc44694f",
   "metadata": {},
   "source": [
    "### nature 논문 사이트 - cover latter - 인포그래픽 예시"
   ]
  },
  {
   "cell_type": "markdown",
   "id": "4a7a3dd0",
   "metadata": {},
   "source": [
    "## xAPI 특징\n",
    "- 분산된 데이터: 하나 이상의 시스템 간 학습, 데이터의 저장 및 공유 가능\n",
    "-  OAuth를 활용한 데이터 유효성의 검사를 규정하고 있지만, 상이한 시스템 간의 호환을 위한 절차나 확장된 데이터 규격 호환\n",
    "등이 표준에 언급되어 있지는 않다.\n",
    "## Caliper Analytics 특징\n",
    "- 학습 활동에서 학생의 구체적인 참여에 대한 정보 제공\n",
    "- 측정 기준Metric Profile을 통해 명확한 데이터를 정의하고 있어 유효성 검증이나 상호호환성에 강점이 있지만, 실제 데이터를 처리하는 절차나 마찬가지로 확장된 데이터 규격 등을 활용하는 방법은 정의하지 않는다.\n",
    "---\n",
    "## xAPI와 Caliper Analytics의 차이\n",
    " - xAPI의 경우 분산된 콘텐츠와 저장소를 활용하는 방안을 규정하고 있지만,\n",
    " - Caliper Analytics는 LTI와 연계한 가장 일괄적인 저장 방식과 참여 측정에 기반한 규격 정의, 실시간 학습 피드백 등에 집중하고 있는 분야가 미묘하게 다르다고 볼 수 있다."
   ]
  },
  {
   "cell_type": "code",
   "execution_count": null,
   "id": "8626aa19",
   "metadata": {},
   "outputs": [],
   "source": []
  }
 ],
 "metadata": {
  "kernelspec": {
   "display_name": "Python 3 (ipykernel)",
   "language": "python",
   "name": "python3"
  },
  "language_info": {
   "codemirror_mode": {
    "name": "ipython",
    "version": 3
   },
   "file_extension": ".py",
   "mimetype": "text/x-python",
   "name": "python",
   "nbconvert_exporter": "python",
   "pygments_lexer": "ipython3",
   "version": "3.10.9"
  }
 },
 "nbformat": 4,
 "nbformat_minor": 5
}
