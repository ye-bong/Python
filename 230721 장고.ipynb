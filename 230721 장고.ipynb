{
 "cells": [
  {
   "cell_type": "markdown",
   "id": "4a47ce1b",
   "metadata": {},
   "source": [
    "## 소프트웨어 배포\n",
    "- 최종 사용자에게 소프트웨어를 전달하는 과정\n",
    "---\n",
    "## 배포판 소프트웨어의 분류\n",
    "- 웹 앱: ex) 주피터 노트북, 높은 호환성, but 사양이 떨어짐\n",
    "- 네이티브 앱: 기기별로 최적화된 네이티브 언어로 만든 앱. 고사양. 낮은 호환성\n",
    "- 하이브리드 앱: ex) 윈도우 창 클릭하면 뜨는 앱같은 것\n",
    "\n",
    "## 파이썬 소프트웨어 배보\n",
    "- 파이썬은 최종 사용자에게 불친절하다\n",
    "    1. 파이썬 실행파일을 그대로 배포\n",
    "    1. 실행 파일로 패키징\n",
    "## 웹 프레임워크\n",
    "- 동적 웹페이지를 제작할 때 사용되는 애플리케이션 프레임\n",
    "    - 예시\n",
    "        - Django 인기\n",
    "        - Flask 인기\n",
    "        - FaskAPI\n",
    "        - Sanic\n",
    "## 장고(Django)란?\n",
    "- 파이썬에서 사용할 수 있는 풀 스택 프레임워크 \n",
    "- 인스타그램, JetBrains, 토스 등의 웹사이트가 장고를 통해 제작됨\n"
   ]
  },
  {
   "cell_type": "code",
   "execution_count": 1,
   "id": "c70fde55",
   "metadata": {},
   "outputs": [
    {
     "data": {
      "text/plain": [
       "'C:\\\\ProgramData\\\\anaconda3\\\\python.exe'"
      ]
     },
     "execution_count": 1,
     "metadata": {},
     "output_type": "execute_result"
    }
   ],
   "source": [
    "import sys \n",
    "sys.executable "
   ]
  },
  {
   "cell_type": "code",
   "execution_count": null,
   "id": "d3d1b12f",
   "metadata": {},
   "outputs": [],
   "source": []
  }
 ],
 "metadata": {
  "kernelspec": {
   "display_name": "Python 3 (ipykernel)",
   "language": "python",
   "name": "python3"
  },
  "language_info": {
   "codemirror_mode": {
    "name": "ipython",
    "version": 3
   },
   "file_extension": ".py",
   "mimetype": "text/x-python",
   "name": "python",
   "nbconvert_exporter": "python",
   "pygments_lexer": "ipython3",
   "version": "3.10.9"
  }
 },
 "nbformat": 4,
 "nbformat_minor": 5
}
