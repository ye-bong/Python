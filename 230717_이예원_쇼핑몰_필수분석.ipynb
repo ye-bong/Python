{
 "cells": [
  {
   "cell_type": "markdown",
   "id": "8eb4c050",
   "metadata": {},
   "source": [
    "# 파이썬 프로그래밍 실습과제2\n",
    "- 쇼핑몰 데이터\n",
    "- 시트1만 사용\n",
    "- 신:신용카드\n",
    "- 웰컴 포인트 (웰컴마일)\n",
    "- 포 포인트\n",
    "- 적 적리금\n",
    "- 현금성/비현금성\n",
    "- 정기결제\n",
    "- 후불결제\n",
    "- 우리가 데이터분석을 할때는 개인정보가 의심되는 것들을 삭제하거나 가려야함.(개인정보 보호법)\n",
    "- 할부기간 1개월 좀 이상\n",
    "### RFM 분석\n",
    "- 필수분석 (강의 자료 참고만으로 해결 가능)\n",
    "    1. 입점 기업별 RFM 분석(3그룹) 진행\n",
    "    2. 매출 시각화\n",
    "         1. 월별, 연도별 매출\n",
    "         2. 월별 순수익 (처리 상황, 할부기간 고려)\n",
    "    3. 결제 방법에 따른 분석\n",
    "        1. 결제 방법과 결제 금액의 연관성 분석\n",
    "        1. 결제방법은 맨 앞의 한가지만 사용한 것으로 간주\n",
    "- 선택분석 (강의 자료 참고만으로 해결 가능)\n",
    "    1. 매출 시각화 2\n",
    "        a. 최대 매출 상품 3종류 집계\n",
    "        b. 주문 연도에 따른 해당 상품의 매출 증감 분석\n",
    "    2. 연관성 분석\n",
    "    \n",
    "### 제출마감 기한 (7/18 저녁 9시까지)\n",
    "- 보고서 형식으로 제출\n",
    "- 보고서에 코드 복붙 x\n",
    "- py 파일 또는 주피터 노트북 파일 올리기\n",
    "- 코드는 재현성이 가능해야 함\n",
    "- 코드 쓸때는 주석 적기, 무슨 변수는 뭘 뜻한다\n",
    "- 보고서는 아무것도 모르는 사람이 보는 것, 최대한 다 설명하기\n",
    "- 캡처시 index 번호 지우기 (0,1,2,3 등등)"
   ]
  },
  {
   "cell_type": "code",
   "execution_count": 1,
   "id": "58d9a13d",
   "metadata": {},
   "outputs": [],
   "source": [
    "import pandas as pd\n",
    "import matplotlib.pyplot as plt\n",
    "# -' 깨짐 해결'\n",
    "import matplotlib as mpl\n",
    "mpl.rcParams['axes.unicode_minus'] = False\n",
    "import seaborn as sns\n",
    "from scipy import stats\n",
    "# 한글 깨짐 해결\n",
    "plt.rc('font', family='Malgun Gothic')"
   ]
  },
  {
   "cell_type": "markdown",
   "id": "02393508",
   "metadata": {},
   "source": [
    "### 필수분석 1번) 입점 기업별 RFM 분석(3그룹) 진행"
   ]
  },
  {
   "cell_type": "markdown",
   "id": "73517896",
   "metadata": {},
   "source": [
    "- 지출 금액에 따라 3그룹으로 분류하기"
   ]
  },
  {
   "cell_type": "code",
   "execution_count": 2,
   "id": "8a7fe88f",
   "metadata": {},
   "outputs": [],
   "source": [
    "df = pd.read_excel(\"미니프로젝트-쇼핑몰 실습데이터.xlsx\")"
   ]
  },
  {
   "cell_type": "code",
   "execution_count": 3,
   "id": "bef9bd24",
   "metadata": {},
   "outputs": [
    {
     "data": {
      "text/plain": [
       "array(['구매확정', '주문취소', '미결제', '후불반려', '환불완료', '환불승인', '부분환불', '부분취소',\n",
       "       '상담취소', '교환완료', '상담형상품접수', '환불요청', '배송완료', '배송준비', '배송중', '시안확인요청',\n",
       "       '결제완료'], dtype=object)"
      ]
     },
     "execution_count": 3,
     "metadata": {},
     "output_type": "execute_result"
    }
   ],
   "source": [
    "df['처리상태'].unique()"
   ]
  },
  {
   "cell_type": "code",
   "execution_count": 4,
   "id": "5490d111",
   "metadata": {},
   "outputs": [],
   "source": [
    "# df2: 처리상태 = 구매확정 데이터, 구매확정은 교환, 환불이 안된다고 가정\n",
    "df2 = df[df['처리상태'] == '구매확정']"
   ]
  },
  {
   "cell_type": "code",
   "execution_count": 5,
   "id": "0bf60d5a",
   "metadata": {},
   "outputs": [
    {
     "data": {
      "text/plain": [
       "array(['지니', '쥬크박스', '조이스', '라온웍스', '산스토어', '유앤알코리아', '네오필립', '거영아이앤디',\n",
       "       '가이스파트너스', '레인트리', '빅픽처', '에이스디포', '로렌츄컴퍼니', '피플이엔티', '비즈마켓렌탈',\n",
       "       '플레이피에스마케팅', '퍼스트엔터테인먼트', '스테툴스', '와이앤제이', '한민유통', '블루스톤익스체인지',\n",
       "       '아이엔리테일', '드림빌', '애쓰다', '럭스럭스', '라씨오날에듀', '가베', '이든교육', '에스아이상사',\n",
       "       '피에이엔글로벌', '이선생자석교구', '사이언스스타', '뮤템', '와니사이언스', '더싸다닷컴', '준디자인',\n",
       "       '오피스퀵', '행복한바오밥', '보드엠', '페트라기업', '트리인천신현지사', '리틀램스쿨', '그린피앤에스',\n",
       "       '청화', '디자인다소', '아토코리아', '지니 태블릿', '다우기술', '래시드', '이트너스', '싱크로드코리아',\n",
       "       '엔에이치엔에듀', '유쾌한생각', '스낵포', '마스크공작소', '모든오피스', '셀러테스트', '프린피아',\n",
       "       '뉴트리원', '알파', '로즈마켓', '천재태블릿', '일이테크', '비전플레이스', '주식회사 티앤티솔루션',\n",
       "       '채널씨엔씨', '티셀-유아', '지니 태블릿(후불집행)', '애플나라샵', '티셀-도서', '헬스하우스',\n",
       "       '리얼리티리테일코리아', '석빙고', '만들기대장', '링커블테크놀러지', '매직북스', '플레이스마터',\n",
       "       '인테이크 주식회사', '오피스허브', '리체', '메디쿼터스', '바나나코퍼레이션', '맨도롱', '이루커머스'],\n",
       "      dtype=object)"
      ]
     },
     "execution_count": 5,
     "metadata": {},
     "output_type": "execute_result"
    }
   ],
   "source": [
    "df2['업체명'].unique()"
   ]
  },
  {
   "cell_type": "code",
   "execution_count": 6,
   "id": "b9995903",
   "metadata": {},
   "outputs": [],
   "source": [
    "# 업체명별 판매금액 총합 구하기\n",
    "grouped_df = df2.groupby('업체명')"
   ]
  },
  {
   "cell_type": "code",
   "execution_count": 7,
   "id": "df65b847",
   "metadata": {},
   "outputs": [
    {
     "name": "stderr",
     "output_type": "stream",
     "text": [
      "C:\\Users\\leah5\\AppData\\Local\\Temp\\ipykernel_11168\\3719046430.py:1: FutureWarning: The default value of numeric_only in DataFrameGroupBy.sum is deprecated. In a future version, numeric_only will default to False. Either specify numeric_only or select only columns which should be valid for the function.\n",
      "  grouped_df_sum = grouped_df.sum()\n"
     ]
    }
   ],
   "source": [
    "grouped_df_sum = grouped_df.sum()"
   ]
  },
  {
   "cell_type": "code",
   "execution_count": 8,
   "id": "b1f55eab",
   "metadata": {},
   "outputs": [
    {
     "data": {
      "text/html": [
       "<div>\n",
       "<style scoped>\n",
       "    .dataframe tbody tr th:only-of-type {\n",
       "        vertical-align: middle;\n",
       "    }\n",
       "\n",
       "    .dataframe tbody tr th {\n",
       "        vertical-align: top;\n",
       "    }\n",
       "\n",
       "    .dataframe thead th {\n",
       "        text-align: right;\n",
       "    }\n",
       "</style>\n",
       "<table border=\"1\" class=\"dataframe\">\n",
       "  <thead>\n",
       "    <tr style=\"text-align: right;\">\n",
       "      <th></th>\n",
       "      <th>주문번호</th>\n",
       "      <th>주문수량</th>\n",
       "      <th>판매금액</th>\n",
       "    </tr>\n",
       "    <tr>\n",
       "      <th>업체명</th>\n",
       "      <th></th>\n",
       "      <th></th>\n",
       "      <th></th>\n",
       "    </tr>\n",
       "  </thead>\n",
       "  <tbody>\n",
       "    <tr>\n",
       "      <th>다우기술</th>\n",
       "      <td>-4154537484041257501</td>\n",
       "      <td>177405</td>\n",
       "      <td>2728817754</td>\n",
       "    </tr>\n",
       "    <tr>\n",
       "      <th>천재태블릿</th>\n",
       "      <td>386485323120281056</td>\n",
       "      <td>3519</td>\n",
       "      <td>1393524000</td>\n",
       "    </tr>\n",
       "    <tr>\n",
       "      <th>지니 태블릿</th>\n",
       "      <td>238984183316106388</td>\n",
       "      <td>2943</td>\n",
       "      <td>1153616000</td>\n",
       "    </tr>\n",
       "    <tr>\n",
       "      <th>지니 태블릿(후불집행)</th>\n",
       "      <td>266494557965930989</td>\n",
       "      <td>2530</td>\n",
       "      <td>1001880000</td>\n",
       "    </tr>\n",
       "    <tr>\n",
       "      <th>지니</th>\n",
       "      <td>-9053552463173732204</td>\n",
       "      <td>125945</td>\n",
       "      <td>865960870</td>\n",
       "    </tr>\n",
       "    <tr>\n",
       "      <th>...</th>\n",
       "      <td>...</td>\n",
       "      <td>...</td>\n",
       "      <td>...</td>\n",
       "    </tr>\n",
       "    <tr>\n",
       "      <th>바나나코퍼레이션</th>\n",
       "      <td>663073273487760</td>\n",
       "      <td>3</td>\n",
       "      <td>61000</td>\n",
       "    </tr>\n",
       "    <tr>\n",
       "      <th>리체</th>\n",
       "      <td>442028337940585</td>\n",
       "      <td>2</td>\n",
       "      <td>30800</td>\n",
       "    </tr>\n",
       "    <tr>\n",
       "      <th>이루커머스</th>\n",
       "      <td>221031141333416</td>\n",
       "      <td>1</td>\n",
       "      <td>17900</td>\n",
       "    </tr>\n",
       "    <tr>\n",
       "      <th>프린피아</th>\n",
       "      <td>840428010870400</td>\n",
       "      <td>6</td>\n",
       "      <td>15840</td>\n",
       "    </tr>\n",
       "    <tr>\n",
       "      <th>셀러테스트</th>\n",
       "      <td>201221130506283</td>\n",
       "      <td>1</td>\n",
       "      <td>10000</td>\n",
       "    </tr>\n",
       "  </tbody>\n",
       "</table>\n",
       "<p>84 rows × 3 columns</p>\n",
       "</div>"
      ],
      "text/plain": [
       "                             주문번호    주문수량        판매금액\n",
       "업체명                                                  \n",
       "다우기술         -4154537484041257501  177405  2728817754\n",
       "천재태블릿          386485323120281056    3519  1393524000\n",
       "지니 태블릿         238984183316106388    2943  1153616000\n",
       "지니 태블릿(후불집행)   266494557965930989    2530  1001880000\n",
       "지니           -9053552463173732204  125945   865960870\n",
       "...                           ...     ...         ...\n",
       "바나나코퍼레이션          663073273487760       3       61000\n",
       "리체                442028337940585       2       30800\n",
       "이루커머스             221031141333416       1       17900\n",
       "프린피아              840428010870400       6       15840\n",
       "셀러테스트             201221130506283       1       10000\n",
       "\n",
       "[84 rows x 3 columns]"
      ]
     },
     "execution_count": 8,
     "metadata": {},
     "output_type": "execute_result"
    }
   ],
   "source": [
    "grouped_df_sum.sort_values(by='판매금액', ascending=False)"
   ]
  },
  {
   "cell_type": "code",
   "execution_count": 9,
   "id": "a416226d",
   "metadata": {},
   "outputs": [
    {
     "data": {
      "text/html": [
       "<div>\n",
       "<style scoped>\n",
       "    .dataframe tbody tr th:only-of-type {\n",
       "        vertical-align: middle;\n",
       "    }\n",
       "\n",
       "    .dataframe tbody tr th {\n",
       "        vertical-align: top;\n",
       "    }\n",
       "\n",
       "    .dataframe thead th {\n",
       "        text-align: right;\n",
       "    }\n",
       "</style>\n",
       "<table border=\"1\" class=\"dataframe\">\n",
       "  <thead>\n",
       "    <tr style=\"text-align: right;\">\n",
       "      <th></th>\n",
       "      <th>주문번호</th>\n",
       "      <th>주문수량</th>\n",
       "      <th>판매금액</th>\n",
       "    </tr>\n",
       "  </thead>\n",
       "  <tbody>\n",
       "    <tr>\n",
       "      <th>count</th>\n",
       "      <td>8.400000e+01</td>\n",
       "      <td>84.000000</td>\n",
       "      <td>8.400000e+01</td>\n",
       "    </tr>\n",
       "    <tr>\n",
       "      <th>mean</th>\n",
       "      <td>-3.347223e+16</td>\n",
       "      <td>5894.809524</td>\n",
       "      <td>9.719726e+07</td>\n",
       "    </tr>\n",
       "    <tr>\n",
       "      <th>std</th>\n",
       "      <td>1.158087e+18</td>\n",
       "      <td>24260.530842</td>\n",
       "      <td>3.768271e+08</td>\n",
       "    </tr>\n",
       "    <tr>\n",
       "      <th>min</th>\n",
       "      <td>-9.053552e+18</td>\n",
       "      <td>1.000000</td>\n",
       "      <td>1.000000e+04</td>\n",
       "    </tr>\n",
       "    <tr>\n",
       "      <th>25%</th>\n",
       "      <td>1.858079e+15</td>\n",
       "      <td>13.750000</td>\n",
       "      <td>2.882800e+05</td>\n",
       "    </tr>\n",
       "    <tr>\n",
       "      <th>50%</th>\n",
       "      <td>1.278165e+16</td>\n",
       "      <td>175.500000</td>\n",
       "      <td>3.066800e+06</td>\n",
       "    </tr>\n",
       "    <tr>\n",
       "      <th>75%</th>\n",
       "      <td>4.723357e+16</td>\n",
       "      <td>839.500000</td>\n",
       "      <td>1.054448e+07</td>\n",
       "    </tr>\n",
       "    <tr>\n",
       "      <th>max</th>\n",
       "      <td>2.684295e+18</td>\n",
       "      <td>177405.000000</td>\n",
       "      <td>2.728818e+09</td>\n",
       "    </tr>\n",
       "  </tbody>\n",
       "</table>\n",
       "</div>"
      ],
      "text/plain": [
       "               주문번호           주문수량          판매금액\n",
       "count  8.400000e+01      84.000000  8.400000e+01\n",
       "mean  -3.347223e+16    5894.809524  9.719726e+07\n",
       "std    1.158087e+18   24260.530842  3.768271e+08\n",
       "min   -9.053552e+18       1.000000  1.000000e+04\n",
       "25%    1.858079e+15      13.750000  2.882800e+05\n",
       "50%    1.278165e+16     175.500000  3.066800e+06\n",
       "75%    4.723357e+16     839.500000  1.054448e+07\n",
       "max    2.684295e+18  177405.000000  2.728818e+09"
      ]
     },
     "execution_count": 9,
     "metadata": {},
     "output_type": "execute_result"
    }
   ],
   "source": [
    "grouped_df_sum.describe()"
   ]
  },
  {
   "cell_type": "code",
   "execution_count": 10,
   "id": "23e5ab2c",
   "metadata": {},
   "outputs": [],
   "source": [
    "# 분류 칼럼 만들기\n",
    "grouped_df_sum['분류'] = 0"
   ]
  },
  {
   "cell_type": "code",
   "execution_count": 11,
   "id": "4be9b626",
   "metadata": {},
   "outputs": [
    {
     "data": {
      "text/html": [
       "<div>\n",
       "<style scoped>\n",
       "    .dataframe tbody tr th:only-of-type {\n",
       "        vertical-align: middle;\n",
       "    }\n",
       "\n",
       "    .dataframe tbody tr th {\n",
       "        vertical-align: top;\n",
       "    }\n",
       "\n",
       "    .dataframe thead th {\n",
       "        text-align: right;\n",
       "    }\n",
       "</style>\n",
       "<table border=\"1\" class=\"dataframe\">\n",
       "  <thead>\n",
       "    <tr style=\"text-align: right;\">\n",
       "      <th></th>\n",
       "      <th>주문번호</th>\n",
       "      <th>주문수량</th>\n",
       "      <th>판매금액</th>\n",
       "      <th>분류</th>\n",
       "    </tr>\n",
       "    <tr>\n",
       "      <th>업체명</th>\n",
       "      <th></th>\n",
       "      <th></th>\n",
       "      <th></th>\n",
       "      <th></th>\n",
       "    </tr>\n",
       "  </thead>\n",
       "  <tbody>\n",
       "    <tr>\n",
       "      <th>가베</th>\n",
       "      <td>51175374254588848</td>\n",
       "      <td>319</td>\n",
       "      <td>5204900</td>\n",
       "      <td>0</td>\n",
       "    </tr>\n",
       "    <tr>\n",
       "      <th>가이스파트너스</th>\n",
       "      <td>34578678361483993</td>\n",
       "      <td>344</td>\n",
       "      <td>9717600</td>\n",
       "      <td>0</td>\n",
       "    </tr>\n",
       "    <tr>\n",
       "      <th>거영아이앤디</th>\n",
       "      <td>623784046933326191</td>\n",
       "      <td>11468</td>\n",
       "      <td>24970280</td>\n",
       "      <td>0</td>\n",
       "    </tr>\n",
       "    <tr>\n",
       "      <th>그린피앤에스</th>\n",
       "      <td>46565733276780088</td>\n",
       "      <td>257</td>\n",
       "      <td>2387680</td>\n",
       "      <td>0</td>\n",
       "    </tr>\n",
       "    <tr>\n",
       "      <th>네오필립</th>\n",
       "      <td>4020692798975029</td>\n",
       "      <td>33</td>\n",
       "      <td>2154100</td>\n",
       "      <td>0</td>\n",
       "    </tr>\n",
       "    <tr>\n",
       "      <th>...</th>\n",
       "      <td>...</td>\n",
       "      <td>...</td>\n",
       "      <td>...</td>\n",
       "      <td>...</td>\n",
       "    </tr>\n",
       "    <tr>\n",
       "      <th>피에이엔글로벌</th>\n",
       "      <td>1807126143259526</td>\n",
       "      <td>10</td>\n",
       "      <td>67250</td>\n",
       "      <td>0</td>\n",
       "    </tr>\n",
       "    <tr>\n",
       "      <th>피플이엔티</th>\n",
       "      <td>2604590800052473</td>\n",
       "      <td>28</td>\n",
       "      <td>688600</td>\n",
       "      <td>0</td>\n",
       "    </tr>\n",
       "    <tr>\n",
       "      <th>한민유통</th>\n",
       "      <td>88866796439752219</td>\n",
       "      <td>2808</td>\n",
       "      <td>7287090</td>\n",
       "      <td>0</td>\n",
       "    </tr>\n",
       "    <tr>\n",
       "      <th>행복한바오밥</th>\n",
       "      <td>37772546811771433</td>\n",
       "      <td>236</td>\n",
       "      <td>3689050</td>\n",
       "      <td>0</td>\n",
       "    </tr>\n",
       "    <tr>\n",
       "      <th>헬스하우스</th>\n",
       "      <td>2425622341402790</td>\n",
       "      <td>15</td>\n",
       "      <td>193500</td>\n",
       "      <td>0</td>\n",
       "    </tr>\n",
       "  </tbody>\n",
       "</table>\n",
       "<p>84 rows × 4 columns</p>\n",
       "</div>"
      ],
      "text/plain": [
       "                       주문번호   주문수량      판매금액  분류\n",
       "업체명                                             \n",
       "가베        51175374254588848    319   5204900   0\n",
       "가이스파트너스   34578678361483993    344   9717600   0\n",
       "거영아이앤디   623784046933326191  11468  24970280   0\n",
       "그린피앤에스    46565733276780088    257   2387680   0\n",
       "네오필립       4020692798975029     33   2154100   0\n",
       "...                     ...    ...       ...  ..\n",
       "피에이엔글로벌    1807126143259526     10     67250   0\n",
       "피플이엔티      2604590800052473     28    688600   0\n",
       "한민유통      88866796439752219   2808   7287090   0\n",
       "행복한바오밥    37772546811771433    236   3689050   0\n",
       "헬스하우스      2425622341402790     15    193500   0\n",
       "\n",
       "[84 rows x 4 columns]"
      ]
     },
     "execution_count": 11,
     "metadata": {},
     "output_type": "execute_result"
    }
   ],
   "source": [
    "grouped_df_sum"
   ]
  },
  {
   "cell_type": "code",
   "execution_count": 12,
   "id": "11c4b8fa",
   "metadata": {},
   "outputs": [],
   "source": [
    "# 상위(판매금액의 75% 이상), 중위(판매금액의 25% 이상 75% 미만), 상위(판매금액의 25% 미만)\n",
    "# var_team() : 판매금액을 상위,중위,하위로 나눠주는 함수\n",
    "def var_team(i):\n",
    "    if grouped_df_sum.loc[i,'판매금액'] >= 1.054448e+07:\n",
    "         grouped_df_sum.loc[i,'분류'] = '상위'\n",
    "    elif grouped_df_sum.loc[i,'판매금액'] < 2.882800e+05:\n",
    "        grouped_df_sum.loc[i,'분류'] = '하위'\n",
    "    else:\n",
    "        grouped_df_sum.loc[i,'분류'] = '중위'"
   ]
  },
  {
   "cell_type": "code",
   "execution_count": 13,
   "id": "1b14a755",
   "metadata": {},
   "outputs": [],
   "source": [
    "for i in grouped_df_sum.index:\n",
    "    var_team(i)"
   ]
  },
  {
   "cell_type": "code",
   "execution_count": 14,
   "id": "f57ed2d0",
   "metadata": {},
   "outputs": [
    {
     "data": {
      "text/plain": [
       "array(['중위', '상위', '하위'], dtype=object)"
      ]
     },
     "execution_count": 14,
     "metadata": {},
     "output_type": "execute_result"
    }
   ],
   "source": [
    "grouped_df_sum['분류'].unique()"
   ]
  },
  {
   "cell_type": "code",
   "execution_count": 15,
   "id": "77e8c2fa",
   "metadata": {},
   "outputs": [
    {
     "data": {
      "text/html": [
       "<div>\n",
       "<style scoped>\n",
       "    .dataframe tbody tr th:only-of-type {\n",
       "        vertical-align: middle;\n",
       "    }\n",
       "\n",
       "    .dataframe tbody tr th {\n",
       "        vertical-align: top;\n",
       "    }\n",
       "\n",
       "    .dataframe thead th {\n",
       "        text-align: right;\n",
       "    }\n",
       "</style>\n",
       "<table border=\"1\" class=\"dataframe\">\n",
       "  <thead>\n",
       "    <tr style=\"text-align: right;\">\n",
       "      <th></th>\n",
       "      <th>주문번호</th>\n",
       "      <th>주문수량</th>\n",
       "      <th>판매금액</th>\n",
       "      <th>분류</th>\n",
       "    </tr>\n",
       "    <tr>\n",
       "      <th>업체명</th>\n",
       "      <th></th>\n",
       "      <th></th>\n",
       "      <th></th>\n",
       "      <th></th>\n",
       "    </tr>\n",
       "  </thead>\n",
       "  <tbody>\n",
       "    <tr>\n",
       "      <th>가베</th>\n",
       "      <td>51175374254588848</td>\n",
       "      <td>319</td>\n",
       "      <td>5204900</td>\n",
       "      <td>중위</td>\n",
       "    </tr>\n",
       "    <tr>\n",
       "      <th>가이스파트너스</th>\n",
       "      <td>34578678361483993</td>\n",
       "      <td>344</td>\n",
       "      <td>9717600</td>\n",
       "      <td>중위</td>\n",
       "    </tr>\n",
       "    <tr>\n",
       "      <th>거영아이앤디</th>\n",
       "      <td>623784046933326191</td>\n",
       "      <td>11468</td>\n",
       "      <td>24970280</td>\n",
       "      <td>상위</td>\n",
       "    </tr>\n",
       "    <tr>\n",
       "      <th>그린피앤에스</th>\n",
       "      <td>46565733276780088</td>\n",
       "      <td>257</td>\n",
       "      <td>2387680</td>\n",
       "      <td>중위</td>\n",
       "    </tr>\n",
       "    <tr>\n",
       "      <th>네오필립</th>\n",
       "      <td>4020692798975029</td>\n",
       "      <td>33</td>\n",
       "      <td>2154100</td>\n",
       "      <td>중위</td>\n",
       "    </tr>\n",
       "    <tr>\n",
       "      <th>...</th>\n",
       "      <td>...</td>\n",
       "      <td>...</td>\n",
       "      <td>...</td>\n",
       "      <td>...</td>\n",
       "    </tr>\n",
       "    <tr>\n",
       "      <th>피에이엔글로벌</th>\n",
       "      <td>1807126143259526</td>\n",
       "      <td>10</td>\n",
       "      <td>67250</td>\n",
       "      <td>하위</td>\n",
       "    </tr>\n",
       "    <tr>\n",
       "      <th>피플이엔티</th>\n",
       "      <td>2604590800052473</td>\n",
       "      <td>28</td>\n",
       "      <td>688600</td>\n",
       "      <td>중위</td>\n",
       "    </tr>\n",
       "    <tr>\n",
       "      <th>한민유통</th>\n",
       "      <td>88866796439752219</td>\n",
       "      <td>2808</td>\n",
       "      <td>7287090</td>\n",
       "      <td>중위</td>\n",
       "    </tr>\n",
       "    <tr>\n",
       "      <th>행복한바오밥</th>\n",
       "      <td>37772546811771433</td>\n",
       "      <td>236</td>\n",
       "      <td>3689050</td>\n",
       "      <td>중위</td>\n",
       "    </tr>\n",
       "    <tr>\n",
       "      <th>헬스하우스</th>\n",
       "      <td>2425622341402790</td>\n",
       "      <td>15</td>\n",
       "      <td>193500</td>\n",
       "      <td>하위</td>\n",
       "    </tr>\n",
       "  </tbody>\n",
       "</table>\n",
       "<p>84 rows × 4 columns</p>\n",
       "</div>"
      ],
      "text/plain": [
       "                       주문번호   주문수량      판매금액  분류\n",
       "업체명                                             \n",
       "가베        51175374254588848    319   5204900  중위\n",
       "가이스파트너스   34578678361483993    344   9717600  중위\n",
       "거영아이앤디   623784046933326191  11468  24970280  상위\n",
       "그린피앤에스    46565733276780088    257   2387680  중위\n",
       "네오필립       4020692798975029     33   2154100  중위\n",
       "...                     ...    ...       ...  ..\n",
       "피에이엔글로벌    1807126143259526     10     67250  하위\n",
       "피플이엔티      2604590800052473     28    688600  중위\n",
       "한민유통      88866796439752219   2808   7287090  중위\n",
       "행복한바오밥    37772546811771433    236   3689050  중위\n",
       "헬스하우스      2425622341402790     15    193500  하위\n",
       "\n",
       "[84 rows x 4 columns]"
      ]
     },
     "execution_count": 15,
     "metadata": {},
     "output_type": "execute_result"
    }
   ],
   "source": [
    "grouped_df_sum"
   ]
  },
  {
   "cell_type": "code",
   "execution_count": 16,
   "id": "3e79e9c1",
   "metadata": {},
   "outputs": [
    {
     "data": {
      "text/plain": [
       "중위    42\n",
       "상위    21\n",
       "하위    21\n",
       "Name: 분류, dtype: int64"
      ]
     },
     "execution_count": 16,
     "metadata": {},
     "output_type": "execute_result"
    }
   ],
   "source": [
    " grouped_df_sum['분류'].value_counts()"
   ]
  },
  {
   "cell_type": "code",
   "execution_count": 17,
   "id": "22db3560",
   "metadata": {},
   "outputs": [],
   "source": [
    "df_up = grouped_df_sum[grouped_df_sum['분류'] == '상위']\n",
    "df_mid = grouped_df_sum[grouped_df_sum['분류'] == '중위']\n",
    "di_down = grouped_df_sum[grouped_df_sum['분류'] == '하위']"
   ]
  },
  {
   "cell_type": "code",
   "execution_count": 18,
   "id": "e3ae1caa",
   "metadata": {},
   "outputs": [
    {
     "data": {
      "text/plain": [
       "Index(['거영아이앤디', '다우기술', '더싸다닷컴', '드림빌', '라온웍스', '블루스톤익스체인지', '빅픽처', '아이엔리테일',\n",
       "       '알파', '에이스디포', '오피스퀵', '유앤알코리아', '이트너스', '조이스', '준디자인', '쥬크박스', '지니',\n",
       "       '지니 태블릿', '지니 태블릿(후불집행)', '천재태블릿', '청화'],\n",
       "      dtype='object', name='업체명')"
      ]
     },
     "execution_count": 18,
     "metadata": {},
     "output_type": "execute_result"
    }
   ],
   "source": [
    "df_up.index"
   ]
  },
  {
   "cell_type": "code",
   "execution_count": 19,
   "id": "9c276059",
   "metadata": {},
   "outputs": [
    {
     "data": {
      "text/plain": [
       "Index(['가베', '가이스파트너스', '그린피앤에스', '네오필립', '뉴트리원', '디자인다소', '럭스럭스',\n",
       "       '리얼리티리테일코리아', '리틀램스쿨', '마스크공작소', '만들기대장', '매직북스', '모든오피스', '보드엠',\n",
       "       '비전플레이스', '비즈마켓렌탈', '사이언스스타', '산스토어', '석빙고', '스낵포', '스테툴스', '싱크로드코리아',\n",
       "       '아토코리아', '애쓰다', '애플나라샵', '에스아이상사', '엔에이치엔에듀', '오피스허브', '와니사이언스',\n",
       "       '유쾌한생각', '이든교육', '일이테크', '주식회사 티앤티솔루션', '채널씨엔씨', '트리인천신현지사', '티셀-도서',\n",
       "       '티셀-유아', '페트라기업', '플레이피에스마케팅', '피플이엔티', '한민유통', '행복한바오밥'],\n",
       "      dtype='object', name='업체명')"
      ]
     },
     "execution_count": 19,
     "metadata": {},
     "output_type": "execute_result"
    }
   ],
   "source": [
    "df_mid.index"
   ]
  },
  {
   "cell_type": "code",
   "execution_count": 20,
   "id": "bd27f2f5",
   "metadata": {},
   "outputs": [
    {
     "data": {
      "text/plain": [
       "Index(['라씨오날에듀', '래시드', '레인트리', '로렌츄컴퍼니', '로즈마켓', '리체', '링커블테크놀러지', '맨도롱',\n",
       "       '메디쿼터스', '뮤템', '바나나코퍼레이션', '셀러테스트', '와이앤제이', '이루커머스', '이선생자석교구',\n",
       "       '인테이크 주식회사', '퍼스트엔터테인먼트', '프린피아', '플레이스마터', '피에이엔글로벌', '헬스하우스'],\n",
       "      dtype='object', name='업체명')"
      ]
     },
     "execution_count": 20,
     "metadata": {},
     "output_type": "execute_result"
    }
   ],
   "source": [
    "di_down.index"
   ]
  },
  {
   "cell_type": "markdown",
   "id": "4826a264",
   "metadata": {},
   "source": [
    "### 필수분석 2번) 매출시각화"
   ]
  },
  {
   "cell_type": "markdown",
   "id": "4c56d542",
   "metadata": {},
   "source": [
    "- a. 월별, 연도별 매출 시각화"
   ]
  },
  {
   "cell_type": "code",
   "execution_count": 21,
   "id": "fd45540c",
   "metadata": {},
   "outputs": [],
   "source": [
    "# '처리상태 = 구매확정'인 데이터만 모은 df2 사용"
   ]
  },
  {
   "cell_type": "code",
   "execution_count": 22,
   "id": "90b85e60",
   "metadata": {},
   "outputs": [
    {
     "data": {
      "text/html": [
       "<div>\n",
       "<style scoped>\n",
       "    .dataframe tbody tr th:only-of-type {\n",
       "        vertical-align: middle;\n",
       "    }\n",
       "\n",
       "    .dataframe tbody tr th {\n",
       "        vertical-align: top;\n",
       "    }\n",
       "\n",
       "    .dataframe thead th {\n",
       "        text-align: right;\n",
       "    }\n",
       "</style>\n",
       "<table border=\"1\" class=\"dataframe\">\n",
       "  <thead>\n",
       "    <tr style=\"text-align: right;\">\n",
       "      <th></th>\n",
       "      <th>주문번호</th>\n",
       "      <th>업체명</th>\n",
       "      <th>상품명</th>\n",
       "      <th>제조사</th>\n",
       "      <th>주문수량</th>\n",
       "      <th>판매금액</th>\n",
       "      <th>결제방법</th>\n",
       "      <th>주문일자</th>\n",
       "      <th>처리상태</th>\n",
       "      <th>초도상품</th>\n",
       "      <th>제작문구 내역</th>\n",
       "      <th>할부기간</th>\n",
       "    </tr>\n",
       "  </thead>\n",
       "  <tbody>\n",
       "    <tr>\n",
       "      <th>0</th>\n",
       "      <td>191213170236874</td>\n",
       "      <td>지니</td>\n",
       "      <td>eHBM셀파수학교실 비닐봉투-1세트 100장입</td>\n",
       "      <td>HB</td>\n",
       "      <td>1</td>\n",
       "      <td>5000</td>\n",
       "      <td>신용카드</td>\n",
       "      <td>2019-12-13 17:03:37</td>\n",
       "      <td>구매확정</td>\n",
       "      <td>N</td>\n",
       "      <td>NaN</td>\n",
       "      <td>NaN</td>\n",
       "    </tr>\n",
       "    <tr>\n",
       "      <th>1</th>\n",
       "      <td>191216100347429</td>\n",
       "      <td>지니</td>\n",
       "      <td>eHBM셀파수학교실 비닐봉투-1세트 100장입</td>\n",
       "      <td>HB</td>\n",
       "      <td>1</td>\n",
       "      <td>5000</td>\n",
       "      <td>신용카드</td>\n",
       "      <td>2019-12-16 10:04:50</td>\n",
       "      <td>구매확정</td>\n",
       "      <td>N</td>\n",
       "      <td>NaN</td>\n",
       "      <td>NaN</td>\n",
       "    </tr>\n",
       "    <tr>\n",
       "      <th>2</th>\n",
       "      <td>191216100347429</td>\n",
       "      <td>지니</td>\n",
       "      <td>eHBM셀파수학교실 삼색볼펜-1세트 50개입</td>\n",
       "      <td>HB</td>\n",
       "      <td>3</td>\n",
       "      <td>67500</td>\n",
       "      <td>신용카드</td>\n",
       "      <td>2019-12-16 10:04:50</td>\n",
       "      <td>구매확정</td>\n",
       "      <td>N</td>\n",
       "      <td>NaN</td>\n",
       "      <td>NaN</td>\n",
       "    </tr>\n",
       "    <tr>\n",
       "      <th>3</th>\n",
       "      <td>191216173241622</td>\n",
       "      <td>지니</td>\n",
       "      <td>eHBM셀파수학교실 회원용 리플렛-1세트 50권입</td>\n",
       "      <td>HB</td>\n",
       "      <td>2</td>\n",
       "      <td>30000</td>\n",
       "      <td>신용카드</td>\n",
       "      <td>2019-12-16 17:33:43</td>\n",
       "      <td>구매확정</td>\n",
       "      <td>N</td>\n",
       "      <td>NaN</td>\n",
       "      <td>NaN</td>\n",
       "    </tr>\n",
       "    <tr>\n",
       "      <th>4</th>\n",
       "      <td>191216173241622</td>\n",
       "      <td>지니</td>\n",
       "      <td>eHBM셀파수학교실-학습계통도(중등 5종)</td>\n",
       "      <td>HB</td>\n",
       "      <td>1</td>\n",
       "      <td>750</td>\n",
       "      <td>신용카드</td>\n",
       "      <td>2019-12-16 17:33:43</td>\n",
       "      <td>구매확정</td>\n",
       "      <td>N</td>\n",
       "      <td>NaN</td>\n",
       "      <td>NaN</td>\n",
       "    </tr>\n",
       "  </tbody>\n",
       "</table>\n",
       "</div>"
      ],
      "text/plain": [
       "              주문번호 업체명                          상품명 제조사  주문수량   판매금액  결제방법  \\\n",
       "0  191213170236874  지니    eHBM셀파수학교실 비닐봉투-1세트 100장입  HB     1   5000  신용카드   \n",
       "1  191216100347429  지니    eHBM셀파수학교실 비닐봉투-1세트 100장입  HB     1   5000  신용카드   \n",
       "2  191216100347429  지니     eHBM셀파수학교실 삼색볼펜-1세트 50개입  HB     3  67500  신용카드   \n",
       "3  191216173241622  지니  eHBM셀파수학교실 회원용 리플렛-1세트 50권입  HB     2  30000  신용카드   \n",
       "4  191216173241622  지니      eHBM셀파수학교실-학습계통도(중등 5종)  HB     1    750  신용카드   \n",
       "\n",
       "                 주문일자  처리상태 초도상품 제작문구 내역 할부기간  \n",
       "0 2019-12-13 17:03:37  구매확정    N     NaN  NaN  \n",
       "1 2019-12-16 10:04:50  구매확정    N     NaN  NaN  \n",
       "2 2019-12-16 10:04:50  구매확정    N     NaN  NaN  \n",
       "3 2019-12-16 17:33:43  구매확정    N     NaN  NaN  \n",
       "4 2019-12-16 17:33:43  구매확정    N     NaN  NaN  "
      ]
     },
     "execution_count": 22,
     "metadata": {},
     "output_type": "execute_result"
    }
   ],
   "source": [
    "df2.head()"
   ]
  },
  {
   "cell_type": "code",
   "execution_count": 23,
   "id": "144f2cd9",
   "metadata": {},
   "outputs": [
    {
     "data": {
      "text/html": [
       "<div>\n",
       "<style scoped>\n",
       "    .dataframe tbody tr th:only-of-type {\n",
       "        vertical-align: middle;\n",
       "    }\n",
       "\n",
       "    .dataframe tbody tr th {\n",
       "        vertical-align: top;\n",
       "    }\n",
       "\n",
       "    .dataframe thead th {\n",
       "        text-align: right;\n",
       "    }\n",
       "</style>\n",
       "<table border=\"1\" class=\"dataframe\">\n",
       "  <thead>\n",
       "    <tr style=\"text-align: right;\">\n",
       "      <th></th>\n",
       "      <th>주문번호</th>\n",
       "      <th>업체명</th>\n",
       "      <th>상품명</th>\n",
       "      <th>제조사</th>\n",
       "      <th>주문수량</th>\n",
       "      <th>판매금액</th>\n",
       "      <th>결제방법</th>\n",
       "      <th>주문일자</th>\n",
       "      <th>처리상태</th>\n",
       "      <th>초도상품</th>\n",
       "      <th>제작문구 내역</th>\n",
       "      <th>할부기간</th>\n",
       "    </tr>\n",
       "  </thead>\n",
       "  <tbody>\n",
       "  </tbody>\n",
       "</table>\n",
       "</div>"
      ],
      "text/plain": [
       "Empty DataFrame\n",
       "Columns: [주문번호, 업체명, 상품명, 제조사, 주문수량, 판매금액, 결제방법, 주문일자, 처리상태, 초도상품, 제작문구 내역, 할부기간]\n",
       "Index: []"
      ]
     },
     "execution_count": 23,
     "metadata": {},
     "output_type": "execute_result"
    }
   ],
   "source": [
    "# 판매금액 nan 값 확인/ 확인결과 nan값 없음\n",
    "df2[df2['판매금액'].isna()]"
   ]
  },
  {
   "cell_type": "code",
   "execution_count": 24,
   "id": "9dc77979",
   "metadata": {},
   "outputs": [
    {
     "data": {
      "text/plain": [
       "0        2019-12-13 17:03:37\n",
       "1        2019-12-16 10:04:50\n",
       "2        2019-12-16 10:04:50\n",
       "3        2019-12-16 17:33:43\n",
       "4        2019-12-16 17:33:43\n",
       "                 ...        \n",
       "217852   2022-11-06 23:13:17\n",
       "217914   2022-11-07 07:44:43\n",
       "217927   2022-11-07 08:09:57\n",
       "217938   2022-11-07 08:31:57\n",
       "217940   2022-11-07 09:00:03\n",
       "Name: 주문일자, Length: 159291, dtype: datetime64[ns]"
      ]
     },
     "execution_count": 24,
     "metadata": {},
     "output_type": "execute_result"
    }
   ],
   "source": [
    "df2['주문일자']"
   ]
  },
  {
   "cell_type": "code",
   "execution_count": 25,
   "id": "c05546bc",
   "metadata": {},
   "outputs": [
    {
     "name": "stderr",
     "output_type": "stream",
     "text": [
      "C:\\Users\\leah5\\AppData\\Local\\Temp\\ipykernel_11168\\2929680658.py:2: SettingWithCopyWarning: \n",
      "A value is trying to be set on a copy of a slice from a DataFrame.\n",
      "Try using .loc[row_indexer,col_indexer] = value instead\n",
      "\n",
      "See the caveats in the documentation: https://pandas.pydata.org/pandas-docs/stable/user_guide/indexing.html#returning-a-view-versus-a-copy\n",
      "  df2['년도-월'] = df2['주문일자'].dt.strftime('%Y-%m')\n"
     ]
    }
   ],
   "source": [
    "# 월별 분류\n",
    "df2['년도-월'] = df2['주문일자'].dt.strftime('%Y-%m')"
   ]
  },
  {
   "cell_type": "code",
   "execution_count": 26,
   "id": "98994280",
   "metadata": {},
   "outputs": [
    {
     "data": {
      "text/html": [
       "<div>\n",
       "<style scoped>\n",
       "    .dataframe tbody tr th:only-of-type {\n",
       "        vertical-align: middle;\n",
       "    }\n",
       "\n",
       "    .dataframe tbody tr th {\n",
       "        vertical-align: top;\n",
       "    }\n",
       "\n",
       "    .dataframe thead th {\n",
       "        text-align: right;\n",
       "    }\n",
       "</style>\n",
       "<table border=\"1\" class=\"dataframe\">\n",
       "  <thead>\n",
       "    <tr style=\"text-align: right;\">\n",
       "      <th></th>\n",
       "      <th>주문번호</th>\n",
       "      <th>업체명</th>\n",
       "      <th>상품명</th>\n",
       "      <th>제조사</th>\n",
       "      <th>주문수량</th>\n",
       "      <th>판매금액</th>\n",
       "      <th>결제방법</th>\n",
       "      <th>주문일자</th>\n",
       "      <th>처리상태</th>\n",
       "      <th>초도상품</th>\n",
       "      <th>제작문구 내역</th>\n",
       "      <th>할부기간</th>\n",
       "      <th>년도-월</th>\n",
       "    </tr>\n",
       "  </thead>\n",
       "  <tbody>\n",
       "    <tr>\n",
       "      <th>0</th>\n",
       "      <td>191213170236874</td>\n",
       "      <td>지니</td>\n",
       "      <td>eHBM셀파수학교실 비닐봉투-1세트 100장입</td>\n",
       "      <td>HB</td>\n",
       "      <td>1</td>\n",
       "      <td>5000</td>\n",
       "      <td>신용카드</td>\n",
       "      <td>2019-12-13 17:03:37</td>\n",
       "      <td>구매확정</td>\n",
       "      <td>N</td>\n",
       "      <td>NaN</td>\n",
       "      <td>NaN</td>\n",
       "      <td>2019-12</td>\n",
       "    </tr>\n",
       "    <tr>\n",
       "      <th>1</th>\n",
       "      <td>191216100347429</td>\n",
       "      <td>지니</td>\n",
       "      <td>eHBM셀파수학교실 비닐봉투-1세트 100장입</td>\n",
       "      <td>HB</td>\n",
       "      <td>1</td>\n",
       "      <td>5000</td>\n",
       "      <td>신용카드</td>\n",
       "      <td>2019-12-16 10:04:50</td>\n",
       "      <td>구매확정</td>\n",
       "      <td>N</td>\n",
       "      <td>NaN</td>\n",
       "      <td>NaN</td>\n",
       "      <td>2019-12</td>\n",
       "    </tr>\n",
       "    <tr>\n",
       "      <th>2</th>\n",
       "      <td>191216100347429</td>\n",
       "      <td>지니</td>\n",
       "      <td>eHBM셀파수학교실 삼색볼펜-1세트 50개입</td>\n",
       "      <td>HB</td>\n",
       "      <td>3</td>\n",
       "      <td>67500</td>\n",
       "      <td>신용카드</td>\n",
       "      <td>2019-12-16 10:04:50</td>\n",
       "      <td>구매확정</td>\n",
       "      <td>N</td>\n",
       "      <td>NaN</td>\n",
       "      <td>NaN</td>\n",
       "      <td>2019-12</td>\n",
       "    </tr>\n",
       "    <tr>\n",
       "      <th>3</th>\n",
       "      <td>191216173241622</td>\n",
       "      <td>지니</td>\n",
       "      <td>eHBM셀파수학교실 회원용 리플렛-1세트 50권입</td>\n",
       "      <td>HB</td>\n",
       "      <td>2</td>\n",
       "      <td>30000</td>\n",
       "      <td>신용카드</td>\n",
       "      <td>2019-12-16 17:33:43</td>\n",
       "      <td>구매확정</td>\n",
       "      <td>N</td>\n",
       "      <td>NaN</td>\n",
       "      <td>NaN</td>\n",
       "      <td>2019-12</td>\n",
       "    </tr>\n",
       "    <tr>\n",
       "      <th>4</th>\n",
       "      <td>191216173241622</td>\n",
       "      <td>지니</td>\n",
       "      <td>eHBM셀파수학교실-학습계통도(중등 5종)</td>\n",
       "      <td>HB</td>\n",
       "      <td>1</td>\n",
       "      <td>750</td>\n",
       "      <td>신용카드</td>\n",
       "      <td>2019-12-16 17:33:43</td>\n",
       "      <td>구매확정</td>\n",
       "      <td>N</td>\n",
       "      <td>NaN</td>\n",
       "      <td>NaN</td>\n",
       "      <td>2019-12</td>\n",
       "    </tr>\n",
       "  </tbody>\n",
       "</table>\n",
       "</div>"
      ],
      "text/plain": [
       "              주문번호 업체명                          상품명 제조사  주문수량   판매금액  결제방법  \\\n",
       "0  191213170236874  지니    eHBM셀파수학교실 비닐봉투-1세트 100장입  HB     1   5000  신용카드   \n",
       "1  191216100347429  지니    eHBM셀파수학교실 비닐봉투-1세트 100장입  HB     1   5000  신용카드   \n",
       "2  191216100347429  지니     eHBM셀파수학교실 삼색볼펜-1세트 50개입  HB     3  67500  신용카드   \n",
       "3  191216173241622  지니  eHBM셀파수학교실 회원용 리플렛-1세트 50권입  HB     2  30000  신용카드   \n",
       "4  191216173241622  지니      eHBM셀파수학교실-학습계통도(중등 5종)  HB     1    750  신용카드   \n",
       "\n",
       "                 주문일자  처리상태 초도상품 제작문구 내역 할부기간     년도-월  \n",
       "0 2019-12-13 17:03:37  구매확정    N     NaN  NaN  2019-12  \n",
       "1 2019-12-16 10:04:50  구매확정    N     NaN  NaN  2019-12  \n",
       "2 2019-12-16 10:04:50  구매확정    N     NaN  NaN  2019-12  \n",
       "3 2019-12-16 17:33:43  구매확정    N     NaN  NaN  2019-12  \n",
       "4 2019-12-16 17:33:43  구매확정    N     NaN  NaN  2019-12  "
      ]
     },
     "execution_count": 26,
     "metadata": {},
     "output_type": "execute_result"
    }
   ],
   "source": [
    "df2.head()"
   ]
  },
  {
   "cell_type": "code",
   "execution_count": 27,
   "id": "b7a3d810",
   "metadata": {},
   "outputs": [],
   "source": [
    "month = df2['년도-월'].value_counts()"
   ]
  },
  {
   "cell_type": "code",
   "execution_count": 28,
   "id": "ff7d5cbf",
   "metadata": {},
   "outputs": [
    {
     "data": {
      "image/png": "[encoded data removed]",
      "text/plain": [
       "<Figure size 640x480 with 1 Axes>"
      ]
     },
     "metadata": {},
     "output_type": "display_data"
    }
   ],
   "source": [
    "# 년도-월 별 거래 일수 시각화\n",
    "sns.barplot(x=month.index, y=month, color='#E9967A')\n",
    "plt.xticks(rotation=90)\n",
    "plt.show()"
   ]
  },
  {
   "cell_type": "code",
   "execution_count": 29,
   "id": "0d504d22",
   "metadata": {},
   "outputs": [
    {
     "name": "stderr",
     "output_type": "stream",
     "text": [
      "C:\\Users\\leah5\\AppData\\Local\\Temp\\ipykernel_11168\\1767894324.py:1: FutureWarning: The default value of numeric_only in DataFrameGroupBy.sum is deprecated. In a future version, numeric_only will default to False. Either specify numeric_only or select only columns which should be valid for the function.\n",
      "  money_sum = df2.groupby('년도-월').sum()\n"
     ]
    }
   ],
   "source": [
    "money_sum = df2.groupby('년도-월').sum()"
   ]
  },
  {
   "cell_type": "code",
   "execution_count": 30,
   "id": "3439f6e5",
   "metadata": {},
   "outputs": [
    {
     "data": {
      "image/png": "[encoded data removed]",
      "text/plain": [
       "<Figure size 640x480 with 1 Axes>"
      ]
     },
     "metadata": {},
     "output_type": "display_data"
    }
   ],
   "source": [
    "# 년도-월 별 판매된 금액 힙계 시각화\n",
    "sns.barplot(data=money_sum, x=money_sum.index , y='판매금액', color='#6495ED')\n",
    "plt.xticks(rotation=90)\n",
    "plt.show()"
   ]
  },
  {
   "cell_type": "markdown",
   "id": "5f68c60d",
   "metadata": {},
   "source": [
    "- b. 월별 순수익 (처리 상황, 할부기간 고려) 시각화"
   ]
  },
  {
   "cell_type": "code",
   "execution_count": 31,
   "id": "bd85beeb",
   "metadata": {},
   "outputs": [],
   "source": [
    "# 1개월 할부는 존재하지 않는 할부로 판단하여 제거\n",
    "# one_m = 1개월인 할부기간 마스킹\n",
    "one_m =df2['할부기간'] == '1개월'"
   ]
  },
  {
   "cell_type": "code",
   "execution_count": 32,
   "id": "8a706c9d",
   "metadata": {},
   "outputs": [],
   "source": [
    "# 할부기간=1개월 row 삭제\n",
    "df2 = df2[-one_m]"
   ]
  },
  {
   "cell_type": "code",
   "execution_count": 33,
   "id": "e43e26e9",
   "metadata": {},
   "outputs": [
    {
     "data": {
      "text/html": [
       "<div>\n",
       "<style scoped>\n",
       "    .dataframe tbody tr th:only-of-type {\n",
       "        vertical-align: middle;\n",
       "    }\n",
       "\n",
       "    .dataframe tbody tr th {\n",
       "        vertical-align: top;\n",
       "    }\n",
       "\n",
       "    .dataframe thead th {\n",
       "        text-align: right;\n",
       "    }\n",
       "</style>\n",
       "<table border=\"1\" class=\"dataframe\">\n",
       "  <thead>\n",
       "    <tr style=\"text-align: right;\">\n",
       "      <th></th>\n",
       "      <th>주문번호</th>\n",
       "      <th>업체명</th>\n",
       "      <th>상품명</th>\n",
       "      <th>제조사</th>\n",
       "      <th>주문수량</th>\n",
       "      <th>판매금액</th>\n",
       "      <th>결제방법</th>\n",
       "      <th>주문일자</th>\n",
       "      <th>처리상태</th>\n",
       "      <th>초도상품</th>\n",
       "      <th>제작문구 내역</th>\n",
       "      <th>할부기간</th>\n",
       "      <th>년도-월</th>\n",
       "    </tr>\n",
       "  </thead>\n",
       "  <tbody>\n",
       "    <tr>\n",
       "      <th>0</th>\n",
       "      <td>191213170236874</td>\n",
       "      <td>지니</td>\n",
       "      <td>eHBM셀파수학교실 비닐봉투-1세트 100장입</td>\n",
       "      <td>HB</td>\n",
       "      <td>1</td>\n",
       "      <td>5000</td>\n",
       "      <td>신용카드</td>\n",
       "      <td>2019-12-13 17:03:37</td>\n",
       "      <td>구매확정</td>\n",
       "      <td>N</td>\n",
       "      <td>NaN</td>\n",
       "      <td>NaN</td>\n",
       "      <td>2019-12</td>\n",
       "    </tr>\n",
       "    <tr>\n",
       "      <th>1</th>\n",
       "      <td>191216100347429</td>\n",
       "      <td>지니</td>\n",
       "      <td>eHBM셀파수학교실 비닐봉투-1세트 100장입</td>\n",
       "      <td>HB</td>\n",
       "      <td>1</td>\n",
       "      <td>5000</td>\n",
       "      <td>신용카드</td>\n",
       "      <td>2019-12-16 10:04:50</td>\n",
       "      <td>구매확정</td>\n",
       "      <td>N</td>\n",
       "      <td>NaN</td>\n",
       "      <td>NaN</td>\n",
       "      <td>2019-12</td>\n",
       "    </tr>\n",
       "    <tr>\n",
       "      <th>2</th>\n",
       "      <td>191216100347429</td>\n",
       "      <td>지니</td>\n",
       "      <td>eHBM셀파수학교실 삼색볼펜-1세트 50개입</td>\n",
       "      <td>HB</td>\n",
       "      <td>3</td>\n",
       "      <td>67500</td>\n",
       "      <td>신용카드</td>\n",
       "      <td>2019-12-16 10:04:50</td>\n",
       "      <td>구매확정</td>\n",
       "      <td>N</td>\n",
       "      <td>NaN</td>\n",
       "      <td>NaN</td>\n",
       "      <td>2019-12</td>\n",
       "    </tr>\n",
       "    <tr>\n",
       "      <th>3</th>\n",
       "      <td>191216173241622</td>\n",
       "      <td>지니</td>\n",
       "      <td>eHBM셀파수학교실 회원용 리플렛-1세트 50권입</td>\n",
       "      <td>HB</td>\n",
       "      <td>2</td>\n",
       "      <td>30000</td>\n",
       "      <td>신용카드</td>\n",
       "      <td>2019-12-16 17:33:43</td>\n",
       "      <td>구매확정</td>\n",
       "      <td>N</td>\n",
       "      <td>NaN</td>\n",
       "      <td>NaN</td>\n",
       "      <td>2019-12</td>\n",
       "    </tr>\n",
       "    <tr>\n",
       "      <th>4</th>\n",
       "      <td>191216173241622</td>\n",
       "      <td>지니</td>\n",
       "      <td>eHBM셀파수학교실-학습계통도(중등 5종)</td>\n",
       "      <td>HB</td>\n",
       "      <td>1</td>\n",
       "      <td>750</td>\n",
       "      <td>신용카드</td>\n",
       "      <td>2019-12-16 17:33:43</td>\n",
       "      <td>구매확정</td>\n",
       "      <td>N</td>\n",
       "      <td>NaN</td>\n",
       "      <td>NaN</td>\n",
       "      <td>2019-12</td>\n",
       "    </tr>\n",
       "    <tr>\n",
       "      <th>...</th>\n",
       "      <td>...</td>\n",
       "      <td>...</td>\n",
       "      <td>...</td>\n",
       "      <td>...</td>\n",
       "      <td>...</td>\n",
       "      <td>...</td>\n",
       "      <td>...</td>\n",
       "      <td>...</td>\n",
       "      <td>...</td>\n",
       "      <td>...</td>\n",
       "      <td>...</td>\n",
       "      <td>...</td>\n",
       "      <td>...</td>\n",
       "    </tr>\n",
       "    <tr>\n",
       "      <th>217852</th>\n",
       "      <td>221106231538662</td>\n",
       "      <td>다우기술</td>\n",
       "      <td>[올리브영] 기프트카드 1만원권</td>\n",
       "      <td>올리브영</td>\n",
       "      <td>2</td>\n",
       "      <td>19200</td>\n",
       "      <td>신용카드</td>\n",
       "      <td>2022-11-06 23:13:17</td>\n",
       "      <td>구매확정</td>\n",
       "      <td>N</td>\n",
       "      <td>NaN</td>\n",
       "      <td>NaN</td>\n",
       "      <td>2022-11</td>\n",
       "    </tr>\n",
       "    <tr>\n",
       "      <th>217914</th>\n",
       "      <td>221107074704768</td>\n",
       "      <td>다우기술</td>\n",
       "      <td>[따뜻달달특가] 빽다방-빽′s카페라떼(HOT)</td>\n",
       "      <td>빽다방</td>\n",
       "      <td>1</td>\n",
       "      <td>2550</td>\n",
       "      <td>신용카드</td>\n",
       "      <td>2022-11-07 07:44:43</td>\n",
       "      <td>구매확정</td>\n",
       "      <td>N</td>\n",
       "      <td>NaN</td>\n",
       "      <td>NaN</td>\n",
       "      <td>2022-11</td>\n",
       "    </tr>\n",
       "    <tr>\n",
       "      <th>217927</th>\n",
       "      <td>221107081217959</td>\n",
       "      <td>다우기술</td>\n",
       "      <td>[GS25] 모바일 상품권 2천원권</td>\n",
       "      <td>GS25</td>\n",
       "      <td>1</td>\n",
       "      <td>1800</td>\n",
       "      <td>신 + 포</td>\n",
       "      <td>2022-11-07 08:09:57</td>\n",
       "      <td>구매확정</td>\n",
       "      <td>N</td>\n",
       "      <td>NaN</td>\n",
       "      <td>NaN</td>\n",
       "      <td>2022-11</td>\n",
       "    </tr>\n",
       "    <tr>\n",
       "      <th>217938</th>\n",
       "      <td>221107083418760</td>\n",
       "      <td>다우기술</td>\n",
       "      <td>[이디야] 연유 카페라떼 HOT</td>\n",
       "      <td>이디야</td>\n",
       "      <td>1</td>\n",
       "      <td>3400</td>\n",
       "      <td>포인트</td>\n",
       "      <td>2022-11-07 08:31:57</td>\n",
       "      <td>구매확정</td>\n",
       "      <td>N</td>\n",
       "      <td>NaN</td>\n",
       "      <td>NaN</td>\n",
       "      <td>2022-11</td>\n",
       "    </tr>\n",
       "    <tr>\n",
       "      <th>217940</th>\n",
       "      <td>221107090224476</td>\n",
       "      <td>다우기술</td>\n",
       "      <td>[따뜻달달특가] 빽다방-앗메리카노(HOT)</td>\n",
       "      <td>빽다방</td>\n",
       "      <td>1</td>\n",
       "      <td>1300</td>\n",
       "      <td>신 + 포</td>\n",
       "      <td>2022-11-07 09:00:03</td>\n",
       "      <td>구매확정</td>\n",
       "      <td>N</td>\n",
       "      <td>NaN</td>\n",
       "      <td>NaN</td>\n",
       "      <td>2022-11</td>\n",
       "    </tr>\n",
       "  </tbody>\n",
       "</table>\n",
       "<p>158890 rows × 13 columns</p>\n",
       "</div>"
      ],
      "text/plain": [
       "                   주문번호   업체명                          상품명   제조사  주문수량   판매금액  \\\n",
       "0       191213170236874    지니    eHBM셀파수학교실 비닐봉투-1세트 100장입    HB     1   5000   \n",
       "1       191216100347429    지니    eHBM셀파수학교실 비닐봉투-1세트 100장입    HB     1   5000   \n",
       "2       191216100347429    지니     eHBM셀파수학교실 삼색볼펜-1세트 50개입    HB     3  67500   \n",
       "3       191216173241622    지니  eHBM셀파수학교실 회원용 리플렛-1세트 50권입    HB     2  30000   \n",
       "4       191216173241622    지니      eHBM셀파수학교실-학습계통도(중등 5종)    HB     1    750   \n",
       "...                 ...   ...                          ...   ...   ...    ...   \n",
       "217852  221106231538662  다우기술            [올리브영] 기프트카드 1만원권  올리브영     2  19200   \n",
       "217914  221107074704768  다우기술    [따뜻달달특가] 빽다방-빽′s카페라떼(HOT)   빽다방     1   2550   \n",
       "217927  221107081217959  다우기술          [GS25] 모바일 상품권 2천원권  GS25     1   1800   \n",
       "217938  221107083418760  다우기술            [이디야] 연유 카페라떼 HOT   이디야     1   3400   \n",
       "217940  221107090224476  다우기술      [따뜻달달특가] 빽다방-앗메리카노(HOT)   빽다방     1   1300   \n",
       "\n",
       "         결제방법                주문일자  처리상태 초도상품 제작문구 내역 할부기간     년도-월  \n",
       "0        신용카드 2019-12-13 17:03:37  구매확정    N     NaN  NaN  2019-12  \n",
       "1        신용카드 2019-12-16 10:04:50  구매확정    N     NaN  NaN  2019-12  \n",
       "2        신용카드 2019-12-16 10:04:50  구매확정    N     NaN  NaN  2019-12  \n",
       "3        신용카드 2019-12-16 17:33:43  구매확정    N     NaN  NaN  2019-12  \n",
       "4        신용카드 2019-12-16 17:33:43  구매확정    N     NaN  NaN  2019-12  \n",
       "...       ...                 ...   ...  ...     ...  ...      ...  \n",
       "217852   신용카드 2022-11-06 23:13:17  구매확정    N     NaN  NaN  2022-11  \n",
       "217914   신용카드 2022-11-07 07:44:43  구매확정    N     NaN  NaN  2022-11  \n",
       "217927  신 + 포 2022-11-07 08:09:57  구매확정    N     NaN  NaN  2022-11  \n",
       "217938    포인트 2022-11-07 08:31:57  구매확정    N     NaN  NaN  2022-11  \n",
       "217940  신 + 포 2022-11-07 09:00:03  구매확정    N     NaN  NaN  2022-11  \n",
       "\n",
       "[158890 rows x 13 columns]"
      ]
     },
     "execution_count": 33,
     "metadata": {},
     "output_type": "execute_result"
    }
   ],
   "source": [
    "df2"
   ]
  },
  {
   "cell_type": "code",
   "execution_count": 34,
   "id": "2fc6a0f2",
   "metadata": {},
   "outputs": [
    {
     "data": {
      "image/png": "[encoded data removed]",
      "text/plain": [
       "<Figure size 640x480 with 1 Axes>"
      ]
     },
     "metadata": {},
     "output_type": "display_data"
    }
   ],
   "source": [
    "sns.barplot(data=df2, x='년도-월' , y='판매금액', color='#6495ED')\n",
    "plt.xticks(rotation=90)\n",
    "plt.show()"
   ]
  },
  {
   "cell_type": "markdown",
   "id": "7552d2b7",
   "metadata": {},
   "source": [
    "### 필수분석 3번) 결제 방법에 따른 분석\n",
    "- a. 결제 방법과 결제금액의 연관성 분석\n",
    "- b. 결제방법은 맨 앞의 한가지만 사용한 것으로 간주"
   ]
  },
  {
   "cell_type": "code",
   "execution_count": 35,
   "id": "5ebac0f2",
   "metadata": {},
   "outputs": [
    {
     "data": {
      "text/plain": [
       "array(['신용카드', '가상계좌', '신 + 포', '포인트', '신 + 적 + 포', '신 + 적', '적 + 포',\n",
       "       '웰컴마일', '신 + 웰컴', '적립금', '후불', '후 + 포', '후 + 적 + 포', nan, '정 + 포',\n",
       "       '정기결제', '정 + 적 + 포', '정 + 적', '현금간편결제', '현 + 적', '현 + 포',\n",
       "       '현 + 적 + 포', '-', ' + 포'], dtype=object)"
      ]
     },
     "execution_count": 35,
     "metadata": {},
     "output_type": "execute_result"
    }
   ],
   "source": [
    "df2['결제방법'].unique()"
   ]
  },
  {
   "cell_type": "code",
   "execution_count": 36,
   "id": "ff8240bf",
   "metadata": {},
   "outputs": [
    {
     "name": "stderr",
     "output_type": "stream",
     "text": [
      "C:\\Users\\leah5\\AppData\\Local\\Temp\\ipykernel_11168\\3374692956.py:3: SettingWithCopyWarning: \n",
      "A value is trying to be set on a copy of a slice from a DataFrame\n",
      "\n",
      "See the caveats in the documentation: https://pandas.pydata.org/pandas-docs/stable/user_guide/indexing.html#returning-a-view-versus-a-copy\n",
      "  df2.replace(['신 + 포','신 + 적 + 포','신 + 적','신 + 웰컴'],'신용카드',inplace=True)\n",
      "C:\\Users\\leah5\\AppData\\Local\\Temp\\ipykernel_11168\\3374692956.py:4: SettingWithCopyWarning: \n",
      "A value is trying to be set on a copy of a slice from a DataFrame\n",
      "\n",
      "See the caveats in the documentation: https://pandas.pydata.org/pandas-docs/stable/user_guide/indexing.html#returning-a-view-versus-a-copy\n",
      "  df2.replace('적 + 포','적립금',inplace=True)\n",
      "C:\\Users\\leah5\\AppData\\Local\\Temp\\ipykernel_11168\\3374692956.py:5: SettingWithCopyWarning: \n",
      "A value is trying to be set on a copy of a slice from a DataFrame\n",
      "\n",
      "See the caveats in the documentation: https://pandas.pydata.org/pandas-docs/stable/user_guide/indexing.html#returning-a-view-versus-a-copy\n",
      "  df2.replace(['후 + 포','후 + 적 + 포','후 + 적'],'후불',inplace=True)\n",
      "C:\\Users\\leah5\\AppData\\Local\\Temp\\ipykernel_11168\\3374692956.py:6: SettingWithCopyWarning: \n",
      "A value is trying to be set on a copy of a slice from a DataFrame\n",
      "\n",
      "See the caveats in the documentation: https://pandas.pydata.org/pandas-docs/stable/user_guide/indexing.html#returning-a-view-versus-a-copy\n",
      "  df2.replace(['정 + 포','정 + 적 + 포','정 + 적'],'정기결제',inplace=True)\n",
      "C:\\Users\\leah5\\AppData\\Local\\Temp\\ipykernel_11168\\3374692956.py:7: SettingWithCopyWarning: \n",
      "A value is trying to be set on a copy of a slice from a DataFrame\n",
      "\n",
      "See the caveats in the documentation: https://pandas.pydata.org/pandas-docs/stable/user_guide/indexing.html#returning-a-view-versus-a-copy\n",
      "  df2.replace(['현 + 적', '현 + 포','현 + 적 + 포'],'현금간편결제',inplace=True)\n"
     ]
    }
   ],
   "source": [
    "# 맨 앞의 글자의 결제 방법으로 이름 수정 \n",
    "# ex) 신+포 = 신용카드\n",
    "df2.replace(['신 + 포','신 + 적 + 포','신 + 적','신 + 웰컴'],'신용카드',inplace=True)\n",
    "df2.replace('적 + 포','적립금',inplace=True)\n",
    "df2.replace(['후 + 포','후 + 적 + 포','후 + 적'],'후불',inplace=True)\n",
    "df2.replace(['정 + 포','정 + 적 + 포','정 + 적'],'정기결제',inplace=True)\n",
    "df2.replace(['현 + 적', '현 + 포','현 + 적 + 포'],'현금간편결제',inplace=True)"
   ]
  },
  {
   "cell_type": "code",
   "execution_count": 37,
   "id": "7e4599ea",
   "metadata": {},
   "outputs": [],
   "source": [
    "# 결제방법 = '-', ' + 포', nan 삭제\n",
    "df2 = df2[df2['결제방법']!='-']\n",
    "df2 = df2[df2['결제방법']!=' + 포']\n",
    "df2.dropna(subset=['결제방법'], inplace=True)"
   ]
  },
  {
   "cell_type": "code",
   "execution_count": 38,
   "id": "39327e49",
   "metadata": {},
   "outputs": [
    {
     "data": {
      "text/plain": [
       "array(['신용카드', '가상계좌', '포인트', '적립금', '웰컴마일', '후불', '정기결제', '현금간편결제'],\n",
       "      dtype=object)"
      ]
     },
     "execution_count": 38,
     "metadata": {},
     "output_type": "execute_result"
    }
   ],
   "source": [
    "df2['결제방법'].unique()"
   ]
  },
  {
   "cell_type": "code",
   "execution_count": 39,
   "id": "4428a9b4",
   "metadata": {},
   "outputs": [
    {
     "data": {
      "text/html": [
       "<div>\n",
       "<style scoped>\n",
       "    .dataframe tbody tr th:only-of-type {\n",
       "        vertical-align: middle;\n",
       "    }\n",
       "\n",
       "    .dataframe tbody tr th {\n",
       "        vertical-align: top;\n",
       "    }\n",
       "\n",
       "    .dataframe thead th {\n",
       "        text-align: right;\n",
       "    }\n",
       "</style>\n",
       "<table border=\"1\" class=\"dataframe\">\n",
       "  <thead>\n",
       "    <tr style=\"text-align: right;\">\n",
       "      <th></th>\n",
       "      <th>주문번호</th>\n",
       "      <th>업체명</th>\n",
       "      <th>상품명</th>\n",
       "      <th>제조사</th>\n",
       "      <th>주문수량</th>\n",
       "      <th>판매금액</th>\n",
       "      <th>결제방법</th>\n",
       "      <th>주문일자</th>\n",
       "      <th>처리상태</th>\n",
       "      <th>초도상품</th>\n",
       "      <th>제작문구 내역</th>\n",
       "      <th>할부기간</th>\n",
       "      <th>년도-월</th>\n",
       "    </tr>\n",
       "  </thead>\n",
       "  <tbody>\n",
       "  </tbody>\n",
       "</table>\n",
       "</div>"
      ],
      "text/plain": [
       "Empty DataFrame\n",
       "Columns: [주문번호, 업체명, 상품명, 제조사, 주문수량, 판매금액, 결제방법, 주문일자, 처리상태, 초도상품, 제작문구 내역, 할부기간, 년도-월]\n",
       "Index: []"
      ]
     },
     "execution_count": 39,
     "metadata": {},
     "output_type": "execute_result"
    }
   ],
   "source": [
    "df2[df2['판매금액'].isna()]"
   ]
  },
  {
   "cell_type": "code",
   "execution_count": 40,
   "id": "2a617e9a",
   "metadata": {},
   "outputs": [],
   "source": [
    "# 결제 방법과 결제금액의 연관성 분석 (카이제곱검정 실시)\n",
    "# df_cor = 결제방법과 판매금액 변수만 있는 데이터프레임\n",
    "df_cor = df2[['결제방법', '판매금액']]"
   ]
  },
  {
   "cell_type": "code",
   "execution_count": 41,
   "id": "77518de5",
   "metadata": {},
   "outputs": [
    {
     "data": {
      "text/html": [
       "<div>\n",
       "<style scoped>\n",
       "    .dataframe tbody tr th:only-of-type {\n",
       "        vertical-align: middle;\n",
       "    }\n",
       "\n",
       "    .dataframe tbody tr th {\n",
       "        vertical-align: top;\n",
       "    }\n",
       "\n",
       "    .dataframe thead th {\n",
       "        text-align: right;\n",
       "    }\n",
       "</style>\n",
       "<table border=\"1\" class=\"dataframe\">\n",
       "  <thead>\n",
       "    <tr style=\"text-align: right;\">\n",
       "      <th></th>\n",
       "      <th>결제방법</th>\n",
       "      <th>판매금액</th>\n",
       "    </tr>\n",
       "  </thead>\n",
       "  <tbody>\n",
       "    <tr>\n",
       "      <th>0</th>\n",
       "      <td>신용카드</td>\n",
       "      <td>5000</td>\n",
       "    </tr>\n",
       "    <tr>\n",
       "      <th>1</th>\n",
       "      <td>신용카드</td>\n",
       "      <td>5000</td>\n",
       "    </tr>\n",
       "    <tr>\n",
       "      <th>2</th>\n",
       "      <td>신용카드</td>\n",
       "      <td>67500</td>\n",
       "    </tr>\n",
       "    <tr>\n",
       "      <th>3</th>\n",
       "      <td>신용카드</td>\n",
       "      <td>30000</td>\n",
       "    </tr>\n",
       "    <tr>\n",
       "      <th>4</th>\n",
       "      <td>신용카드</td>\n",
       "      <td>750</td>\n",
       "    </tr>\n",
       "    <tr>\n",
       "      <th>...</th>\n",
       "      <td>...</td>\n",
       "      <td>...</td>\n",
       "    </tr>\n",
       "    <tr>\n",
       "      <th>217852</th>\n",
       "      <td>신용카드</td>\n",
       "      <td>19200</td>\n",
       "    </tr>\n",
       "    <tr>\n",
       "      <th>217914</th>\n",
       "      <td>신용카드</td>\n",
       "      <td>2550</td>\n",
       "    </tr>\n",
       "    <tr>\n",
       "      <th>217927</th>\n",
       "      <td>신용카드</td>\n",
       "      <td>1800</td>\n",
       "    </tr>\n",
       "    <tr>\n",
       "      <th>217938</th>\n",
       "      <td>포인트</td>\n",
       "      <td>3400</td>\n",
       "    </tr>\n",
       "    <tr>\n",
       "      <th>217940</th>\n",
       "      <td>신용카드</td>\n",
       "      <td>1300</td>\n",
       "    </tr>\n",
       "  </tbody>\n",
       "</table>\n",
       "<p>157672 rows × 2 columns</p>\n",
       "</div>"
      ],
      "text/plain": [
       "        결제방법   판매금액\n",
       "0       신용카드   5000\n",
       "1       신용카드   5000\n",
       "2       신용카드  67500\n",
       "3       신용카드  30000\n",
       "4       신용카드    750\n",
       "...      ...    ...\n",
       "217852  신용카드  19200\n",
       "217914  신용카드   2550\n",
       "217927  신용카드   1800\n",
       "217938   포인트   3400\n",
       "217940  신용카드   1300\n",
       "\n",
       "[157672 rows x 2 columns]"
      ]
     },
     "execution_count": 41,
     "metadata": {},
     "output_type": "execute_result"
    }
   ],
   "source": [
    "df_cor"
   ]
  },
  {
   "cell_type": "code",
   "execution_count": 42,
   "id": "08c2b38f",
   "metadata": {},
   "outputs": [
    {
     "name": "stderr",
     "output_type": "stream",
     "text": [
      "C:\\Users\\leah5\\AppData\\Local\\Temp\\ipykernel_11168\\843114720.py:2: SettingWithCopyWarning: \n",
      "A value is trying to be set on a copy of a slice from a DataFrame.\n",
      "Try using .loc[row_indexer,col_indexer] = value instead\n",
      "\n",
      "See the caveats in the documentation: https://pandas.pydata.org/pandas-docs/stable/user_guide/indexing.html#returning-a-view-versus-a-copy\n",
      "  df_cor['결제방법_new'] = df_cor['결제방법'].replace('신용카드',0).replace('가상계좌',1).replace('포인트',2).replace('적립금',3).replace('웰컴마일',4).replace('후불',5).replace('정기결제',6).replace('현금간편결제',7)\n"
     ]
    }
   ],
   "source": [
    "# 범주형 columns인 '결제방법' 수치형으로 변환\n",
    "df_cor['결제방법_new'] = df_cor['결제방법'].replace('신용카드',0).replace('가상계좌',1).replace('포인트',2).replace('적립금',3).replace('웰컴마일',4).replace('후불',5).replace('정기결제',6).replace('현금간편결제',7)"
   ]
  },
  {
   "cell_type": "code",
   "execution_count": 43,
   "id": "1f315327",
   "metadata": {},
   "outputs": [
    {
     "data": {
      "text/html": [
       "<div>\n",
       "<style scoped>\n",
       "    .dataframe tbody tr th:only-of-type {\n",
       "        vertical-align: middle;\n",
       "    }\n",
       "\n",
       "    .dataframe tbody tr th {\n",
       "        vertical-align: top;\n",
       "    }\n",
       "\n",
       "    .dataframe thead th {\n",
       "        text-align: right;\n",
       "    }\n",
       "</style>\n",
       "<table border=\"1\" class=\"dataframe\">\n",
       "  <thead>\n",
       "    <tr style=\"text-align: right;\">\n",
       "      <th></th>\n",
       "      <th>결제방법</th>\n",
       "      <th>판매금액</th>\n",
       "      <th>결제방법_new</th>\n",
       "    </tr>\n",
       "  </thead>\n",
       "  <tbody>\n",
       "    <tr>\n",
       "      <th>0</th>\n",
       "      <td>신용카드</td>\n",
       "      <td>5000</td>\n",
       "      <td>0</td>\n",
       "    </tr>\n",
       "    <tr>\n",
       "      <th>1</th>\n",
       "      <td>신용카드</td>\n",
       "      <td>5000</td>\n",
       "      <td>0</td>\n",
       "    </tr>\n",
       "    <tr>\n",
       "      <th>2</th>\n",
       "      <td>신용카드</td>\n",
       "      <td>67500</td>\n",
       "      <td>0</td>\n",
       "    </tr>\n",
       "    <tr>\n",
       "      <th>3</th>\n",
       "      <td>신용카드</td>\n",
       "      <td>30000</td>\n",
       "      <td>0</td>\n",
       "    </tr>\n",
       "    <tr>\n",
       "      <th>4</th>\n",
       "      <td>신용카드</td>\n",
       "      <td>750</td>\n",
       "      <td>0</td>\n",
       "    </tr>\n",
       "    <tr>\n",
       "      <th>...</th>\n",
       "      <td>...</td>\n",
       "      <td>...</td>\n",
       "      <td>...</td>\n",
       "    </tr>\n",
       "    <tr>\n",
       "      <th>217852</th>\n",
       "      <td>신용카드</td>\n",
       "      <td>19200</td>\n",
       "      <td>0</td>\n",
       "    </tr>\n",
       "    <tr>\n",
       "      <th>217914</th>\n",
       "      <td>신용카드</td>\n",
       "      <td>2550</td>\n",
       "      <td>0</td>\n",
       "    </tr>\n",
       "    <tr>\n",
       "      <th>217927</th>\n",
       "      <td>신용카드</td>\n",
       "      <td>1800</td>\n",
       "      <td>0</td>\n",
       "    </tr>\n",
       "    <tr>\n",
       "      <th>217938</th>\n",
       "      <td>포인트</td>\n",
       "      <td>3400</td>\n",
       "      <td>2</td>\n",
       "    </tr>\n",
       "    <tr>\n",
       "      <th>217940</th>\n",
       "      <td>신용카드</td>\n",
       "      <td>1300</td>\n",
       "      <td>0</td>\n",
       "    </tr>\n",
       "  </tbody>\n",
       "</table>\n",
       "<p>157672 rows × 3 columns</p>\n",
       "</div>"
      ],
      "text/plain": [
       "        결제방법   판매금액  결제방법_new\n",
       "0       신용카드   5000         0\n",
       "1       신용카드   5000         0\n",
       "2       신용카드  67500         0\n",
       "3       신용카드  30000         0\n",
       "4       신용카드    750         0\n",
       "...      ...    ...       ...\n",
       "217852  신용카드  19200         0\n",
       "217914  신용카드   2550         0\n",
       "217927  신용카드   1800         0\n",
       "217938   포인트   3400         2\n",
       "217940  신용카드   1300         0\n",
       "\n",
       "[157672 rows x 3 columns]"
      ]
     },
     "execution_count": 43,
     "metadata": {},
     "output_type": "execute_result"
    }
   ],
   "source": [
    "df_cor"
   ]
  },
  {
   "cell_type": "code",
   "execution_count": 44,
   "id": "e4239278",
   "metadata": {},
   "outputs": [
    {
     "data": {
      "text/plain": [
       "SignificanceResult(statistic=-0.06470601041085032, pvalue=6.9535995384081036e-146)"
      ]
     },
     "execution_count": 44,
     "metadata": {},
     "output_type": "execute_result"
    }
   ],
   "source": [
    "stats.spearmanr(df_cor['결제방법_new'],df_cor['판매금액'])\n",
    "# p < 0.05 이므로 귀무가설 기각\n",
    "# 두 변수 사이에 연관성이 있다."
   ]
  },
  {
   "cell_type": "code",
   "execution_count": 45,
   "id": "21fe9880",
   "metadata": {},
   "outputs": [
    {
     "data": {
      "text/plain": [
       "<Axes: xlabel='결제방법_new', ylabel='판매금액'>"
      ]
     },
     "execution_count": 45,
     "metadata": {},
     "output_type": "execute_result"
    },
    {
     "data": {
      "image/png": "[encoded data removed]",
      "text/plain": [
       "<Figure size 640x480 with 1 Axes>"
      ]
     },
     "metadata": {},
     "output_type": "display_data"
    }
   ],
   "source": [
    "sns.scatterplot(x=df_cor['결제방법_new'],y=df_cor['판매금액'])"
   ]
  }
 ],
 "metadata": {
  "kernelspec": {
   "display_name": "Python 3 (ipykernel)",
   "language": "python",
   "name": "python3"
  },
  "language_info": {
   "codemirror_mode": {
    "name": "ipython",
    "version": 3
   },
   "file_extension": ".py",
   "mimetype": "text/x-python",
   "name": "python",
   "nbconvert_exporter": "python",
   "pygments_lexer": "ipython3",
   "version": "3.10.9"
  }
 },
 "nbformat": 4,
 "nbformat_minor": 5
}
