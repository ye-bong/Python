{
 "cells": [
  {
   "cell_type": "code",
   "execution_count": 110,
   "id": "d1b5a926",
   "metadata": {},
   "outputs": [],
   "source": [
    "# 1번 문제\n",
    "# 업체명을 기준으로 RFM분석 실시\n",
    "import pandas as pd"
   ]
  },
  {
   "cell_type": "code",
   "execution_count": 2,
   "id": "1cbe71a7",
   "metadata": {},
   "outputs": [],
   "source": [
    "df = pd.read_excel(\"미니프로젝트-쇼핑몰 실습데이터.xlsx\")\n",
    "# thousands=',' -> 자리수 구분자를 읽는 방법 or replace로 대체"
   ]
  },
  {
   "cell_type": "code",
   "execution_count": 5,
   "id": "5e2fb920",
   "metadata": {},
   "outputs": [
    {
     "data": {
      "text/plain": [
       "array(['신용카드', '가상계좌', '후불', '무통장입금', nan, '신 + 포', '포인트', '신 + 적',\n",
       "       '신 + 적 + 포', '적 + 포', '웰컴마일', '신 + 웰컴', '적립금', '후 + 포',\n",
       "       '후 + 적 + 포', '후 + 적', '정 + 적', '정 + 적 + 포', '정기결제', '정 + 포',\n",
       "       '현금간편결제', '현 + 포', '현 + 적', '현 + 적 + 포', '-', ' + 포'], dtype=object)"
      ]
     },
     "execution_count": 5,
     "metadata": {},
     "output_type": "execute_result"
    }
   ],
   "source": [
    "df['결제방법'].unique()"
   ]
  },
  {
   "cell_type": "markdown",
   "id": "793d5038",
   "metadata": {},
   "source": [
    "## 전처리\n",
    "- 자의적인 판단 많이 들어감\n",
    "- 왠만하면 놔두는 타입 (강사님)"
   ]
  },
  {
   "cell_type": "code",
   "execution_count": 7,
   "id": "bf1c5e38",
   "metadata": {},
   "outputs": [
    {
     "data": {
      "text/plain": [
       "array([191213170236874, 191216100347429, 191216173241622, ...,\n",
       "       221108104536307, 221108104735216, 221108105148171], dtype=int64)"
      ]
     },
     "execution_count": 7,
     "metadata": {},
     "output_type": "execute_result"
    }
   ],
   "source": [
    "df['주문번호'].unique()"
   ]
  },
  {
   "cell_type": "code",
   "execution_count": 8,
   "id": "37c70079",
   "metadata": {},
   "outputs": [
    {
     "data": {
      "text/plain": [
       "array(['지니', '쥬크박스', '조이스', '라온웍스', '네오필립', '산스토어', '셀러테스트', '유앤알코리아',\n",
       "       '거영아이앤디', '레인트리', '가이스파트너스', '빅픽처', '에이스디포', '로렌츄컴퍼니', '피플이엔티',\n",
       "       '비즈마켓렌탈', '플레이피에스마케팅', '퍼스트엔터테인먼트', '스테툴스', '와이앤제이', '한민유통',\n",
       "       '블루스톤익스체인지', '아이엔리테일', '드림빌', '럭스럭스', '애쓰다', '라씨오날에듀', '가베',\n",
       "       '이든교육', '엘식스', '에스아이상사', '사이언스스타', '피에이엔글로벌', '이선생자석교구', '뮤템',\n",
       "       '페트라기업', '와니사이언스', '준디자인', '청화', '더싸다닷컴', '오피스퀵', '행복한바오밥', '보드엠',\n",
       "       '트리인천신현지사', '리틀램스쿨', '그린피앤에스', nan, '다우기술', '채널씨엔씨', '디자인다소',\n",
       "       '아토코리아', '지니 태블릿', '유쾌한생각', '엔에이치엔에듀', '래시드', '이트너스', '싱크로드코리아',\n",
       "       '스낵포', '모든오피스', '마스크공작소', '프린피아', '뉴트리원', '알파', '로즈마켓', '천재태블릿',\n",
       "       '일이테크', '비전플레이스', '주식회사 티앤티솔루션', '티셀-유아', '테스트', '지니 태블릿(후불집행)',\n",
       "       '애플나라샵', '티셀-도서', '헬스하우스', '에어인', '리얼리티리테일코리아', '석빙고', '만들기대장',\n",
       "       '링커블테크놀러지', '매직북스', '플레이스마터', '인테이크 주식회사', '리체', '오피스허브', '메디쿼터스',\n",
       "       '바나나코퍼레이션', '맨도롱', '7321디자인', '이루커머스', '한샘글로벌'], dtype=object)"
      ]
     },
     "execution_count": 8,
     "metadata": {},
     "output_type": "execute_result"
    }
   ],
   "source": [
    "df['업체명'].unique()\n",
    "# 사실관계 확인후 이름 수정, 그러나 지금은 하지x"
   ]
  },
  {
   "cell_type": "code",
   "execution_count": 9,
   "id": "3d9dc701",
   "metadata": {},
   "outputs": [
    {
     "data": {
      "text/plain": [
       "array(['eHBM셀파수학교실 비닐봉투-1세트 100장입', 'eHBM셀파수학교실 삼색볼펜-1세트 50개입',\n",
       "       'eHBM셀파수학교실 회원용 리플렛-1세트 50권입', ..., '[학생선물] 깜짝 주사위게임',\n",
       "       '[학생선물] 동물 메모리 게임', '[학생선물] 크리스마스 무릎담요 (랜덤발송)'], dtype=object)"
      ]
     },
     "execution_count": 9,
     "metadata": {},
     "output_type": "execute_result"
    }
   ],
   "source": [
    "df['상품명'].unique()\n",
    "# ''[학생선물] 동물 메모리 게임' 과 '동물 메모리 게임' 은 다른것인가?\n",
    "# [학생선물] 요롷게 표시되어있는게 있는거랑 없는거랑 같다고 가정"
   ]
  },
  {
   "cell_type": "code",
   "execution_count": 13,
   "id": "07179bb6",
   "metadata": {},
   "outputs": [],
   "source": [
    "df['상품명'] = df['상품명'].apply(lambda x: str(x).split('] ')[-1])"
   ]
  },
  {
   "cell_type": "code",
   "execution_count": 14,
   "id": "0a84853f",
   "metadata": {},
   "outputs": [
    {
     "data": {
      "text/html": [
       "<div>\n",
       "<style scoped>\n",
       "    .dataframe tbody tr th:only-of-type {\n",
       "        vertical-align: middle;\n",
       "    }\n",
       "\n",
       "    .dataframe tbody tr th {\n",
       "        vertical-align: top;\n",
       "    }\n",
       "\n",
       "    .dataframe thead th {\n",
       "        text-align: right;\n",
       "    }\n",
       "</style>\n",
       "<table border=\"1\" class=\"dataframe\">\n",
       "  <thead>\n",
       "    <tr style=\"text-align: right;\">\n",
       "      <th></th>\n",
       "      <th>주문번호</th>\n",
       "      <th>업체명</th>\n",
       "      <th>상품명</th>\n",
       "      <th>제조사</th>\n",
       "      <th>주문수량</th>\n",
       "      <th>판매금액</th>\n",
       "      <th>결제방법</th>\n",
       "      <th>주문일자</th>\n",
       "      <th>처리상태</th>\n",
       "      <th>초도상품</th>\n",
       "      <th>제작문구 내역</th>\n",
       "      <th>할부기간</th>\n",
       "    </tr>\n",
       "  </thead>\n",
       "  <tbody>\n",
       "    <tr>\n",
       "      <th>0</th>\n",
       "      <td>191213170236874</td>\n",
       "      <td>지니</td>\n",
       "      <td>eHBM셀파수학교실 비닐봉투-1세트 100장입</td>\n",
       "      <td>HB</td>\n",
       "      <td>1</td>\n",
       "      <td>5000</td>\n",
       "      <td>신용카드</td>\n",
       "      <td>2019-12-13 17:03:37</td>\n",
       "      <td>구매확정</td>\n",
       "      <td>N</td>\n",
       "      <td>NaN</td>\n",
       "      <td>NaN</td>\n",
       "    </tr>\n",
       "    <tr>\n",
       "      <th>1</th>\n",
       "      <td>191216100347429</td>\n",
       "      <td>지니</td>\n",
       "      <td>eHBM셀파수학교실 비닐봉투-1세트 100장입</td>\n",
       "      <td>HB</td>\n",
       "      <td>1</td>\n",
       "      <td>5000</td>\n",
       "      <td>신용카드</td>\n",
       "      <td>2019-12-16 10:04:50</td>\n",
       "      <td>구매확정</td>\n",
       "      <td>N</td>\n",
       "      <td>NaN</td>\n",
       "      <td>NaN</td>\n",
       "    </tr>\n",
       "    <tr>\n",
       "      <th>2</th>\n",
       "      <td>191216100347429</td>\n",
       "      <td>지니</td>\n",
       "      <td>eHBM셀파수학교실 삼색볼펜-1세트 50개입</td>\n",
       "      <td>HB</td>\n",
       "      <td>3</td>\n",
       "      <td>67500</td>\n",
       "      <td>신용카드</td>\n",
       "      <td>2019-12-16 10:04:50</td>\n",
       "      <td>구매확정</td>\n",
       "      <td>N</td>\n",
       "      <td>NaN</td>\n",
       "      <td>NaN</td>\n",
       "    </tr>\n",
       "    <tr>\n",
       "      <th>3</th>\n",
       "      <td>191216173241622</td>\n",
       "      <td>지니</td>\n",
       "      <td>eHBM셀파수학교실 회원용 리플렛-1세트 50권입</td>\n",
       "      <td>HB</td>\n",
       "      <td>2</td>\n",
       "      <td>30000</td>\n",
       "      <td>신용카드</td>\n",
       "      <td>2019-12-16 17:33:43</td>\n",
       "      <td>구매확정</td>\n",
       "      <td>N</td>\n",
       "      <td>NaN</td>\n",
       "      <td>NaN</td>\n",
       "    </tr>\n",
       "    <tr>\n",
       "      <th>4</th>\n",
       "      <td>191216173241622</td>\n",
       "      <td>지니</td>\n",
       "      <td>eHBM셀파수학교실-학습계통도(중등 5종)</td>\n",
       "      <td>HB</td>\n",
       "      <td>1</td>\n",
       "      <td>750</td>\n",
       "      <td>신용카드</td>\n",
       "      <td>2019-12-16 17:33:43</td>\n",
       "      <td>구매확정</td>\n",
       "      <td>N</td>\n",
       "      <td>NaN</td>\n",
       "      <td>NaN</td>\n",
       "    </tr>\n",
       "    <tr>\n",
       "      <th>...</th>\n",
       "      <td>...</td>\n",
       "      <td>...</td>\n",
       "      <td>...</td>\n",
       "      <td>...</td>\n",
       "      <td>...</td>\n",
       "      <td>...</td>\n",
       "      <td>...</td>\n",
       "      <td>...</td>\n",
       "      <td>...</td>\n",
       "      <td>...</td>\n",
       "      <td>...</td>\n",
       "      <td>...</td>\n",
       "    </tr>\n",
       "    <tr>\n",
       "      <th>218596</th>\n",
       "      <td>221108104041264</td>\n",
       "      <td>에이스디포</td>\n",
       "      <td>입체 액자형 현판</td>\n",
       "      <td>에이스디포</td>\n",
       "      <td>1</td>\n",
       "      <td>35000</td>\n",
       "      <td>웰컴마일</td>\n",
       "      <td>2022-11-08 10:38:21</td>\n",
       "      <td>결제완료</td>\n",
       "      <td>Y</td>\n",
       "      <td>NaN</td>\n",
       "      <td>NaN</td>\n",
       "    </tr>\n",
       "    <tr>\n",
       "      <th>218597</th>\n",
       "      <td>221108104041264</td>\n",
       "      <td>에이스디포</td>\n",
       "      <td>아크릴 사인</td>\n",
       "      <td>HB</td>\n",
       "      <td>1</td>\n",
       "      <td>26900</td>\n",
       "      <td>웰컴마일</td>\n",
       "      <td>2022-11-08 10:38:21</td>\n",
       "      <td>결제완료</td>\n",
       "      <td>Y</td>\n",
       "      <td>NaN</td>\n",
       "      <td>NaN</td>\n",
       "    </tr>\n",
       "    <tr>\n",
       "      <th>218598</th>\n",
       "      <td>221108104536307</td>\n",
       "      <td>에이스디포</td>\n",
       "      <td>아크릴 사인</td>\n",
       "      <td>HB</td>\n",
       "      <td>1</td>\n",
       "      <td>26900</td>\n",
       "      <td>신 + 포</td>\n",
       "      <td>2022-11-08 10:43:15</td>\n",
       "      <td>배송준비</td>\n",
       "      <td>N</td>\n",
       "      <td>NaN</td>\n",
       "      <td>NaN</td>\n",
       "    </tr>\n",
       "    <tr>\n",
       "      <th>218599</th>\n",
       "      <td>221108104735216</td>\n",
       "      <td>다우기술</td>\n",
       "      <td>아이스 카페 아메리카노 T</td>\n",
       "      <td>스타벅스</td>\n",
       "      <td>1</td>\n",
       "      <td>4050</td>\n",
       "      <td>포인트</td>\n",
       "      <td>2022-11-08 10:45:14</td>\n",
       "      <td>배송완료</td>\n",
       "      <td>N</td>\n",
       "      <td>NaN</td>\n",
       "      <td>NaN</td>\n",
       "    </tr>\n",
       "    <tr>\n",
       "      <th>218600</th>\n",
       "      <td>221108105148171</td>\n",
       "      <td>다우기술</td>\n",
       "      <td>2차-신세계 상품권 모바일 교환권-1만원권</td>\n",
       "      <td>신세계</td>\n",
       "      <td>17</td>\n",
       "      <td>161500</td>\n",
       "      <td>신용카드</td>\n",
       "      <td>2022-11-08 10:49:28</td>\n",
       "      <td>배송완료</td>\n",
       "      <td>N</td>\n",
       "      <td>NaN</td>\n",
       "      <td>NaN</td>\n",
       "    </tr>\n",
       "  </tbody>\n",
       "</table>\n",
       "<p>218601 rows × 12 columns</p>\n",
       "</div>"
      ],
      "text/plain": [
       "                   주문번호    업체명                          상품명    제조사  주문수량  \\\n",
       "0       191213170236874     지니    eHBM셀파수학교실 비닐봉투-1세트 100장입     HB     1   \n",
       "1       191216100347429     지니    eHBM셀파수학교실 비닐봉투-1세트 100장입     HB     1   \n",
       "2       191216100347429     지니     eHBM셀파수학교실 삼색볼펜-1세트 50개입     HB     3   \n",
       "3       191216173241622     지니  eHBM셀파수학교실 회원용 리플렛-1세트 50권입     HB     2   \n",
       "4       191216173241622     지니      eHBM셀파수학교실-학습계통도(중등 5종)     HB     1   \n",
       "...                 ...    ...                          ...    ...   ...   \n",
       "218596  221108104041264  에이스디포                    입체 액자형 현판  에이스디포     1   \n",
       "218597  221108104041264  에이스디포                       아크릴 사인     HB     1   \n",
       "218598  221108104536307  에이스디포                       아크릴 사인     HB     1   \n",
       "218599  221108104735216   다우기술               아이스 카페 아메리카노 T   스타벅스     1   \n",
       "218600  221108105148171   다우기술      2차-신세계 상품권 모바일 교환권-1만원권    신세계    17   \n",
       "\n",
       "          판매금액   결제방법                주문일자  처리상태 초도상품 제작문구 내역 할부기간  \n",
       "0         5000   신용카드 2019-12-13 17:03:37  구매확정    N     NaN  NaN  \n",
       "1         5000   신용카드 2019-12-16 10:04:50  구매확정    N     NaN  NaN  \n",
       "2        67500   신용카드 2019-12-16 10:04:50  구매확정    N     NaN  NaN  \n",
       "3        30000   신용카드 2019-12-16 17:33:43  구매확정    N     NaN  NaN  \n",
       "4          750   신용카드 2019-12-16 17:33:43  구매확정    N     NaN  NaN  \n",
       "...        ...    ...                 ...   ...  ...     ...  ...  \n",
       "218596   35000   웰컴마일 2022-11-08 10:38:21  결제완료    Y     NaN  NaN  \n",
       "218597   26900   웰컴마일 2022-11-08 10:38:21  결제완료    Y     NaN  NaN  \n",
       "218598   26900  신 + 포 2022-11-08 10:43:15  배송준비    N     NaN  NaN  \n",
       "218599    4050    포인트 2022-11-08 10:45:14  배송완료    N     NaN  NaN  \n",
       "218600  161500   신용카드 2022-11-08 10:49:28  배송완료    N     NaN  NaN  \n",
       "\n",
       "[218601 rows x 12 columns]"
      ]
     },
     "execution_count": 14,
     "metadata": {},
     "output_type": "execute_result"
    }
   ],
   "source": [
    "df"
   ]
  },
  {
   "cell_type": "code",
   "execution_count": 15,
   "id": "001173ab",
   "metadata": {},
   "outputs": [
    {
     "data": {
      "text/plain": [
       "array(['HB', '쥬크박스', '자바펜', ..., '(주)비알코리아', '중국', '레전드코퍼레이션'],\n",
       "      dtype=object)"
      ]
     },
     "execution_count": 15,
     "metadata": {},
     "output_type": "execute_result"
    }
   ],
   "source": [
    "df['제조사'].unique()"
   ]
  },
  {
   "cell_type": "code",
   "execution_count": 16,
   "id": "81a5181c",
   "metadata": {},
   "outputs": [
    {
     "data": {
      "text/plain": [
       "array([  5000,  67500,  30000, ..., 712500,  19380, 161500], dtype=int64)"
      ]
     },
     "execution_count": 16,
     "metadata": {},
     "output_type": "execute_result"
    }
   ],
   "source": [
    "df['판매금액'].unique()\n",
    "# int형식이므로 전부다 정수\n",
    "# nan 값은 없다 (float형식이 아니기에)\n",
    "# min, max 적당하니 건드리지 말자"
   ]
  },
  {
   "cell_type": "markdown",
   "id": "48af9062",
   "metadata": {},
   "source": [
    "### 번외"
   ]
  },
  {
   "cell_type": "code",
   "execution_count": 17,
   "id": "8965b194",
   "metadata": {},
   "outputs": [],
   "source": [
    "# 만약 판매금액 칼럼에서 , 표기가 그래도 있어서 object 형식으로 뜰때\n",
    "# 데이터 불러올때 thousands=',' -> 자리수 구분자를 읽는 방법 or replace로 대체"
   ]
  },
  {
   "cell_type": "markdown",
   "id": "445697a0",
   "metadata": {},
   "source": [
    "## 전처리 again"
   ]
  },
  {
   "cell_type": "code",
   "execution_count": 18,
   "id": "09def799",
   "metadata": {},
   "outputs": [
    {
     "data": {
      "text/plain": [
       "array(['구매확정', '주문취소', '미결제', '후불반려', '환불완료', '환불승인', '부분환불', '부분취소',\n",
       "       '상담취소', '교환완료', '상담형상품접수', '환불요청', '배송완료', '배송준비', '배송중', '시안확인요청',\n",
       "       '결제완료'], dtype=object)"
      ]
     },
     "execution_count": 18,
     "metadata": {},
     "output_type": "execute_result"
    }
   ],
   "source": [
    "df['처리상태'].unique()"
   ]
  },
  {
   "cell_type": "code",
   "execution_count": 19,
   "id": "3fd44f60",
   "metadata": {},
   "outputs": [],
   "source": [
    "df['처리상태_bin'] = df['처리상태'] == '구매확정'"
   ]
  },
  {
   "cell_type": "code",
   "execution_count": 21,
   "id": "d8e77de3",
   "metadata": {},
   "outputs": [
    {
     "data": {
      "text/plain": [
       "array([nan, '12개월', '1개월', '24개월', '6개월', '18개월'], dtype=object)"
      ]
     },
     "execution_count": 21,
     "metadata": {},
     "output_type": "execute_result"
    }
   ],
   "source": [
    "df['할부기간'].unique()\n",
    "# nan, 1개월 = 일시불로 처리"
   ]
  },
  {
   "cell_type": "code",
   "execution_count": 27,
   "id": "d84ffa85",
   "metadata": {},
   "outputs": [],
   "source": [
    "df['할부기간'] = df['할부기간'].fillna('1개월')\n",
    "# nan값은 서로 일치하지 않기때문에 1개월로 변경 후 처리"
   ]
  },
  {
   "cell_type": "code",
   "execution_count": 28,
   "id": "3ed444bd",
   "metadata": {},
   "outputs": [],
   "source": [
    "df['할부기간'] = df['할부기간'].apply(lambda x: '일시불' if x =='1개월' else x)"
   ]
  },
  {
   "cell_type": "code",
   "execution_count": 29,
   "id": "2872d179",
   "metadata": {},
   "outputs": [
    {
     "data": {
      "text/plain": [
       "array(['일시불', '12개월', '24개월', '6개월', '18개월'], dtype=object)"
      ]
     },
     "execution_count": 29,
     "metadata": {},
     "output_type": "execute_result"
    }
   ],
   "source": [
    "df['할부기간'].unique()"
   ]
  },
  {
   "cell_type": "code",
   "execution_count": 30,
   "id": "ddffbf8d",
   "metadata": {},
   "outputs": [],
   "source": [
    "# 할부기간 숫자로 바꾸기"
   ]
  },
  {
   "cell_type": "code",
   "execution_count": 32,
   "id": "e2614edb",
   "metadata": {},
   "outputs": [],
   "source": [
    "df['할부기간'] = df['할부기간'].apply(lambda x: '1개월' if x =='일시불' else x)"
   ]
  },
  {
   "cell_type": "code",
   "execution_count": 33,
   "id": "82bd3851",
   "metadata": {},
   "outputs": [
    {
     "data": {
      "text/plain": [
       "array(['1개월', '12개월', '24개월', '6개월', '18개월'], dtype=object)"
      ]
     },
     "execution_count": 33,
     "metadata": {},
     "output_type": "execute_result"
    }
   ],
   "source": [
    "df['할부기간'].unique()"
   ]
  },
  {
   "cell_type": "code",
   "execution_count": 34,
   "id": "15112be8",
   "metadata": {},
   "outputs": [],
   "source": [
    "df['할부기간'] = df['할부기간'].apply(lambda x: int(x.replace('개월','')))"
   ]
  },
  {
   "cell_type": "code",
   "execution_count": 35,
   "id": "2603d404",
   "metadata": {},
   "outputs": [
    {
     "data": {
      "text/plain": [
       "array([ 1, 12, 24,  6, 18], dtype=int64)"
      ]
     },
     "execution_count": 35,
     "metadata": {},
     "output_type": "execute_result"
    }
   ],
   "source": [
    "df['할부기간'].unique()"
   ]
  },
  {
   "cell_type": "code",
   "execution_count": 31,
   "id": "543e8216",
   "metadata": {},
   "outputs": [
    {
     "data": {
      "text/plain": [
       "array(['신용카드', '가상계좌', '후불', '무통장입금', nan, '신 + 포', '포인트', '신 + 적',\n",
       "       '신 + 적 + 포', '적 + 포', '웰컴마일', '신 + 웰컴', '적립금', '후 + 포',\n",
       "       '후 + 적 + 포', '후 + 적', '정 + 적', '정 + 적 + 포', '정기결제', '정 + 포',\n",
       "       '현금간편결제', '현 + 포', '현 + 적', '현 + 적 + 포', '-', ' + 포'], dtype=object)"
      ]
     },
     "execution_count": 31,
     "metadata": {},
     "output_type": "execute_result"
    }
   ],
   "source": [
    "# 결제방법 전처리\n",
    "df['결제방법'].unique()"
   ]
  },
  {
   "cell_type": "code",
   "execution_count": 36,
   "id": "fd165537",
   "metadata": {},
   "outputs": [],
   "source": [
    "# nan값을 - 으로 처리"
   ]
  },
  {
   "cell_type": "code",
   "execution_count": 37,
   "id": "29739688",
   "metadata": {},
   "outputs": [],
   "source": [
    "df['결제방법'] = df['결제방법'].fillna('-')"
   ]
  },
  {
   "cell_type": "code",
   "execution_count": 40,
   "id": "40d3ebe7",
   "metadata": {},
   "outputs": [],
   "source": [
    "# 머리글자만 표기\n",
    "df['결제방법'] = df['결제방법'].apply(lambda x: '-' if x[0] == ' ' else x[0])"
   ]
  },
  {
   "cell_type": "code",
   "execution_count": 41,
   "id": "d8522fa9",
   "metadata": {},
   "outputs": [
    {
     "data": {
      "text/plain": [
       "array(['신', '가', '후', '무', '-', '포', '적', '웰', '정', '현'], dtype=object)"
      ]
     },
     "execution_count": 41,
     "metadata": {},
     "output_type": "execute_result"
    }
   ],
   "source": [
    "df['결제방법'].unique()"
   ]
  },
  {
   "cell_type": "code",
   "execution_count": 42,
   "id": "58265c47",
   "metadata": {},
   "outputs": [
    {
     "data": {
      "text/html": [
       "<div>\n",
       "<style scoped>\n",
       "    .dataframe tbody tr th:only-of-type {\n",
       "        vertical-align: middle;\n",
       "    }\n",
       "\n",
       "    .dataframe tbody tr th {\n",
       "        vertical-align: top;\n",
       "    }\n",
       "\n",
       "    .dataframe thead th {\n",
       "        text-align: right;\n",
       "    }\n",
       "</style>\n",
       "<table border=\"1\" class=\"dataframe\">\n",
       "  <thead>\n",
       "    <tr style=\"text-align: right;\">\n",
       "      <th></th>\n",
       "      <th>주문번호</th>\n",
       "      <th>업체명</th>\n",
       "      <th>상품명</th>\n",
       "      <th>제조사</th>\n",
       "      <th>주문수량</th>\n",
       "      <th>판매금액</th>\n",
       "      <th>결제방법</th>\n",
       "      <th>주문일자</th>\n",
       "      <th>처리상태</th>\n",
       "      <th>초도상품</th>\n",
       "      <th>제작문구 내역</th>\n",
       "      <th>할부기간</th>\n",
       "      <th>처리상태_bin</th>\n",
       "    </tr>\n",
       "  </thead>\n",
       "  <tbody>\n",
       "    <tr>\n",
       "      <th>0</th>\n",
       "      <td>191213170236874</td>\n",
       "      <td>지니</td>\n",
       "      <td>eHBM셀파수학교실 비닐봉투-1세트 100장입</td>\n",
       "      <td>HB</td>\n",
       "      <td>1</td>\n",
       "      <td>5000</td>\n",
       "      <td>신</td>\n",
       "      <td>2019-12-13 17:03:37</td>\n",
       "      <td>구매확정</td>\n",
       "      <td>N</td>\n",
       "      <td>NaN</td>\n",
       "      <td>1</td>\n",
       "      <td>True</td>\n",
       "    </tr>\n",
       "    <tr>\n",
       "      <th>1</th>\n",
       "      <td>191216100347429</td>\n",
       "      <td>지니</td>\n",
       "      <td>eHBM셀파수학교실 비닐봉투-1세트 100장입</td>\n",
       "      <td>HB</td>\n",
       "      <td>1</td>\n",
       "      <td>5000</td>\n",
       "      <td>신</td>\n",
       "      <td>2019-12-16 10:04:50</td>\n",
       "      <td>구매확정</td>\n",
       "      <td>N</td>\n",
       "      <td>NaN</td>\n",
       "      <td>1</td>\n",
       "      <td>True</td>\n",
       "    </tr>\n",
       "    <tr>\n",
       "      <th>2</th>\n",
       "      <td>191216100347429</td>\n",
       "      <td>지니</td>\n",
       "      <td>eHBM셀파수학교실 삼색볼펜-1세트 50개입</td>\n",
       "      <td>HB</td>\n",
       "      <td>3</td>\n",
       "      <td>67500</td>\n",
       "      <td>신</td>\n",
       "      <td>2019-12-16 10:04:50</td>\n",
       "      <td>구매확정</td>\n",
       "      <td>N</td>\n",
       "      <td>NaN</td>\n",
       "      <td>1</td>\n",
       "      <td>True</td>\n",
       "    </tr>\n",
       "    <tr>\n",
       "      <th>3</th>\n",
       "      <td>191216173241622</td>\n",
       "      <td>지니</td>\n",
       "      <td>eHBM셀파수학교실 회원용 리플렛-1세트 50권입</td>\n",
       "      <td>HB</td>\n",
       "      <td>2</td>\n",
       "      <td>30000</td>\n",
       "      <td>신</td>\n",
       "      <td>2019-12-16 17:33:43</td>\n",
       "      <td>구매확정</td>\n",
       "      <td>N</td>\n",
       "      <td>NaN</td>\n",
       "      <td>1</td>\n",
       "      <td>True</td>\n",
       "    </tr>\n",
       "    <tr>\n",
       "      <th>4</th>\n",
       "      <td>191216173241622</td>\n",
       "      <td>지니</td>\n",
       "      <td>eHBM셀파수학교실-학습계통도(중등 5종)</td>\n",
       "      <td>HB</td>\n",
       "      <td>1</td>\n",
       "      <td>750</td>\n",
       "      <td>신</td>\n",
       "      <td>2019-12-16 17:33:43</td>\n",
       "      <td>구매확정</td>\n",
       "      <td>N</td>\n",
       "      <td>NaN</td>\n",
       "      <td>1</td>\n",
       "      <td>True</td>\n",
       "    </tr>\n",
       "    <tr>\n",
       "      <th>...</th>\n",
       "      <td>...</td>\n",
       "      <td>...</td>\n",
       "      <td>...</td>\n",
       "      <td>...</td>\n",
       "      <td>...</td>\n",
       "      <td>...</td>\n",
       "      <td>...</td>\n",
       "      <td>...</td>\n",
       "      <td>...</td>\n",
       "      <td>...</td>\n",
       "      <td>...</td>\n",
       "      <td>...</td>\n",
       "      <td>...</td>\n",
       "    </tr>\n",
       "    <tr>\n",
       "      <th>218596</th>\n",
       "      <td>221108104041264</td>\n",
       "      <td>에이스디포</td>\n",
       "      <td>입체 액자형 현판</td>\n",
       "      <td>에이스디포</td>\n",
       "      <td>1</td>\n",
       "      <td>35000</td>\n",
       "      <td>웰</td>\n",
       "      <td>2022-11-08 10:38:21</td>\n",
       "      <td>결제완료</td>\n",
       "      <td>Y</td>\n",
       "      <td>NaN</td>\n",
       "      <td>1</td>\n",
       "      <td>False</td>\n",
       "    </tr>\n",
       "    <tr>\n",
       "      <th>218597</th>\n",
       "      <td>221108104041264</td>\n",
       "      <td>에이스디포</td>\n",
       "      <td>아크릴 사인</td>\n",
       "      <td>HB</td>\n",
       "      <td>1</td>\n",
       "      <td>26900</td>\n",
       "      <td>웰</td>\n",
       "      <td>2022-11-08 10:38:21</td>\n",
       "      <td>결제완료</td>\n",
       "      <td>Y</td>\n",
       "      <td>NaN</td>\n",
       "      <td>1</td>\n",
       "      <td>False</td>\n",
       "    </tr>\n",
       "    <tr>\n",
       "      <th>218598</th>\n",
       "      <td>221108104536307</td>\n",
       "      <td>에이스디포</td>\n",
       "      <td>아크릴 사인</td>\n",
       "      <td>HB</td>\n",
       "      <td>1</td>\n",
       "      <td>26900</td>\n",
       "      <td>신</td>\n",
       "      <td>2022-11-08 10:43:15</td>\n",
       "      <td>배송준비</td>\n",
       "      <td>N</td>\n",
       "      <td>NaN</td>\n",
       "      <td>1</td>\n",
       "      <td>False</td>\n",
       "    </tr>\n",
       "    <tr>\n",
       "      <th>218599</th>\n",
       "      <td>221108104735216</td>\n",
       "      <td>다우기술</td>\n",
       "      <td>아이스 카페 아메리카노 T</td>\n",
       "      <td>스타벅스</td>\n",
       "      <td>1</td>\n",
       "      <td>4050</td>\n",
       "      <td>포</td>\n",
       "      <td>2022-11-08 10:45:14</td>\n",
       "      <td>배송완료</td>\n",
       "      <td>N</td>\n",
       "      <td>NaN</td>\n",
       "      <td>1</td>\n",
       "      <td>False</td>\n",
       "    </tr>\n",
       "    <tr>\n",
       "      <th>218600</th>\n",
       "      <td>221108105148171</td>\n",
       "      <td>다우기술</td>\n",
       "      <td>2차-신세계 상품권 모바일 교환권-1만원권</td>\n",
       "      <td>신세계</td>\n",
       "      <td>17</td>\n",
       "      <td>161500</td>\n",
       "      <td>신</td>\n",
       "      <td>2022-11-08 10:49:28</td>\n",
       "      <td>배송완료</td>\n",
       "      <td>N</td>\n",
       "      <td>NaN</td>\n",
       "      <td>1</td>\n",
       "      <td>False</td>\n",
       "    </tr>\n",
       "  </tbody>\n",
       "</table>\n",
       "<p>218601 rows × 13 columns</p>\n",
       "</div>"
      ],
      "text/plain": [
       "                   주문번호    업체명                          상품명    제조사  주문수량  \\\n",
       "0       191213170236874     지니    eHBM셀파수학교실 비닐봉투-1세트 100장입     HB     1   \n",
       "1       191216100347429     지니    eHBM셀파수학교실 비닐봉투-1세트 100장입     HB     1   \n",
       "2       191216100347429     지니     eHBM셀파수학교실 삼색볼펜-1세트 50개입     HB     3   \n",
       "3       191216173241622     지니  eHBM셀파수학교실 회원용 리플렛-1세트 50권입     HB     2   \n",
       "4       191216173241622     지니      eHBM셀파수학교실-학습계통도(중등 5종)     HB     1   \n",
       "...                 ...    ...                          ...    ...   ...   \n",
       "218596  221108104041264  에이스디포                    입체 액자형 현판  에이스디포     1   \n",
       "218597  221108104041264  에이스디포                       아크릴 사인     HB     1   \n",
       "218598  221108104536307  에이스디포                       아크릴 사인     HB     1   \n",
       "218599  221108104735216   다우기술               아이스 카페 아메리카노 T   스타벅스     1   \n",
       "218600  221108105148171   다우기술      2차-신세계 상품권 모바일 교환권-1만원권    신세계    17   \n",
       "\n",
       "          판매금액 결제방법                주문일자  처리상태 초도상품 제작문구 내역  할부기간  처리상태_bin  \n",
       "0         5000    신 2019-12-13 17:03:37  구매확정    N     NaN     1      True  \n",
       "1         5000    신 2019-12-16 10:04:50  구매확정    N     NaN     1      True  \n",
       "2        67500    신 2019-12-16 10:04:50  구매확정    N     NaN     1      True  \n",
       "3        30000    신 2019-12-16 17:33:43  구매확정    N     NaN     1      True  \n",
       "4          750    신 2019-12-16 17:33:43  구매확정    N     NaN     1      True  \n",
       "...        ...  ...                 ...   ...  ...     ...   ...       ...  \n",
       "218596   35000    웰 2022-11-08 10:38:21  결제완료    Y     NaN     1     False  \n",
       "218597   26900    웰 2022-11-08 10:38:21  결제완료    Y     NaN     1     False  \n",
       "218598   26900    신 2022-11-08 10:43:15  배송준비    N     NaN     1     False  \n",
       "218599    4050    포 2022-11-08 10:45:14  배송완료    N     NaN     1     False  \n",
       "218600  161500    신 2022-11-08 10:49:28  배송완료    N     NaN     1     False  \n",
       "\n",
       "[218601 rows x 13 columns]"
      ]
     },
     "execution_count": 42,
     "metadata": {},
     "output_type": "execute_result"
    }
   ],
   "source": [
    "df"
   ]
  },
  {
   "cell_type": "code",
   "execution_count": 44,
   "id": "69f296f6",
   "metadata": {},
   "outputs": [
    {
     "data": {
      "text/plain": [
       "Timestamp('2019-12-13 17:03:37')"
      ]
     },
     "execution_count": 44,
     "metadata": {},
     "output_type": "execute_result"
    }
   ],
   "source": [
    "df['주문일자'][0]"
   ]
  },
  {
   "cell_type": "code",
   "execution_count": 47,
   "id": "d946e3ae",
   "metadata": {},
   "outputs": [
    {
     "data": {
      "text/plain": [
       "Timedelta('1461 days 00:00:00')"
      ]
     },
     "execution_count": 47,
     "metadata": {},
     "output_type": "execute_result"
    }
   ],
   "source": [
    "pd.Timestamp('2023-01-01 05:00:00') - pd.Timestamp('2019-01-01 05:00:00')"
   ]
  },
  {
   "cell_type": "code",
   "execution_count": 49,
   "id": "3bbf07e6",
   "metadata": {},
   "outputs": [
    {
     "data": {
      "text/html": [
       "<div>\n",
       "<style scoped>\n",
       "    .dataframe tbody tr th:only-of-type {\n",
       "        vertical-align: middle;\n",
       "    }\n",
       "\n",
       "    .dataframe tbody tr th {\n",
       "        vertical-align: top;\n",
       "    }\n",
       "\n",
       "    .dataframe thead th {\n",
       "        text-align: right;\n",
       "    }\n",
       "</style>\n",
       "<table border=\"1\" class=\"dataframe\">\n",
       "  <thead>\n",
       "    <tr style=\"text-align: right;\">\n",
       "      <th></th>\n",
       "      <th>주문번호</th>\n",
       "      <th>업체명</th>\n",
       "      <th>상품명</th>\n",
       "      <th>제조사</th>\n",
       "      <th>주문수량</th>\n",
       "      <th>판매금액</th>\n",
       "      <th>결제방법</th>\n",
       "      <th>주문일자</th>\n",
       "      <th>처리상태</th>\n",
       "      <th>초도상품</th>\n",
       "      <th>제작문구 내역</th>\n",
       "      <th>할부기간</th>\n",
       "      <th>처리상태_bin</th>\n",
       "    </tr>\n",
       "  </thead>\n",
       "  <tbody>\n",
       "    <tr>\n",
       "      <th>218600</th>\n",
       "      <td>221108105148171</td>\n",
       "      <td>다우기술</td>\n",
       "      <td>2차-신세계 상품권 모바일 교환권-1만원권</td>\n",
       "      <td>신세계</td>\n",
       "      <td>17</td>\n",
       "      <td>161500</td>\n",
       "      <td>신</td>\n",
       "      <td>2022-11-08 10:49:28</td>\n",
       "      <td>배송완료</td>\n",
       "      <td>N</td>\n",
       "      <td>NaN</td>\n",
       "      <td>1</td>\n",
       "      <td>False</td>\n",
       "    </tr>\n",
       "    <tr>\n",
       "      <th>218599</th>\n",
       "      <td>221108104735216</td>\n",
       "      <td>다우기술</td>\n",
       "      <td>아이스 카페 아메리카노 T</td>\n",
       "      <td>스타벅스</td>\n",
       "      <td>1</td>\n",
       "      <td>4050</td>\n",
       "      <td>포</td>\n",
       "      <td>2022-11-08 10:45:14</td>\n",
       "      <td>배송완료</td>\n",
       "      <td>N</td>\n",
       "      <td>NaN</td>\n",
       "      <td>1</td>\n",
       "      <td>False</td>\n",
       "    </tr>\n",
       "    <tr>\n",
       "      <th>218598</th>\n",
       "      <td>221108104536307</td>\n",
       "      <td>에이스디포</td>\n",
       "      <td>아크릴 사인</td>\n",
       "      <td>HB</td>\n",
       "      <td>1</td>\n",
       "      <td>26900</td>\n",
       "      <td>신</td>\n",
       "      <td>2022-11-08 10:43:15</td>\n",
       "      <td>배송준비</td>\n",
       "      <td>N</td>\n",
       "      <td>NaN</td>\n",
       "      <td>1</td>\n",
       "      <td>False</td>\n",
       "    </tr>\n",
       "    <tr>\n",
       "      <th>218597</th>\n",
       "      <td>221108104041264</td>\n",
       "      <td>에이스디포</td>\n",
       "      <td>아크릴 사인</td>\n",
       "      <td>HB</td>\n",
       "      <td>1</td>\n",
       "      <td>26900</td>\n",
       "      <td>웰</td>\n",
       "      <td>2022-11-08 10:38:21</td>\n",
       "      <td>결제완료</td>\n",
       "      <td>Y</td>\n",
       "      <td>NaN</td>\n",
       "      <td>1</td>\n",
       "      <td>False</td>\n",
       "    </tr>\n",
       "    <tr>\n",
       "      <th>218596</th>\n",
       "      <td>221108104041264</td>\n",
       "      <td>에이스디포</td>\n",
       "      <td>입체 액자형 현판</td>\n",
       "      <td>에이스디포</td>\n",
       "      <td>1</td>\n",
       "      <td>35000</td>\n",
       "      <td>웰</td>\n",
       "      <td>2022-11-08 10:38:21</td>\n",
       "      <td>결제완료</td>\n",
       "      <td>Y</td>\n",
       "      <td>NaN</td>\n",
       "      <td>1</td>\n",
       "      <td>False</td>\n",
       "    </tr>\n",
       "    <tr>\n",
       "      <th>...</th>\n",
       "      <td>...</td>\n",
       "      <td>...</td>\n",
       "      <td>...</td>\n",
       "      <td>...</td>\n",
       "      <td>...</td>\n",
       "      <td>...</td>\n",
       "      <td>...</td>\n",
       "      <td>...</td>\n",
       "      <td>...</td>\n",
       "      <td>...</td>\n",
       "      <td>...</td>\n",
       "      <td>...</td>\n",
       "      <td>...</td>\n",
       "    </tr>\n",
       "    <tr>\n",
       "      <th>6</th>\n",
       "      <td>191216173241622</td>\n",
       "      <td>지니</td>\n",
       "      <td>eHBM셀파수학교실-연필(빨강)_1세트 50개입</td>\n",
       "      <td>HB</td>\n",
       "      <td>1</td>\n",
       "      <td>6000</td>\n",
       "      <td>신</td>\n",
       "      <td>2019-12-16 17:33:43</td>\n",
       "      <td>구매확정</td>\n",
       "      <td>N</td>\n",
       "      <td>NaN</td>\n",
       "      <td>1</td>\n",
       "      <td>True</td>\n",
       "    </tr>\n",
       "    <tr>\n",
       "      <th>7</th>\n",
       "      <td>191216173241622</td>\n",
       "      <td>지니</td>\n",
       "      <td>eHBM셀파수학교실-물티슈_1세트 100개입</td>\n",
       "      <td>HB</td>\n",
       "      <td>1</td>\n",
       "      <td>20000</td>\n",
       "      <td>신</td>\n",
       "      <td>2019-12-16 17:33:43</td>\n",
       "      <td>구매확정</td>\n",
       "      <td>N</td>\n",
       "      <td>NaN</td>\n",
       "      <td>1</td>\n",
       "      <td>True</td>\n",
       "    </tr>\n",
       "    <tr>\n",
       "      <th>2</th>\n",
       "      <td>191216100347429</td>\n",
       "      <td>지니</td>\n",
       "      <td>eHBM셀파수학교실 삼색볼펜-1세트 50개입</td>\n",
       "      <td>HB</td>\n",
       "      <td>3</td>\n",
       "      <td>67500</td>\n",
       "      <td>신</td>\n",
       "      <td>2019-12-16 10:04:50</td>\n",
       "      <td>구매확정</td>\n",
       "      <td>N</td>\n",
       "      <td>NaN</td>\n",
       "      <td>1</td>\n",
       "      <td>True</td>\n",
       "    </tr>\n",
       "    <tr>\n",
       "      <th>1</th>\n",
       "      <td>191216100347429</td>\n",
       "      <td>지니</td>\n",
       "      <td>eHBM셀파수학교실 비닐봉투-1세트 100장입</td>\n",
       "      <td>HB</td>\n",
       "      <td>1</td>\n",
       "      <td>5000</td>\n",
       "      <td>신</td>\n",
       "      <td>2019-12-16 10:04:50</td>\n",
       "      <td>구매확정</td>\n",
       "      <td>N</td>\n",
       "      <td>NaN</td>\n",
       "      <td>1</td>\n",
       "      <td>True</td>\n",
       "    </tr>\n",
       "    <tr>\n",
       "      <th>0</th>\n",
       "      <td>191213170236874</td>\n",
       "      <td>지니</td>\n",
       "      <td>eHBM셀파수학교실 비닐봉투-1세트 100장입</td>\n",
       "      <td>HB</td>\n",
       "      <td>1</td>\n",
       "      <td>5000</td>\n",
       "      <td>신</td>\n",
       "      <td>2019-12-13 17:03:37</td>\n",
       "      <td>구매확정</td>\n",
       "      <td>N</td>\n",
       "      <td>NaN</td>\n",
       "      <td>1</td>\n",
       "      <td>True</td>\n",
       "    </tr>\n",
       "  </tbody>\n",
       "</table>\n",
       "<p>218601 rows × 13 columns</p>\n",
       "</div>"
      ],
      "text/plain": [
       "                   주문번호    업체명                         상품명    제조사  주문수량  \\\n",
       "218600  221108105148171   다우기술     2차-신세계 상품권 모바일 교환권-1만원권    신세계    17   \n",
       "218599  221108104735216   다우기술              아이스 카페 아메리카노 T   스타벅스     1   \n",
       "218598  221108104536307  에이스디포                      아크릴 사인     HB     1   \n",
       "218597  221108104041264  에이스디포                      아크릴 사인     HB     1   \n",
       "218596  221108104041264  에이스디포                   입체 액자형 현판  에이스디포     1   \n",
       "...                 ...    ...                         ...    ...   ...   \n",
       "6       191216173241622     지니  eHBM셀파수학교실-연필(빨강)_1세트 50개입     HB     1   \n",
       "7       191216173241622     지니    eHBM셀파수학교실-물티슈_1세트 100개입     HB     1   \n",
       "2       191216100347429     지니    eHBM셀파수학교실 삼색볼펜-1세트 50개입     HB     3   \n",
       "1       191216100347429     지니   eHBM셀파수학교실 비닐봉투-1세트 100장입     HB     1   \n",
       "0       191213170236874     지니   eHBM셀파수학교실 비닐봉투-1세트 100장입     HB     1   \n",
       "\n",
       "          판매금액 결제방법                주문일자  처리상태 초도상품 제작문구 내역  할부기간  처리상태_bin  \n",
       "218600  161500    신 2022-11-08 10:49:28  배송완료    N     NaN     1     False  \n",
       "218599    4050    포 2022-11-08 10:45:14  배송완료    N     NaN     1     False  \n",
       "218598   26900    신 2022-11-08 10:43:15  배송준비    N     NaN     1     False  \n",
       "218597   26900    웰 2022-11-08 10:38:21  결제완료    Y     NaN     1     False  \n",
       "218596   35000    웰 2022-11-08 10:38:21  결제완료    Y     NaN     1     False  \n",
       "...        ...  ...                 ...   ...  ...     ...   ...       ...  \n",
       "6         6000    신 2019-12-16 17:33:43  구매확정    N     NaN     1      True  \n",
       "7        20000    신 2019-12-16 17:33:43  구매확정    N     NaN     1      True  \n",
       "2        67500    신 2019-12-16 10:04:50  구매확정    N     NaN     1      True  \n",
       "1         5000    신 2019-12-16 10:04:50  구매확정    N     NaN     1      True  \n",
       "0         5000    신 2019-12-13 17:03:37  구매확정    N     NaN     1      True  \n",
       "\n",
       "[218601 rows x 13 columns]"
      ]
     },
     "execution_count": 49,
     "metadata": {},
     "output_type": "execute_result"
    }
   ],
   "source": [
    "# F : count 하는겨\n",
    "# M : 얼마나 많이?\n",
    "df.sort_values('주문일자', ascending=False)"
   ]
  },
  {
   "cell_type": "code",
   "execution_count": 51,
   "id": "bc951ad9",
   "metadata": {
    "scrolled": true
   },
   "outputs": [
    {
     "data": {
      "text/plain": [
       "다우기술        85553\n",
       "지니          61835\n",
       "쥬크박스        18661\n",
       "에이스디포        8388\n",
       "오피스퀵         7173\n",
       "            ...  \n",
       "리체              4\n",
       "프린피아            4\n",
       "링커블테크놀러지        3\n",
       "한샘글로벌           3\n",
       "에어인             1\n",
       "Name: 업체명, Length: 89, dtype: int64"
      ]
     },
     "execution_count": 51,
     "metadata": {},
     "output_type": "execute_result"
    }
   ],
   "source": [
    "# 얼마나 자주?\n",
    "df['업체명'].value_counts()"
   ]
  },
  {
   "cell_type": "code",
   "execution_count": 52,
   "id": "eb416934",
   "metadata": {},
   "outputs": [
    {
     "name": "stderr",
     "output_type": "stream",
     "text": [
      "C:\\Users\\leah5\\AppData\\Local\\Temp\\ipykernel_8812\\3082033300.py:2: FutureWarning: The default value of numeric_only in DataFrameGroupBy.sum is deprecated. In a future version, numeric_only will default to False. Either specify numeric_only or select only columns which should be valid for the function.\n",
      "  df.groupby('업체명').sum().sort_values('판매금액',ascending=False)\n"
     ]
    },
    {
     "data": {
      "text/html": [
       "<div>\n",
       "<style scoped>\n",
       "    .dataframe tbody tr th:only-of-type {\n",
       "        vertical-align: middle;\n",
       "    }\n",
       "\n",
       "    .dataframe tbody tr th {\n",
       "        vertical-align: top;\n",
       "    }\n",
       "\n",
       "    .dataframe thead th {\n",
       "        text-align: right;\n",
       "    }\n",
       "</style>\n",
       "<table border=\"1\" class=\"dataframe\">\n",
       "  <thead>\n",
       "    <tr style=\"text-align: right;\">\n",
       "      <th></th>\n",
       "      <th>주문번호</th>\n",
       "      <th>주문수량</th>\n",
       "      <th>판매금액</th>\n",
       "      <th>할부기간</th>\n",
       "      <th>처리상태_bin</th>\n",
       "    </tr>\n",
       "    <tr>\n",
       "      <th>업체명</th>\n",
       "      <th></th>\n",
       "      <th></th>\n",
       "      <th></th>\n",
       "      <th></th>\n",
       "      <th></th>\n",
       "    </tr>\n",
       "  </thead>\n",
       "  <tbody>\n",
       "    <tr>\n",
       "      <th>다우기술</th>\n",
       "      <td>113306969066849808</td>\n",
       "      <td>231561</td>\n",
       "      <td>3687810416</td>\n",
       "      <td>85553</td>\n",
       "      <td>65981</td>\n",
       "    </tr>\n",
       "    <tr>\n",
       "      <th>천재태블릿</th>\n",
       "      <td>631096814603114872</td>\n",
       "      <td>5967</td>\n",
       "      <td>2362932000</td>\n",
       "      <td>8993</td>\n",
       "      <td>1772</td>\n",
       "    </tr>\n",
       "    <tr>\n",
       "      <th>지니 태블릿</th>\n",
       "      <td>311859783704791805</td>\n",
       "      <td>3714</td>\n",
       "      <td>1455928000</td>\n",
       "      <td>11202</td>\n",
       "      <td>1155</td>\n",
       "    </tr>\n",
       "    <tr>\n",
       "      <th>지니</th>\n",
       "      <td>-5433315132845871932</td>\n",
       "      <td>173369</td>\n",
       "      <td>1241881825</td>\n",
       "      <td>61835</td>\n",
       "      <td>44562</td>\n",
       "    </tr>\n",
       "    <tr>\n",
       "      <th>지니 태블릿(후불집행)</th>\n",
       "      <td>285890286193804950</td>\n",
       "      <td>2732</td>\n",
       "      <td>1081872000</td>\n",
       "      <td>1297</td>\n",
       "      <td>1209</td>\n",
       "    </tr>\n",
       "    <tr>\n",
       "      <th>...</th>\n",
       "      <td>...</td>\n",
       "      <td>...</td>\n",
       "      <td>...</td>\n",
       "      <td>...</td>\n",
       "      <td>...</td>\n",
       "    </tr>\n",
       "    <tr>\n",
       "      <th>한샘글로벌</th>\n",
       "      <td>663305405175798</td>\n",
       "      <td>7</td>\n",
       "      <td>93400</td>\n",
       "      <td>3</td>\n",
       "      <td>0</td>\n",
       "    </tr>\n",
       "    <tr>\n",
       "      <th>이선생자석교구</th>\n",
       "      <td>1607610728585356</td>\n",
       "      <td>8</td>\n",
       "      <td>86700</td>\n",
       "      <td>8</td>\n",
       "      <td>6</td>\n",
       "    </tr>\n",
       "    <tr>\n",
       "      <th>리체</th>\n",
       "      <td>884144556390321</td>\n",
       "      <td>4</td>\n",
       "      <td>78900</td>\n",
       "      <td>4</td>\n",
       "      <td>2</td>\n",
       "    </tr>\n",
       "    <tr>\n",
       "      <th>에어인</th>\n",
       "      <td>220519010016509</td>\n",
       "      <td>1</td>\n",
       "      <td>20900</td>\n",
       "      <td>1</td>\n",
       "      <td>0</td>\n",
       "    </tr>\n",
       "    <tr>\n",
       "      <th>프린피아</th>\n",
       "      <td>840428010870400</td>\n",
       "      <td>6</td>\n",
       "      <td>15840</td>\n",
       "      <td>4</td>\n",
       "      <td>4</td>\n",
       "    </tr>\n",
       "  </tbody>\n",
       "</table>\n",
       "<p>89 rows × 5 columns</p>\n",
       "</div>"
      ],
      "text/plain": [
       "                             주문번호    주문수량        판매금액   할부기간  처리상태_bin\n",
       "업체명                                                                   \n",
       "다우기술           113306969066849808  231561  3687810416  85553     65981\n",
       "천재태블릿          631096814603114872    5967  2362932000   8993      1772\n",
       "지니 태블릿         311859783704791805    3714  1455928000  11202      1155\n",
       "지니           -5433315132845871932  173369  1241881825  61835     44562\n",
       "지니 태블릿(후불집행)   285890286193804950    2732  1081872000   1297      1209\n",
       "...                           ...     ...         ...    ...       ...\n",
       "한샘글로벌             663305405175798       7       93400      3         0\n",
       "이선생자석교구          1607610728585356       8       86700      8         6\n",
       "리체                884144556390321       4       78900      4         2\n",
       "에어인               220519010016509       1       20900      1         0\n",
       "프린피아              840428010870400       6       15840      4         4\n",
       "\n",
       "[89 rows x 5 columns]"
      ]
     },
     "execution_count": 52,
     "metadata": {},
     "output_type": "execute_result"
    }
   ],
   "source": [
    "# 얼마나 많이?\n",
    "df.groupby('업체명').sum().sort_values('판매금액',ascending=False)"
   ]
  },
  {
   "cell_type": "code",
   "execution_count": 53,
   "id": "d2a6f3dc",
   "metadata": {},
   "outputs": [],
   "source": [
    "# 최종 순위는 각각 결과에 가중치를 주어서 스코어링을 하는 방법이 있음.\n",
    "# 여기서는 넘어간다. \n",
    "# 최종 결과는 1위 다우기술, 2위 어쩌구.... "
   ]
  },
  {
   "cell_type": "markdown",
   "id": "577aa9bb",
   "metadata": {},
   "source": [
    "## 문제 2번"
   ]
  },
  {
   "cell_type": "code",
   "execution_count": 57,
   "id": "c1fba9e1",
   "metadata": {},
   "outputs": [
    {
     "data": {
      "text/plain": [
       "12"
      ]
     },
     "execution_count": 57,
     "metadata": {},
     "output_type": "execute_result"
    }
   ],
   "source": [
    "df['주문일자'][0].month"
   ]
  },
  {
   "cell_type": "code",
   "execution_count": 58,
   "id": "e01a7fbf",
   "metadata": {},
   "outputs": [
    {
     "data": {
      "text/plain": [
       "Timestamp('2019-12-13 17:03:37')"
      ]
     },
     "execution_count": 58,
     "metadata": {},
     "output_type": "execute_result"
    }
   ],
   "source": [
    "df['주문일자'][0]"
   ]
  },
  {
   "cell_type": "code",
   "execution_count": 62,
   "id": "0fdee3c8",
   "metadata": {},
   "outputs": [],
   "source": [
    "year = df['주문일자'].apply(lambda x: x.year)"
   ]
  },
  {
   "cell_type": "code",
   "execution_count": 74,
   "id": "8a27e98e",
   "metadata": {},
   "outputs": [],
   "source": [
    "month = df['주문일자'].apply(lambda x: x.month)"
   ]
  },
  {
   "cell_type": "code",
   "execution_count": 64,
   "id": "a566af62",
   "metadata": {},
   "outputs": [],
   "source": [
    "import seaborn as sns\n",
    "import matplotlib.pyplot as plt\n",
    "import matplotlib as mlp\n",
    "\n",
    "plt.rc('font', family='Malgun Gothic')\n",
    "mlp.rcParams['axes.unicode_minus'] = False"
   ]
  },
  {
   "cell_type": "code",
   "execution_count": 72,
   "id": "9c75f530",
   "metadata": {},
   "outputs": [
    {
     "data": {
      "text/plain": [
       "<Axes: xlabel='주문일자', ylabel='판매금액'>"
      ]
     },
     "execution_count": 72,
     "metadata": {},
     "output_type": "execute_result"
    },
    {
     "data": {
      "image/png": "[encoded data removed]",
      "text/plain": [
       "<Figure size 640x480 with 1 Axes>"
      ]
     },
     "metadata": {},
     "output_type": "display_data"
    }
   ],
   "source": [
    "sns.barplot(x=year, y=df['판매금액'], color='skyblue')"
   ]
  },
  {
   "cell_type": "code",
   "execution_count": 75,
   "id": "f8815cba",
   "metadata": {},
   "outputs": [
    {
     "data": {
      "text/plain": [
       "<Axes: xlabel='주문일자', ylabel='판매금액'>"
      ]
     },
     "execution_count": 75,
     "metadata": {},
     "output_type": "execute_result"
    },
    {
     "data": {
      "image/png": "[encoded data removed]",
      "text/plain": [
       "<Figure size 640x480 with 1 Axes>"
      ]
     },
     "metadata": {},
     "output_type": "display_data"
    }
   ],
   "source": [
    "sns.barplot(x=month, y=df['판매금액'], color='skyblue')\n",
    "# 신학기 시즌에는 매출이 많고 5월은 어린이날,9월 10월 시즌 가을학기 시즌에는 수요가 별로 없다.\n",
    "# 학기중에는 매출이 크지 않다. 12월에도 크리스마스 시즌으로 약간의 매출이 오르지만 새해시즌만큼은 매출이\n",
    "# 오르지 않는 경향을 보이고 있다."
   ]
  },
  {
   "cell_type": "markdown",
   "id": "e2c3e3b6",
   "metadata": {},
   "source": [
    "### 2-b"
   ]
  },
  {
   "cell_type": "code",
   "execution_count": 80,
   "id": "e82e823e",
   "metadata": {},
   "outputs": [],
   "source": [
    "df2 = df[df['처리상태_bin']]"
   ]
  },
  {
   "cell_type": "code",
   "execution_count": 84,
   "id": "407c76fb",
   "metadata": {},
   "outputs": [
    {
     "name": "stderr",
     "output_type": "stream",
     "text": [
      "C:\\Users\\leah5\\AppData\\Local\\Temp\\ipykernel_8812\\4052857821.py:1: SettingWithCopyWarning: \n",
      "A value is trying to be set on a copy of a slice from a DataFrame.\n",
      "Try using .loc[row_indexer,col_indexer] = value instead\n",
      "\n",
      "See the caveats in the documentation: https://pandas.pydata.org/pandas-docs/stable/user_guide/indexing.html#returning-a-view-versus-a-copy\n",
      "  df2['월'] = df2['주문일자'].apply(lambda x: x.month)\n"
     ]
    }
   ],
   "source": [
    "df2['월'] = df2['주문일자'].apply(lambda x: x.month)"
   ]
  },
  {
   "cell_type": "code",
   "execution_count": 86,
   "id": "8867dd91",
   "metadata": {},
   "outputs": [],
   "source": [
    "df3 = df2[df2['할부기간'] == 1] # 할부기간이 일시불인 데이터"
   ]
  },
  {
   "cell_type": "code",
   "execution_count": 89,
   "id": "15419c1f",
   "metadata": {},
   "outputs": [
    {
     "name": "stderr",
     "output_type": "stream",
     "text": [
      "C:\\Users\\leah5\\AppData\\Local\\Temp\\ipykernel_8812\\3785316271.py:1: FutureWarning: The default value of numeric_only in DataFrameGroupBy.sum is deprecated. In a future version, numeric_only will default to False. Either specify numeric_only or select only columns which should be valid for the function.\n",
      "  df4 = df3.groupby('월').sum()['판매금액']\n"
     ]
    }
   ],
   "source": [
    "df4 = df3.groupby('월').sum()['판매금액']\n",
    "# 일시불 판매금액"
   ]
  },
  {
   "cell_type": "code",
   "execution_count": 92,
   "id": "f0976aba",
   "metadata": {},
   "outputs": [],
   "source": [
    "df5 = df2[df2['할부기간'] != 1] # 일시불 제외 데이터"
   ]
  },
  {
   "cell_type": "code",
   "execution_count": 112,
   "id": "5b34617b",
   "metadata": {},
   "outputs": [
    {
     "data": {
      "text/plain": [
       "월\n",
       "1      616908300\n",
       "2      782402825\n",
       "3      977181885\n",
       "4      626110808\n",
       "5     1056928970\n",
       "6      552251235\n",
       "7      514327990\n",
       "8      729582760\n",
       "9      711362140\n",
       "10     655030703\n",
       "11     454936874\n",
       "12     487545348\n",
       "Name: 판매금액, dtype: int64"
      ]
     },
     "execution_count": 112,
     "metadata": {},
     "output_type": "execute_result"
    }
   ],
   "source": [
    "df4"
   ]
  },
  {
   "cell_type": "code",
   "execution_count": 97,
   "id": "3c6162a1",
   "metadata": {},
   "outputs": [
    {
     "data": {
      "text/plain": [
       "25732     12\n",
       "25738     12\n",
       "25739     12\n",
       "25774     24\n",
       "25775     24\n",
       "          ..\n",
       "211390    18\n",
       "212433    18\n",
       "212630    12\n",
       "213502    12\n",
       "213509    12\n",
       "Name: 할부기간, Length: 1190, dtype: int64"
      ]
     },
     "execution_count": 97,
     "metadata": {},
     "output_type": "execute_result"
    }
   ],
   "source": [
    "df5['할부기간']"
   ]
  },
  {
   "cell_type": "code",
   "execution_count": 101,
   "id": "f7b0ef8a",
   "metadata": {},
   "outputs": [
    {
     "data": {
      "text/plain": [
       "Int64Index([ 25732,  25738,  25739,  25774,  25775,  25776,  25777,  25866,\n",
       "             25867,  25868,\n",
       "            ...\n",
       "            207456, 209717, 209816, 209977, 210957, 211390, 212433, 212630,\n",
       "            213502, 213509],\n",
       "           dtype='int64', length=1190)"
      ]
     },
     "execution_count": 101,
     "metadata": {},
     "output_type": "execute_result"
    }
   ],
   "source": [
    "df5.index"
   ]
  },
  {
   "cell_type": "code",
   "execution_count": 102,
   "id": "5f521a17",
   "metadata": {},
   "outputs": [
    {
     "data": {
      "text/plain": [
       "할부기간        12\n",
       "판매금액    768000\n",
       "월           10\n",
       "Name: 25732, dtype: object"
      ]
     },
     "execution_count": 102,
     "metadata": {},
     "output_type": "execute_result"
    }
   ],
   "source": [
    "df5.loc[25732,['할부기간','판매금액', '월']]"
   ]
  },
  {
   "cell_type": "code",
   "execution_count": 99,
   "id": "42006443",
   "metadata": {},
   "outputs": [],
   "source": [
    "for i in df5.index:\n",
    "    temp = df5.loc[i,['할부기간','판매금액', '월']]\n",
    "    month = temp['월']\n",
    "    \n",
    "    for j in range(1, temp['할부기간']+1):\n",
    "        k = month + j\n",
    "        \n",
    "        if k > 12:\n",
    "            k = month + j - 12\n",
    "            \n",
    "            if k > 12:\n",
    "                k -= 12\n",
    "                \n",
    "        df4.loc[k] += temp['판매금액'] / temp['할부기간']"
   ]
  },
  {
   "cell_type": "code",
   "execution_count": 100,
   "id": "d8d6464f",
   "metadata": {},
   "outputs": [
    {
     "data": {
      "text/plain": [
       "월\n",
       "1      616908300\n",
       "2      782402825\n",
       "3      977181885\n",
       "4      626110808\n",
       "5     1056928970\n",
       "6      552251235\n",
       "7      514327990\n",
       "8      729582760\n",
       "9      711362140\n",
       "10     655030703\n",
       "11     454936874\n",
       "12     487545348\n",
       "Name: 판매금액, dtype: int64"
      ]
     },
     "execution_count": 100,
     "metadata": {},
     "output_type": "execute_result"
    }
   ],
   "source": [
    "df4"
   ]
  },
  {
   "cell_type": "markdown",
   "id": "a30d02ff",
   "metadata": {},
   "source": [
    "## 문제 3번"
   ]
  },
  {
   "cell_type": "code",
   "execution_count": 104,
   "id": "8030e950",
   "metadata": {},
   "outputs": [
    {
     "data": {
      "text/html": [
       "<div>\n",
       "<style scoped>\n",
       "    .dataframe tbody tr th:only-of-type {\n",
       "        vertical-align: middle;\n",
       "    }\n",
       "\n",
       "    .dataframe tbody tr th {\n",
       "        vertical-align: top;\n",
       "    }\n",
       "\n",
       "    .dataframe thead th {\n",
       "        text-align: right;\n",
       "    }\n",
       "</style>\n",
       "<table border=\"1\" class=\"dataframe\">\n",
       "  <thead>\n",
       "    <tr style=\"text-align: right;\">\n",
       "      <th></th>\n",
       "      <th>주문번호</th>\n",
       "      <th>업체명</th>\n",
       "      <th>상품명</th>\n",
       "      <th>제조사</th>\n",
       "      <th>주문수량</th>\n",
       "      <th>판매금액</th>\n",
       "      <th>결제방법</th>\n",
       "      <th>주문일자</th>\n",
       "      <th>처리상태</th>\n",
       "      <th>초도상품</th>\n",
       "      <th>제작문구 내역</th>\n",
       "      <th>할부기간</th>\n",
       "      <th>처리상태_bin</th>\n",
       "    </tr>\n",
       "  </thead>\n",
       "  <tbody>\n",
       "    <tr>\n",
       "      <th>0</th>\n",
       "      <td>191213170236874</td>\n",
       "      <td>지니</td>\n",
       "      <td>eHBM셀파수학교실 비닐봉투-1세트 100장입</td>\n",
       "      <td>HB</td>\n",
       "      <td>1</td>\n",
       "      <td>5000</td>\n",
       "      <td>신</td>\n",
       "      <td>2019-12-13 17:03:37</td>\n",
       "      <td>구매확정</td>\n",
       "      <td>N</td>\n",
       "      <td>NaN</td>\n",
       "      <td>1</td>\n",
       "      <td>True</td>\n",
       "    </tr>\n",
       "    <tr>\n",
       "      <th>1</th>\n",
       "      <td>191216100347429</td>\n",
       "      <td>지니</td>\n",
       "      <td>eHBM셀파수학교실 비닐봉투-1세트 100장입</td>\n",
       "      <td>HB</td>\n",
       "      <td>1</td>\n",
       "      <td>5000</td>\n",
       "      <td>신</td>\n",
       "      <td>2019-12-16 10:04:50</td>\n",
       "      <td>구매확정</td>\n",
       "      <td>N</td>\n",
       "      <td>NaN</td>\n",
       "      <td>1</td>\n",
       "      <td>True</td>\n",
       "    </tr>\n",
       "    <tr>\n",
       "      <th>2</th>\n",
       "      <td>191216100347429</td>\n",
       "      <td>지니</td>\n",
       "      <td>eHBM셀파수학교실 삼색볼펜-1세트 50개입</td>\n",
       "      <td>HB</td>\n",
       "      <td>3</td>\n",
       "      <td>67500</td>\n",
       "      <td>신</td>\n",
       "      <td>2019-12-16 10:04:50</td>\n",
       "      <td>구매확정</td>\n",
       "      <td>N</td>\n",
       "      <td>NaN</td>\n",
       "      <td>1</td>\n",
       "      <td>True</td>\n",
       "    </tr>\n",
       "    <tr>\n",
       "      <th>3</th>\n",
       "      <td>191216173241622</td>\n",
       "      <td>지니</td>\n",
       "      <td>eHBM셀파수학교실 회원용 리플렛-1세트 50권입</td>\n",
       "      <td>HB</td>\n",
       "      <td>2</td>\n",
       "      <td>30000</td>\n",
       "      <td>신</td>\n",
       "      <td>2019-12-16 17:33:43</td>\n",
       "      <td>구매확정</td>\n",
       "      <td>N</td>\n",
       "      <td>NaN</td>\n",
       "      <td>1</td>\n",
       "      <td>True</td>\n",
       "    </tr>\n",
       "    <tr>\n",
       "      <th>4</th>\n",
       "      <td>191216173241622</td>\n",
       "      <td>지니</td>\n",
       "      <td>eHBM셀파수학교실-학습계통도(중등 5종)</td>\n",
       "      <td>HB</td>\n",
       "      <td>1</td>\n",
       "      <td>750</td>\n",
       "      <td>신</td>\n",
       "      <td>2019-12-16 17:33:43</td>\n",
       "      <td>구매확정</td>\n",
       "      <td>N</td>\n",
       "      <td>NaN</td>\n",
       "      <td>1</td>\n",
       "      <td>True</td>\n",
       "    </tr>\n",
       "    <tr>\n",
       "      <th>...</th>\n",
       "      <td>...</td>\n",
       "      <td>...</td>\n",
       "      <td>...</td>\n",
       "      <td>...</td>\n",
       "      <td>...</td>\n",
       "      <td>...</td>\n",
       "      <td>...</td>\n",
       "      <td>...</td>\n",
       "      <td>...</td>\n",
       "      <td>...</td>\n",
       "      <td>...</td>\n",
       "      <td>...</td>\n",
       "      <td>...</td>\n",
       "    </tr>\n",
       "    <tr>\n",
       "      <th>218596</th>\n",
       "      <td>221108104041264</td>\n",
       "      <td>에이스디포</td>\n",
       "      <td>입체 액자형 현판</td>\n",
       "      <td>에이스디포</td>\n",
       "      <td>1</td>\n",
       "      <td>35000</td>\n",
       "      <td>웰</td>\n",
       "      <td>2022-11-08 10:38:21</td>\n",
       "      <td>결제완료</td>\n",
       "      <td>Y</td>\n",
       "      <td>NaN</td>\n",
       "      <td>1</td>\n",
       "      <td>False</td>\n",
       "    </tr>\n",
       "    <tr>\n",
       "      <th>218597</th>\n",
       "      <td>221108104041264</td>\n",
       "      <td>에이스디포</td>\n",
       "      <td>아크릴 사인</td>\n",
       "      <td>HB</td>\n",
       "      <td>1</td>\n",
       "      <td>26900</td>\n",
       "      <td>웰</td>\n",
       "      <td>2022-11-08 10:38:21</td>\n",
       "      <td>결제완료</td>\n",
       "      <td>Y</td>\n",
       "      <td>NaN</td>\n",
       "      <td>1</td>\n",
       "      <td>False</td>\n",
       "    </tr>\n",
       "    <tr>\n",
       "      <th>218598</th>\n",
       "      <td>221108104536307</td>\n",
       "      <td>에이스디포</td>\n",
       "      <td>아크릴 사인</td>\n",
       "      <td>HB</td>\n",
       "      <td>1</td>\n",
       "      <td>26900</td>\n",
       "      <td>신</td>\n",
       "      <td>2022-11-08 10:43:15</td>\n",
       "      <td>배송준비</td>\n",
       "      <td>N</td>\n",
       "      <td>NaN</td>\n",
       "      <td>1</td>\n",
       "      <td>False</td>\n",
       "    </tr>\n",
       "    <tr>\n",
       "      <th>218599</th>\n",
       "      <td>221108104735216</td>\n",
       "      <td>다우기술</td>\n",
       "      <td>아이스 카페 아메리카노 T</td>\n",
       "      <td>스타벅스</td>\n",
       "      <td>1</td>\n",
       "      <td>4050</td>\n",
       "      <td>포</td>\n",
       "      <td>2022-11-08 10:45:14</td>\n",
       "      <td>배송완료</td>\n",
       "      <td>N</td>\n",
       "      <td>NaN</td>\n",
       "      <td>1</td>\n",
       "      <td>False</td>\n",
       "    </tr>\n",
       "    <tr>\n",
       "      <th>218600</th>\n",
       "      <td>221108105148171</td>\n",
       "      <td>다우기술</td>\n",
       "      <td>2차-신세계 상품권 모바일 교환권-1만원권</td>\n",
       "      <td>신세계</td>\n",
       "      <td>17</td>\n",
       "      <td>161500</td>\n",
       "      <td>신</td>\n",
       "      <td>2022-11-08 10:49:28</td>\n",
       "      <td>배송완료</td>\n",
       "      <td>N</td>\n",
       "      <td>NaN</td>\n",
       "      <td>1</td>\n",
       "      <td>False</td>\n",
       "    </tr>\n",
       "  </tbody>\n",
       "</table>\n",
       "<p>218601 rows × 13 columns</p>\n",
       "</div>"
      ],
      "text/plain": [
       "                   주문번호    업체명                          상품명    제조사  주문수량  \\\n",
       "0       191213170236874     지니    eHBM셀파수학교실 비닐봉투-1세트 100장입     HB     1   \n",
       "1       191216100347429     지니    eHBM셀파수학교실 비닐봉투-1세트 100장입     HB     1   \n",
       "2       191216100347429     지니     eHBM셀파수학교실 삼색볼펜-1세트 50개입     HB     3   \n",
       "3       191216173241622     지니  eHBM셀파수학교실 회원용 리플렛-1세트 50권입     HB     2   \n",
       "4       191216173241622     지니      eHBM셀파수학교실-학습계통도(중등 5종)     HB     1   \n",
       "...                 ...    ...                          ...    ...   ...   \n",
       "218596  221108104041264  에이스디포                    입체 액자형 현판  에이스디포     1   \n",
       "218597  221108104041264  에이스디포                       아크릴 사인     HB     1   \n",
       "218598  221108104536307  에이스디포                       아크릴 사인     HB     1   \n",
       "218599  221108104735216   다우기술               아이스 카페 아메리카노 T   스타벅스     1   \n",
       "218600  221108105148171   다우기술      2차-신세계 상품권 모바일 교환권-1만원권    신세계    17   \n",
       "\n",
       "          판매금액 결제방법                주문일자  처리상태 초도상품 제작문구 내역  할부기간  처리상태_bin  \n",
       "0         5000    신 2019-12-13 17:03:37  구매확정    N     NaN     1      True  \n",
       "1         5000    신 2019-12-16 10:04:50  구매확정    N     NaN     1      True  \n",
       "2        67500    신 2019-12-16 10:04:50  구매확정    N     NaN     1      True  \n",
       "3        30000    신 2019-12-16 17:33:43  구매확정    N     NaN     1      True  \n",
       "4          750    신 2019-12-16 17:33:43  구매확정    N     NaN     1      True  \n",
       "...        ...  ...                 ...   ...  ...     ...   ...       ...  \n",
       "218596   35000    웰 2022-11-08 10:38:21  결제완료    Y     NaN     1     False  \n",
       "218597   26900    웰 2022-11-08 10:38:21  결제완료    Y     NaN     1     False  \n",
       "218598   26900    신 2022-11-08 10:43:15  배송준비    N     NaN     1     False  \n",
       "218599    4050    포 2022-11-08 10:45:14  배송완료    N     NaN     1     False  \n",
       "218600  161500    신 2022-11-08 10:49:28  배송완료    N     NaN     1     False  \n",
       "\n",
       "[218601 rows x 13 columns]"
      ]
     },
     "execution_count": 104,
     "metadata": {},
     "output_type": "execute_result"
    }
   ],
   "source": [
    "# 각 분류별로 ttest를 하던지\n",
    "# anova를 하던지 등등\n",
    "df"
   ]
  },
  {
   "cell_type": "code",
   "execution_count": 106,
   "id": "1cc09bb3",
   "metadata": {},
   "outputs": [],
   "source": [
    "from statannot import add_stat_annotation\n",
    "# 상관관계분석은 결제방법은 안되므로 t-test로 함./ 숫자-숫자끼리만 사용"
   ]
  },
  {
   "cell_type": "code",
   "execution_count": 108,
   "id": "7e2ed13f",
   "metadata": {},
   "outputs": [
    {
     "name": "stdout",
     "output_type": "stream",
     "text": [
      "p-value annotation legend:\n",
      "ns: 5.00e-02 < p <= 1.00e+00\n",
      "*: 1.00e-02 < p <= 5.00e-02\n",
      "**: 1.00e-03 < p <= 1.00e-02\n",
      "***: 1.00e-04 < p <= 1.00e-03\n",
      "****: p <= 1.00e-04\n",
      "\n",
      "신 v.s. 가: t-test independent samples with Bonferroni correction, P_val=9.191e-01 stat=-1.015e-01\n"
     ]
    },
    {
     "data": {
      "text/plain": [
       "(<Axes: xlabel='결제방법', ylabel='판매금액'>,\n",
       " [<statannot.StatResult.StatResult at 0x25d3cc87910>])"
      ]
     },
     "execution_count": 108,
     "metadata": {},
     "output_type": "execute_result"
    },
    {
     "data": {
      "image/png": "[encoded data removed]",
      "text/plain": [
       "<Figure size 640x480 with 1 Axes>"
      ]
     },
     "metadata": {},
     "output_type": "display_data"
    }
   ],
   "source": [
    "fig = sns.stripplot(data=df, x='결제방법', y='판매금액')\n",
    "add_stat_annotation(ax=fig, data=df, x='결제방법', y='판매금액',\n",
    "                   box_pairs=[(('신','가'))],\n",
    "                   test='t-test_ind')\n",
    "#  포인트, 적립금, 웰컴포인트는 현행법상 200만원 이상 보유x 이므로 제한이 있음\n",
    "# 그래프를 보면 분포적으로 차이가 있어보이지는 않음\n",
    "# 해당 가설이 귀각될 확률이 90퍼센트다. 즉 대립가설이 90퍼센트 이상 틀렸다.\n",
    "# p-value = 두 그룹이 다르다는 걸 귀각할 확률\n",
    "# 결론: 시각상으로 가장 차이가 많이나는 것 두개의 ttest결과가 서로 분포가 차이가 없다는 것이므로 '결제방법'과 '판매금액' 사이에는 차이가 없다고 판단."
   ]
  },
  {
   "cell_type": "code",
   "execution_count": 109,
   "id": "dfa06f07",
   "metadata": {},
   "outputs": [
    {
     "name": "stdout",
     "output_type": "stream",
     "text": [
      "p-value annotation legend:\n",
      "ns: 5.00e-02 < p <= 1.00e+00\n",
      "*: 1.00e-02 < p <= 5.00e-02\n",
      "**: 1.00e-03 < p <= 1.00e-02\n",
      "***: 1.00e-04 < p <= 1.00e-03\n",
      "****: p <= 1.00e-04\n",
      "\n",
      "신 v.s. 가: t-test independent samples with Bonferroni correction, P_val=1.000e+00 stat=-1.015e-01\n",
      "가 v.s. 후: t-test independent samples with Bonferroni correction, P_val=1.428e-12 stat=-7.420e+00\n"
     ]
    },
    {
     "data": {
      "text/plain": [
       "(<Axes: xlabel='결제방법', ylabel='판매금액'>,\n",
       " [<statannot.StatResult.StatResult at 0x25d416064d0>,\n",
       "  <statannot.StatResult.StatResult at 0x25d41628070>])"
      ]
     },
     "execution_count": 109,
     "metadata": {},
     "output_type": "execute_result"
    },
    {
     "data": {
      "image/png": "[encoded data removed]",
      "text/plain": [
       "<Figure size 640x480 with 1 Axes>"
      ]
     },
     "metadata": {},
     "output_type": "display_data"
    }
   ],
   "source": [
    "fig = sns.stripplot(data=df, x='결제방법', y='판매금액')\n",
    "add_stat_annotation(ax=fig, data=df, x='결제방법', y='판매금액',\n",
    "                   box_pairs=[(('신','가')),(('가','후'))],\n",
    "                   test='t-test_ind')\n",
    "\n",
    "# 샘플차이가 남에 따라 p-value 결과가 다를 수 있음.\n",
    "# 그렇다고 해서 이 전체 그룹이 서로 차이가 있다고 말할 수 는 없음.\n",
    "# 가 - 후 해석: 후불 결제와 가상계좌로 결제한 것은 차이가 있다고 볼 수 있다. 후불 결제보다 가상계좌로의 수단이 더 판매금액이 적게 나오므로 후불로 결제하도록 유도한다.\n"
   ]
  },
  {
   "cell_type": "code",
   "execution_count": null,
   "id": "18b0ccdc",
   "metadata": {},
   "outputs": [],
   "source": []
  }
 ],
 "metadata": {
  "kernelspec": {
   "display_name": "Python 3 (ipykernel)",
   "language": "python",
   "name": "python3"
  },
  "language_info": {
   "codemirror_mode": {
    "name": "ipython",
    "version": 3
   },
   "file_extension": ".py",
   "mimetype": "text/x-python",
   "name": "python",
   "nbconvert_exporter": "python",
   "pygments_lexer": "ipython3",
   "version": "3.10.9"
  }
 },
 "nbformat": 4,
 "nbformat_minor": 5
}
