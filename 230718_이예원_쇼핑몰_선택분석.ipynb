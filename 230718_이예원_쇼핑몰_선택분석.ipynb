{
 "cells": [
  {
   "cell_type": "markdown",
   "id": "23569d32",
   "metadata": {},
   "source": [
    "### 매출 시각화2\n",
    "1. 최대 매출 상품 3종류 집계\n",
    "1. 주문 연도에 따른 해당 상품의 매출 증감 분석"
   ]
  },
  {
   "cell_type": "code",
   "execution_count": 1,
   "id": "92c49050",
   "metadata": {},
   "outputs": [],
   "source": [
    "import pandas as pd\n",
    "import matplotlib.pyplot as plt\n",
    "# -' 깨짐 해결'\n",
    "import matplotlib as mpl\n",
    "mpl.rcParams['axes.unicode_minus'] = False\n",
    "import seaborn as sns\n",
    "from scipy import stats\n",
    "# 한글 깨짐 해결\n",
    "plt.rc('font', family='Malgun Gothic')"
   ]
  },
  {
   "cell_type": "markdown",
   "id": "22c91624",
   "metadata": {},
   "source": [
    "1. 최대 매출 상품 3종류 집계"
   ]
  },
  {
   "cell_type": "code",
   "execution_count": 2,
   "id": "1099471c",
   "metadata": {},
   "outputs": [],
   "source": [
    "df = pd.read_excel(\"미니프로젝트-쇼핑몰 실습데이터.xlsx\")"
   ]
  },
  {
   "cell_type": "code",
   "execution_count": 3,
   "id": "a9a648a3",
   "metadata": {},
   "outputs": [
    {
     "data": {
      "text/html": [
       "<div>\n",
       "<style scoped>\n",
       "    .dataframe tbody tr th:only-of-type {\n",
       "        vertical-align: middle;\n",
       "    }\n",
       "\n",
       "    .dataframe tbody tr th {\n",
       "        vertical-align: top;\n",
       "    }\n",
       "\n",
       "    .dataframe thead th {\n",
       "        text-align: right;\n",
       "    }\n",
       "</style>\n",
       "<table border=\"1\" class=\"dataframe\">\n",
       "  <thead>\n",
       "    <tr style=\"text-align: right;\">\n",
       "      <th></th>\n",
       "      <th>주문번호</th>\n",
       "      <th>업체명</th>\n",
       "      <th>상품명</th>\n",
       "      <th>제조사</th>\n",
       "      <th>주문수량</th>\n",
       "      <th>판매금액</th>\n",
       "      <th>결제방법</th>\n",
       "      <th>주문일자</th>\n",
       "      <th>처리상태</th>\n",
       "      <th>초도상품</th>\n",
       "      <th>제작문구 내역</th>\n",
       "      <th>할부기간</th>\n",
       "    </tr>\n",
       "  </thead>\n",
       "  <tbody>\n",
       "    <tr>\n",
       "      <th>0</th>\n",
       "      <td>191213170236874</td>\n",
       "      <td>지니</td>\n",
       "      <td>eHBM셀파수학교실 비닐봉투-1세트 100장입</td>\n",
       "      <td>HB</td>\n",
       "      <td>1</td>\n",
       "      <td>5000</td>\n",
       "      <td>신용카드</td>\n",
       "      <td>2019-12-13 17:03:37</td>\n",
       "      <td>구매확정</td>\n",
       "      <td>N</td>\n",
       "      <td>NaN</td>\n",
       "      <td>NaN</td>\n",
       "    </tr>\n",
       "    <tr>\n",
       "      <th>1</th>\n",
       "      <td>191216100347429</td>\n",
       "      <td>지니</td>\n",
       "      <td>eHBM셀파수학교실 비닐봉투-1세트 100장입</td>\n",
       "      <td>HB</td>\n",
       "      <td>1</td>\n",
       "      <td>5000</td>\n",
       "      <td>신용카드</td>\n",
       "      <td>2019-12-16 10:04:50</td>\n",
       "      <td>구매확정</td>\n",
       "      <td>N</td>\n",
       "      <td>NaN</td>\n",
       "      <td>NaN</td>\n",
       "    </tr>\n",
       "    <tr>\n",
       "      <th>2</th>\n",
       "      <td>191216100347429</td>\n",
       "      <td>지니</td>\n",
       "      <td>eHBM셀파수학교실 삼색볼펜-1세트 50개입</td>\n",
       "      <td>HB</td>\n",
       "      <td>3</td>\n",
       "      <td>67500</td>\n",
       "      <td>신용카드</td>\n",
       "      <td>2019-12-16 10:04:50</td>\n",
       "      <td>구매확정</td>\n",
       "      <td>N</td>\n",
       "      <td>NaN</td>\n",
       "      <td>NaN</td>\n",
       "    </tr>\n",
       "    <tr>\n",
       "      <th>3</th>\n",
       "      <td>191216173241622</td>\n",
       "      <td>지니</td>\n",
       "      <td>eHBM셀파수학교실 회원용 리플렛-1세트 50권입</td>\n",
       "      <td>HB</td>\n",
       "      <td>2</td>\n",
       "      <td>30000</td>\n",
       "      <td>신용카드</td>\n",
       "      <td>2019-12-16 17:33:43</td>\n",
       "      <td>구매확정</td>\n",
       "      <td>N</td>\n",
       "      <td>NaN</td>\n",
       "      <td>NaN</td>\n",
       "    </tr>\n",
       "    <tr>\n",
       "      <th>4</th>\n",
       "      <td>191216173241622</td>\n",
       "      <td>지니</td>\n",
       "      <td>eHBM셀파수학교실-학습계통도(중등 5종)</td>\n",
       "      <td>HB</td>\n",
       "      <td>1</td>\n",
       "      <td>750</td>\n",
       "      <td>신용카드</td>\n",
       "      <td>2019-12-16 17:33:43</td>\n",
       "      <td>구매확정</td>\n",
       "      <td>N</td>\n",
       "      <td>NaN</td>\n",
       "      <td>NaN</td>\n",
       "    </tr>\n",
       "  </tbody>\n",
       "</table>\n",
       "</div>"
      ],
      "text/plain": [
       "              주문번호 업체명                          상품명 제조사  주문수량   판매금액  결제방법  \\\n",
       "0  191213170236874  지니    eHBM셀파수학교실 비닐봉투-1세트 100장입  HB     1   5000  신용카드   \n",
       "1  191216100347429  지니    eHBM셀파수학교실 비닐봉투-1세트 100장입  HB     1   5000  신용카드   \n",
       "2  191216100347429  지니     eHBM셀파수학교실 삼색볼펜-1세트 50개입  HB     3  67500  신용카드   \n",
       "3  191216173241622  지니  eHBM셀파수학교실 회원용 리플렛-1세트 50권입  HB     2  30000  신용카드   \n",
       "4  191216173241622  지니      eHBM셀파수학교실-학습계통도(중등 5종)  HB     1    750  신용카드   \n",
       "\n",
       "                 주문일자  처리상태 초도상품 제작문구 내역 할부기간  \n",
       "0 2019-12-13 17:03:37  구매확정    N     NaN  NaN  \n",
       "1 2019-12-16 10:04:50  구매확정    N     NaN  NaN  \n",
       "2 2019-12-16 10:04:50  구매확정    N     NaN  NaN  \n",
       "3 2019-12-16 17:33:43  구매확정    N     NaN  NaN  \n",
       "4 2019-12-16 17:33:43  구매확정    N     NaN  NaN  "
      ]
     },
     "execution_count": 3,
     "metadata": {},
     "output_type": "execute_result"
    }
   ],
   "source": [
    "df.head()"
   ]
  },
  {
   "cell_type": "code",
   "execution_count": 48,
   "id": "bed74a48",
   "metadata": {},
   "outputs": [],
   "source": [
    "# df2: 처리상태 = 구매확정 데이터, 구매확정은 교환, 환불이 안된다고 가정\n",
    "df2 = df[df['처리상태'] == '구매확정']"
   ]
  },
  {
   "cell_type": "code",
   "execution_count": 49,
   "id": "149be580",
   "metadata": {},
   "outputs": [
    {
     "name": "stderr",
     "output_type": "stream",
     "text": [
      "C:\\Users\\leah5\\AppData\\Local\\Temp\\ipykernel_12320\\133083514.py:3: SettingWithCopyWarning: \n",
      "A value is trying to be set on a copy of a slice from a DataFrame\n",
      "\n",
      "See the caveats in the documentation: https://pandas.pydata.org/pandas-docs/stable/user_guide/indexing.html#returning-a-view-versus-a-copy\n",
      "  df2.dropna(subset=['상품명'], inplace=True)\n"
     ]
    }
   ],
   "source": [
    "# 상품명 칼럼에서 결측치 제거\n",
    "# 상품 종류가 너무 많으므로 나머지는 분석을 진행하면서 전처리 실시\n",
    "df2.dropna(subset=['상품명'], inplace=True)"
   ]
  },
  {
   "cell_type": "code",
   "execution_count": 44,
   "id": "84c4be6a",
   "metadata": {},
   "outputs": [
    {
     "data": {
      "text/plain": [
       "0"
      ]
     },
     "execution_count": 44,
     "metadata": {},
     "output_type": "execute_result"
    }
   ],
   "source": [
    "df2['상품명'].isna().sum()"
   ]
  },
  {
   "cell_type": "code",
   "execution_count": 45,
   "id": "4cfe69bd",
   "metadata": {},
   "outputs": [],
   "source": [
    "# 판매금액에 따른 상품명 알아보기\n",
    "a = df2.groupby('상품명')"
   ]
  },
  {
   "cell_type": "code",
   "execution_count": 46,
   "id": "8b08b04e",
   "metadata": {},
   "outputs": [
    {
     "name": "stderr",
     "output_type": "stream",
     "text": [
      "C:\\Users\\leah5\\AppData\\Local\\Temp\\ipykernel_12320\\1857184311.py:1: FutureWarning: The default value of numeric_only in DataFrameGroupBy.sum is deprecated. In a future version, numeric_only will default to False. Either specify numeric_only or select only columns which should be valid for the function.\n",
      "  a.sum().sort_values(by='판매금액', ascending=False)\n"
     ]
    },
    {
     "data": {
      "text/html": [
       "<div>\n",
       "<style scoped>\n",
       "    .dataframe tbody tr th:only-of-type {\n",
       "        vertical-align: middle;\n",
       "    }\n",
       "\n",
       "    .dataframe tbody tr th {\n",
       "        vertical-align: top;\n",
       "    }\n",
       "\n",
       "    .dataframe thead th {\n",
       "        text-align: right;\n",
       "    }\n",
       "</style>\n",
       "<table border=\"1\" class=\"dataframe\">\n",
       "  <thead>\n",
       "    <tr style=\"text-align: right;\">\n",
       "      <th></th>\n",
       "      <th>주문번호</th>\n",
       "      <th>주문수량</th>\n",
       "      <th>판매금액</th>\n",
       "    </tr>\n",
       "    <tr>\n",
       "      <th>상품명</th>\n",
       "      <th></th>\n",
       "      <th></th>\n",
       "      <th></th>\n",
       "    </tr>\n",
       "  </thead>\n",
       "  <tbody>\n",
       "    <tr>\n",
       "      <th>[신세계] 신세계 상품권-4만원권</th>\n",
       "      <td>394634624151914615</td>\n",
       "      <td>17758</td>\n",
       "      <td>681907200</td>\n",
       "    </tr>\n",
       "    <tr>\n",
       "      <th>[지사전용] 스마트 HBE-학습 전용 태블릿-후불</th>\n",
       "      <td>143507175424292587</td>\n",
       "      <td>1450</td>\n",
       "      <td>574200000</td>\n",
       "    </tr>\n",
       "    <tr>\n",
       "      <th>[스마트 HBE] 학습 전용 태블릿-일반결제</th>\n",
       "      <td>136840165579455392</td>\n",
       "      <td>1196</td>\n",
       "      <td>473616000</td>\n",
       "    </tr>\n",
       "    <tr>\n",
       "      <th>[스마트 HBE] 학습 전용 태블릿-정기결제</th>\n",
       "      <td>92494844162658298</td>\n",
       "      <td>1148</td>\n",
       "      <td>454608000</td>\n",
       "    </tr>\n",
       "    <tr>\n",
       "      <th>[지사전용] 스마트 HBM-학습 전용 태블릿-후불</th>\n",
       "      <td>122987382541638402</td>\n",
       "      <td>1080</td>\n",
       "      <td>427680000</td>\n",
       "    </tr>\n",
       "    <tr>\n",
       "      <th>...</th>\n",
       "      <td>...</td>\n",
       "      <td>...</td>\n",
       "      <td>...</td>\n",
       "    </tr>\n",
       "    <tr>\n",
       "      <th>[사무용품] 화신 캇타날(소)</th>\n",
       "      <td>200820111746184</td>\n",
       "      <td>1</td>\n",
       "      <td>240</td>\n",
       "    </tr>\n",
       "    <tr>\n",
       "      <th>[운영비특가] 모나미-형광펜 에딩슈퍼600-색상선택</th>\n",
       "      <td>211123095458563</td>\n",
       "      <td>1</td>\n",
       "      <td>200</td>\n",
       "    </tr>\n",
       "    <tr>\n",
       "      <th>[신학기 사무용품 특가] 트룹런던 제본용 스테플(10호침)</th>\n",
       "      <td>210318152512587</td>\n",
       "      <td>1</td>\n",
       "      <td>190</td>\n",
       "    </tr>\n",
       "    <tr>\n",
       "      <th>[해법 어워즈 특가] 해법중국어-니하오 한쯔 8급 한자 포스터</th>\n",
       "      <td>211220124200240</td>\n",
       "      <td>1</td>\n",
       "      <td>150</td>\n",
       "    </tr>\n",
       "    <tr>\n",
       "      <th>[스마트 HBM] 회원모집-채우자 족자 현수막_황율리아나님 전용</th>\n",
       "      <td>210319090937572</td>\n",
       "      <td>1</td>\n",
       "      <td>0</td>\n",
       "    </tr>\n",
       "  </tbody>\n",
       "</table>\n",
       "<p>11973 rows × 3 columns</p>\n",
       "</div>"
      ],
      "text/plain": [
       "                                                   주문번호   주문수량       판매금액\n",
       "상품명                                                                      \n",
       "[신세계] 신세계 상품권-4만원권                   394634624151914615  17758  681907200\n",
       "[지사전용] 스마트 HBE-학습 전용 태블릿-후불          143507175424292587   1450  574200000\n",
       "[스마트 HBE] 학습 전용 태블릿-일반결제             136840165579455392   1196  473616000\n",
       "[스마트 HBE] 학습 전용 태블릿-정기결제              92494844162658298   1148  454608000\n",
       "[지사전용] 스마트 HBM-학습 전용 태블릿-후불          122987382541638402   1080  427680000\n",
       "...                                                 ...    ...        ...\n",
       "[사무용품] 화신 캇타날(소)                        200820111746184      1        240\n",
       "[운영비특가] 모나미-형광펜 에딩슈퍼600-색상선택            211123095458563      1        200\n",
       "[신학기 사무용품 특가] 트룹런던 제본용 스테플(10호침)        210318152512587      1        190\n",
       "[해법 어워즈 특가] 해법중국어-니하오 한쯔 8급 한자 포스터      211220124200240      1        150\n",
       "[스마트 HBM] 회원모집-채우자 족자 현수막_황율리아나님 전용     210319090937572      1          0\n",
       "\n",
       "[11973 rows x 3 columns]"
      ]
     },
     "execution_count": 46,
     "metadata": {},
     "output_type": "execute_result"
    }
   ],
   "source": [
    "a.sum().sort_values(by='판매금액', ascending=False)"
   ]
  },
  {
   "cell_type": "markdown",
   "id": "6ac77d2b",
   "metadata": {},
   "source": [
    "2. 주문 연도에 따른 해당 상품의 매출 증감 분석"
   ]
  },
  {
   "cell_type": "code",
   "execution_count": 55,
   "id": "1118b87e",
   "metadata": {},
   "outputs": [],
   "source": [
    "# 여러개의 조건을 마스킹하는 법\n",
    "df3 = df2[[i in ['[신세계] 신세계 상품권-4만원권','[지사전용] 스마트 HBE-학습 전용 태블릿-후불','[스마트 HBE] 학습 전용 태블릿-일반결제']\n",
    "          for i in df2['상품명']]]"
   ]
  },
  {
   "cell_type": "code",
   "execution_count": 56,
   "id": "8bee3e4e",
   "metadata": {},
   "outputs": [
    {
     "data": {
      "text/plain": [
       "array(['[신세계] 신세계 상품권-4만원권', '[스마트 HBE] 학습 전용 태블릿-일반결제',\n",
       "       '[지사전용] 스마트 HBE-학습 전용 태블릿-후불'], dtype=object)"
      ]
     },
     "execution_count": 56,
     "metadata": {},
     "output_type": "execute_result"
    }
   ],
   "source": [
    "df3['상품명'].unique()"
   ]
  },
  {
   "cell_type": "code",
   "execution_count": 58,
   "id": "cbfed9c2",
   "metadata": {},
   "outputs": [
    {
     "name": "stderr",
     "output_type": "stream",
     "text": [
      "C:\\Users\\leah5\\AppData\\Local\\Temp\\ipykernel_12320\\3379427526.py:2: SettingWithCopyWarning: \n",
      "A value is trying to be set on a copy of a slice from a DataFrame.\n",
      "Try using .loc[row_indexer,col_indexer] = value instead\n",
      "\n",
      "See the caveats in the documentation: https://pandas.pydata.org/pandas-docs/stable/user_guide/indexing.html#returning-a-view-versus-a-copy\n",
      "  df3['연도'] = df3['주문일자'].dt.strftime('%Y')\n"
     ]
    }
   ],
   "source": [
    "# 연도별 분류\n",
    "df3['연도'] = df3['주문일자'].dt.strftime('%Y')"
   ]
  },
  {
   "cell_type": "code",
   "execution_count": 68,
   "id": "60a642f2",
   "metadata": {},
   "outputs": [
    {
     "data": {
      "text/html": [
       "<div>\n",
       "<style scoped>\n",
       "    .dataframe tbody tr th:only-of-type {\n",
       "        vertical-align: middle;\n",
       "    }\n",
       "\n",
       "    .dataframe tbody tr th {\n",
       "        vertical-align: top;\n",
       "    }\n",
       "\n",
       "    .dataframe thead th {\n",
       "        text-align: right;\n",
       "    }\n",
       "</style>\n",
       "<table border=\"1\" class=\"dataframe\">\n",
       "  <thead>\n",
       "    <tr style=\"text-align: right;\">\n",
       "      <th></th>\n",
       "      <th>주문번호</th>\n",
       "      <th>업체명</th>\n",
       "      <th>상품명</th>\n",
       "      <th>제조사</th>\n",
       "      <th>주문수량</th>\n",
       "      <th>판매금액</th>\n",
       "      <th>결제방법</th>\n",
       "      <th>주문일자</th>\n",
       "      <th>처리상태</th>\n",
       "      <th>초도상품</th>\n",
       "      <th>제작문구 내역</th>\n",
       "      <th>할부기간</th>\n",
       "      <th>연도</th>\n",
       "    </tr>\n",
       "  </thead>\n",
       "  <tbody>\n",
       "    <tr>\n",
       "      <th>27922</th>\n",
       "      <td>201103155752352</td>\n",
       "      <td>다우기술</td>\n",
       "      <td>[신세계] 신세계 상품권-4만원권</td>\n",
       "      <td>신세계</td>\n",
       "      <td>1</td>\n",
       "      <td>38400</td>\n",
       "      <td>신용카드</td>\n",
       "      <td>2020-11-03 15:57:28</td>\n",
       "      <td>구매확정</td>\n",
       "      <td>N</td>\n",
       "      <td>NaN</td>\n",
       "      <td>NaN</td>\n",
       "      <td>2020</td>\n",
       "    </tr>\n",
       "    <tr>\n",
       "      <th>29088</th>\n",
       "      <td>201109152747195</td>\n",
       "      <td>다우기술</td>\n",
       "      <td>[신세계] 신세계 상품권-4만원권</td>\n",
       "      <td>신세계</td>\n",
       "      <td>1</td>\n",
       "      <td>38400</td>\n",
       "      <td>신 + 적</td>\n",
       "      <td>2020-11-09 15:27:22</td>\n",
       "      <td>구매확정</td>\n",
       "      <td>N</td>\n",
       "      <td>NaN</td>\n",
       "      <td>NaN</td>\n",
       "      <td>2020</td>\n",
       "    </tr>\n",
       "    <tr>\n",
       "      <th>29562</th>\n",
       "      <td>201113093039249</td>\n",
       "      <td>다우기술</td>\n",
       "      <td>[신세계] 신세계 상품권-4만원권</td>\n",
       "      <td>신세계</td>\n",
       "      <td>1</td>\n",
       "      <td>38400</td>\n",
       "      <td>신 + 적</td>\n",
       "      <td>2020-11-13 09:30:13</td>\n",
       "      <td>구매확정</td>\n",
       "      <td>N</td>\n",
       "      <td>NaN</td>\n",
       "      <td>NaN</td>\n",
       "      <td>2020</td>\n",
       "    </tr>\n",
       "    <tr>\n",
       "      <th>29833</th>\n",
       "      <td>201116224140602</td>\n",
       "      <td>다우기술</td>\n",
       "      <td>[신세계] 신세계 상품권-4만원권</td>\n",
       "      <td>신세계</td>\n",
       "      <td>15</td>\n",
       "      <td>576000</td>\n",
       "      <td>신 + 적</td>\n",
       "      <td>2020-11-16 22:41:14</td>\n",
       "      <td>구매확정</td>\n",
       "      <td>N</td>\n",
       "      <td>NaN</td>\n",
       "      <td>NaN</td>\n",
       "      <td>2020</td>\n",
       "    </tr>\n",
       "    <tr>\n",
       "      <th>30233</th>\n",
       "      <td>201119213407565</td>\n",
       "      <td>다우기술</td>\n",
       "      <td>[신세계] 신세계 상품권-4만원권</td>\n",
       "      <td>신세계</td>\n",
       "      <td>5</td>\n",
       "      <td>192000</td>\n",
       "      <td>신용카드</td>\n",
       "      <td>2020-11-19 21:33:40</td>\n",
       "      <td>구매확정</td>\n",
       "      <td>N</td>\n",
       "      <td>NaN</td>\n",
       "      <td>NaN</td>\n",
       "      <td>2020</td>\n",
       "    </tr>\n",
       "  </tbody>\n",
       "</table>\n",
       "</div>"
      ],
      "text/plain": [
       "                  주문번호   업체명                 상품명  제조사  주문수량    판매금액   결제방법  \\\n",
       "27922  201103155752352  다우기술  [신세계] 신세계 상품권-4만원권  신세계     1   38400   신용카드   \n",
       "29088  201109152747195  다우기술  [신세계] 신세계 상품권-4만원권  신세계     1   38400  신 + 적   \n",
       "29562  201113093039249  다우기술  [신세계] 신세계 상품권-4만원권  신세계     1   38400  신 + 적   \n",
       "29833  201116224140602  다우기술  [신세계] 신세계 상품권-4만원권  신세계    15  576000  신 + 적   \n",
       "30233  201119213407565  다우기술  [신세계] 신세계 상품권-4만원권  신세계     5  192000   신용카드   \n",
       "\n",
       "                     주문일자  처리상태 초도상품 제작문구 내역 할부기간    연도  \n",
       "27922 2020-11-03 15:57:28  구매확정    N     NaN  NaN  2020  \n",
       "29088 2020-11-09 15:27:22  구매확정    N     NaN  NaN  2020  \n",
       "29562 2020-11-13 09:30:13  구매확정    N     NaN  NaN  2020  \n",
       "29833 2020-11-16 22:41:14  구매확정    N     NaN  NaN  2020  \n",
       "30233 2020-11-19 21:33:40  구매확정    N     NaN  NaN  2020  "
      ]
     },
     "execution_count": 68,
     "metadata": {},
     "output_type": "execute_result"
    }
   ],
   "source": [
    "df3.head()"
   ]
  },
  {
   "cell_type": "code",
   "execution_count": 63,
   "id": "977c433d",
   "metadata": {},
   "outputs": [
    {
     "data": {
      "text/plain": [
       "<Axes: xlabel='연도', ylabel='판매금액'>"
      ]
     },
     "execution_count": 63,
     "metadata": {},
     "output_type": "execute_result"
    },
    {
     "data": {
      "image/png": "[encoded data removed]",
      "text/plain": [
       "<Figure size 640x480 with 1 Axes>"
      ]
     },
     "metadata": {},
     "output_type": "display_data"
    }
   ],
   "source": [
    "sns.barplot(data=df3, x='연도', y='판매금액', hue='상품명')"
   ]
  },
  {
   "cell_type": "markdown",
   "id": "6d7be17e",
   "metadata": {},
   "source": [
    "### 연관성 분석\n",
    "1. 주문한 달과 판매금액의 상관관계 분석"
   ]
  },
  {
   "cell_type": "code",
   "execution_count": 71,
   "id": "033ff7b5",
   "metadata": {},
   "outputs": [
    {
     "data": {
      "text/html": [
       "<div>\n",
       "<style scoped>\n",
       "    .dataframe tbody tr th:only-of-type {\n",
       "        vertical-align: middle;\n",
       "    }\n",
       "\n",
       "    .dataframe tbody tr th {\n",
       "        vertical-align: top;\n",
       "    }\n",
       "\n",
       "    .dataframe thead th {\n",
       "        text-align: right;\n",
       "    }\n",
       "</style>\n",
       "<table border=\"1\" class=\"dataframe\">\n",
       "  <thead>\n",
       "    <tr style=\"text-align: right;\">\n",
       "      <th></th>\n",
       "      <th>주문번호</th>\n",
       "      <th>업체명</th>\n",
       "      <th>상품명</th>\n",
       "      <th>제조사</th>\n",
       "      <th>주문수량</th>\n",
       "      <th>판매금액</th>\n",
       "      <th>결제방법</th>\n",
       "      <th>주문일자</th>\n",
       "      <th>처리상태</th>\n",
       "      <th>초도상품</th>\n",
       "      <th>제작문구 내역</th>\n",
       "      <th>할부기간</th>\n",
       "    </tr>\n",
       "  </thead>\n",
       "  <tbody>\n",
       "    <tr>\n",
       "      <th>0</th>\n",
       "      <td>191213170236874</td>\n",
       "      <td>지니</td>\n",
       "      <td>eHBM셀파수학교실 비닐봉투-1세트 100장입</td>\n",
       "      <td>HB</td>\n",
       "      <td>1</td>\n",
       "      <td>5000</td>\n",
       "      <td>신용카드</td>\n",
       "      <td>2019-12-13 17:03:37</td>\n",
       "      <td>구매확정</td>\n",
       "      <td>N</td>\n",
       "      <td>NaN</td>\n",
       "      <td>NaN</td>\n",
       "    </tr>\n",
       "    <tr>\n",
       "      <th>1</th>\n",
       "      <td>191216100347429</td>\n",
       "      <td>지니</td>\n",
       "      <td>eHBM셀파수학교실 비닐봉투-1세트 100장입</td>\n",
       "      <td>HB</td>\n",
       "      <td>1</td>\n",
       "      <td>5000</td>\n",
       "      <td>신용카드</td>\n",
       "      <td>2019-12-16 10:04:50</td>\n",
       "      <td>구매확정</td>\n",
       "      <td>N</td>\n",
       "      <td>NaN</td>\n",
       "      <td>NaN</td>\n",
       "    </tr>\n",
       "    <tr>\n",
       "      <th>2</th>\n",
       "      <td>191216100347429</td>\n",
       "      <td>지니</td>\n",
       "      <td>eHBM셀파수학교실 삼색볼펜-1세트 50개입</td>\n",
       "      <td>HB</td>\n",
       "      <td>3</td>\n",
       "      <td>67500</td>\n",
       "      <td>신용카드</td>\n",
       "      <td>2019-12-16 10:04:50</td>\n",
       "      <td>구매확정</td>\n",
       "      <td>N</td>\n",
       "      <td>NaN</td>\n",
       "      <td>NaN</td>\n",
       "    </tr>\n",
       "    <tr>\n",
       "      <th>3</th>\n",
       "      <td>191216173241622</td>\n",
       "      <td>지니</td>\n",
       "      <td>eHBM셀파수학교실 회원용 리플렛-1세트 50권입</td>\n",
       "      <td>HB</td>\n",
       "      <td>2</td>\n",
       "      <td>30000</td>\n",
       "      <td>신용카드</td>\n",
       "      <td>2019-12-16 17:33:43</td>\n",
       "      <td>구매확정</td>\n",
       "      <td>N</td>\n",
       "      <td>NaN</td>\n",
       "      <td>NaN</td>\n",
       "    </tr>\n",
       "    <tr>\n",
       "      <th>4</th>\n",
       "      <td>191216173241622</td>\n",
       "      <td>지니</td>\n",
       "      <td>eHBM셀파수학교실-학습계통도(중등 5종)</td>\n",
       "      <td>HB</td>\n",
       "      <td>1</td>\n",
       "      <td>750</td>\n",
       "      <td>신용카드</td>\n",
       "      <td>2019-12-16 17:33:43</td>\n",
       "      <td>구매확정</td>\n",
       "      <td>N</td>\n",
       "      <td>NaN</td>\n",
       "      <td>NaN</td>\n",
       "    </tr>\n",
       "  </tbody>\n",
       "</table>\n",
       "</div>"
      ],
      "text/plain": [
       "              주문번호 업체명                          상품명 제조사  주문수량   판매금액  결제방법  \\\n",
       "0  191213170236874  지니    eHBM셀파수학교실 비닐봉투-1세트 100장입  HB     1   5000  신용카드   \n",
       "1  191216100347429  지니    eHBM셀파수학교실 비닐봉투-1세트 100장입  HB     1   5000  신용카드   \n",
       "2  191216100347429  지니     eHBM셀파수학교실 삼색볼펜-1세트 50개입  HB     3  67500  신용카드   \n",
       "3  191216173241622  지니  eHBM셀파수학교실 회원용 리플렛-1세트 50권입  HB     2  30000  신용카드   \n",
       "4  191216173241622  지니      eHBM셀파수학교실-학습계통도(중등 5종)  HB     1    750  신용카드   \n",
       "\n",
       "                 주문일자  처리상태 초도상품 제작문구 내역 할부기간  \n",
       "0 2019-12-13 17:03:37  구매확정    N     NaN  NaN  \n",
       "1 2019-12-16 10:04:50  구매확정    N     NaN  NaN  \n",
       "2 2019-12-16 10:04:50  구매확정    N     NaN  NaN  \n",
       "3 2019-12-16 17:33:43  구매확정    N     NaN  NaN  \n",
       "4 2019-12-16 17:33:43  구매확정    N     NaN  NaN  "
      ]
     },
     "execution_count": 71,
     "metadata": {},
     "output_type": "execute_result"
    }
   ],
   "source": [
    "df2.head()"
   ]
  },
  {
   "cell_type": "code",
   "execution_count": 72,
   "id": "3bfbc04b",
   "metadata": {},
   "outputs": [
    {
     "name": "stderr",
     "output_type": "stream",
     "text": [
      "C:\\Users\\leah5\\AppData\\Local\\Temp\\ipykernel_12320\\3969925964.py:2: SettingWithCopyWarning: \n",
      "A value is trying to be set on a copy of a slice from a DataFrame.\n",
      "Try using .loc[row_indexer,col_indexer] = value instead\n",
      "\n",
      "See the caveats in the documentation: https://pandas.pydata.org/pandas-docs/stable/user_guide/indexing.html#returning-a-view-versus-a-copy\n",
      "  df2['월별'] = df2['주문일자'].dt.strftime('%m')\n"
     ]
    }
   ],
   "source": [
    "# 연도별 분류\n",
    "df2['월별'] = df2['주문일자'].dt.strftime('%m')"
   ]
  },
  {
   "cell_type": "code",
   "execution_count": 74,
   "id": "a8177cc7",
   "metadata": {},
   "outputs": [],
   "source": [
    "# 주문한 달과 결제금액의 연관성 분석 (카이제곱검정 실시)\n",
    "# df_cor = 주문한 달과 판매금액 변수만 있는 데이터프레임\n",
    "df_cor = df2[['월별', '판매금액']]"
   ]
  },
  {
   "cell_type": "code",
   "execution_count": 75,
   "id": "571dac45",
   "metadata": {},
   "outputs": [
    {
     "data": {
      "text/html": [
       "<div>\n",
       "<style scoped>\n",
       "    .dataframe tbody tr th:only-of-type {\n",
       "        vertical-align: middle;\n",
       "    }\n",
       "\n",
       "    .dataframe tbody tr th {\n",
       "        vertical-align: top;\n",
       "    }\n",
       "\n",
       "    .dataframe thead th {\n",
       "        text-align: right;\n",
       "    }\n",
       "</style>\n",
       "<table border=\"1\" class=\"dataframe\">\n",
       "  <thead>\n",
       "    <tr style=\"text-align: right;\">\n",
       "      <th></th>\n",
       "      <th>월별</th>\n",
       "      <th>판매금액</th>\n",
       "    </tr>\n",
       "  </thead>\n",
       "  <tbody>\n",
       "    <tr>\n",
       "      <th>0</th>\n",
       "      <td>12</td>\n",
       "      <td>5000</td>\n",
       "    </tr>\n",
       "    <tr>\n",
       "      <th>1</th>\n",
       "      <td>12</td>\n",
       "      <td>5000</td>\n",
       "    </tr>\n",
       "    <tr>\n",
       "      <th>2</th>\n",
       "      <td>12</td>\n",
       "      <td>67500</td>\n",
       "    </tr>\n",
       "    <tr>\n",
       "      <th>3</th>\n",
       "      <td>12</td>\n",
       "      <td>30000</td>\n",
       "    </tr>\n",
       "    <tr>\n",
       "      <th>4</th>\n",
       "      <td>12</td>\n",
       "      <td>750</td>\n",
       "    </tr>\n",
       "    <tr>\n",
       "      <th>...</th>\n",
       "      <td>...</td>\n",
       "      <td>...</td>\n",
       "    </tr>\n",
       "    <tr>\n",
       "      <th>217852</th>\n",
       "      <td>11</td>\n",
       "      <td>19200</td>\n",
       "    </tr>\n",
       "    <tr>\n",
       "      <th>217914</th>\n",
       "      <td>11</td>\n",
       "      <td>2550</td>\n",
       "    </tr>\n",
       "    <tr>\n",
       "      <th>217927</th>\n",
       "      <td>11</td>\n",
       "      <td>1800</td>\n",
       "    </tr>\n",
       "    <tr>\n",
       "      <th>217938</th>\n",
       "      <td>11</td>\n",
       "      <td>3400</td>\n",
       "    </tr>\n",
       "    <tr>\n",
       "      <th>217940</th>\n",
       "      <td>11</td>\n",
       "      <td>1300</td>\n",
       "    </tr>\n",
       "  </tbody>\n",
       "</table>\n",
       "<p>159227 rows × 2 columns</p>\n",
       "</div>"
      ],
      "text/plain": [
       "        월별   판매금액\n",
       "0       12   5000\n",
       "1       12   5000\n",
       "2       12  67500\n",
       "3       12  30000\n",
       "4       12    750\n",
       "...     ..    ...\n",
       "217852  11  19200\n",
       "217914  11   2550\n",
       "217927  11   1800\n",
       "217938  11   3400\n",
       "217940  11   1300\n",
       "\n",
       "[159227 rows x 2 columns]"
      ]
     },
     "execution_count": 75,
     "metadata": {},
     "output_type": "execute_result"
    }
   ],
   "source": [
    "df_cor"
   ]
  },
  {
   "cell_type": "code",
   "execution_count": 76,
   "id": "c0874b56",
   "metadata": {},
   "outputs": [
    {
     "data": {
      "text/plain": [
       "SignificanceResult(statistic=-0.017409669209219616, pvalue=3.718235116022454e-12)"
      ]
     },
     "execution_count": 76,
     "metadata": {},
     "output_type": "execute_result"
    }
   ],
   "source": [
    "stats.spearmanr(df_cor['월별'],df_cor['판매금액'])\n",
    "# p < 0.05 이므로 귀무가설 기각\n",
    "# 두 변수 사이에 연관성이 있다."
   ]
  },
  {
   "cell_type": "code",
   "execution_count": 77,
   "id": "ee248f6c",
   "metadata": {},
   "outputs": [
    {
     "data": {
      "text/plain": [
       "<Axes: xlabel='월별', ylabel='판매금액'>"
      ]
     },
     "execution_count": 77,
     "metadata": {},
     "output_type": "execute_result"
    },
    {
     "data": {
      "image/png": "[encoded data removed]",
      "text/plain": [
       "<Figure size 640x480 with 1 Axes>"
      ]
     },
     "metadata": {},
     "output_type": "display_data"
    }
   ],
   "source": [
    "sns.scatterplot(x=df_cor['월별'],y=df_cor['판매금액'])"
   ]
  },
  {
   "cell_type": "code",
   "execution_count": null,
   "id": "78306f31",
   "metadata": {},
   "outputs": [],
   "source": []
  }
 ],
 "metadata": {
  "kernelspec": {
   "display_name": "Python 3 (ipykernel)",
   "language": "python",
   "name": "python3"
  },
  "language_info": {
   "codemirror_mode": {
    "name": "ipython",
    "version": 3
   },
   "file_extension": ".py",
   "mimetype": "text/x-python",
   "name": "python",
   "nbconvert_exporter": "python",
   "pygments_lexer": "ipython3",
   "version": "3.10.9"
  }
 },
 "nbformat": 4,
 "nbformat_minor": 5
}
